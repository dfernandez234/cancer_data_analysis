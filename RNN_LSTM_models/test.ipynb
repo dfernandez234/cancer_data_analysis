{
 "metadata": {
  "language_info": {
   "codemirror_mode": {
    "name": "ipython",
    "version": 3
   },
   "file_extension": ".py",
   "mimetype": "text/x-python",
   "name": "python",
   "nbconvert_exporter": "python",
   "pygments_lexer": "ipython3",
   "version": "3.8.3"
  },
  "orig_nbformat": 2,
  "kernelspec": {
   "name": "python383jvsc74a57bd0ed225720166559e7176d3793db16a2fd8d295f725007103b21ac3099d2a89ee8",
   "display_name": "Python 3.8.3 64-bit ('base': conda)",
   "language": "python"
  }
 },
 "nbformat": 4,
 "nbformat_minor": 2,
 "cells": [
  {
   "cell_type": "code",
   "execution_count": 1,
   "metadata": {},
   "outputs": [],
   "source": [
    "import math\n",
    "import numpy as np \n",
    "import pandas as pd \n",
    "import tensorflow as tf\n",
    "from sklearn.preprocessing import MinMaxScaler\n",
    "from keras.models import Sequential\n",
    "from keras.layers import Dense, LSTM, Bidirectional, Dropout, Conv1D, Lambda, SimpleRNN\n",
    "import matplotlib.pyplot as plt \n",
    "import pandas_datareader as web\n",
    "import statsmodels.api as sm  \n",
    "plt.style.use('fivethirtyeight')"
   ]
  },
  {
   "cell_type": "code",
   "execution_count": 4,
   "metadata": {},
   "outputs": [
    {
     "output_type": "execute_result",
     "data": {
      "text/plain": [
       "'c:\\\\Users\\\\David Fernandez\\\\Desktop\\\\cancerDataAnalysis\\\\codec\\\\TotalCleanedTest.csv'"
      ]
     },
     "metadata": {},
     "execution_count": 4
    }
   ],
   "source": [
    "from os.path import dirname\n",
    "dirPath = dirname(os.getcwd())+\"\\codec\\TotalCleanedTest.csv\"\n",
    "dirPath"
   ]
  },
  {
   "cell_type": "code",
   "execution_count": 6,
   "metadata": {},
   "outputs": [
    {
     "output_type": "execute_result",
     "data": {
      "text/plain": [
       "  ent_regis    ent_regis_nm  mun_regis               mun_regis_nm ent_resid  \\\n",
       "0        01  Aguascalientes       1005                Jesus Maria        01   \n",
       "1        01  Aguascalientes       1011  San Francisco de los Romo        01   \n",
       "2        01  Aguascalientes       1003                   Calvillo        01   \n",
       "3        01  Aguascalientes       1001             Aguascalientes        01   \n",
       "4        01  Aguascalientes       1001             Aguascalientes        01   \n",
       "\n",
       "     ent_resid_nm  mun_resid               mun_resid_nm ent_ocurr  \\\n",
       "0  Aguascalientes       1005                Jesus Maria        01   \n",
       "1  Aguascalientes       1011  San Francisco de los Romo        01   \n",
       "2  Aguascalientes       1001             Aguascalientes        01   \n",
       "3  Aguascalientes       1001             Aguascalientes        01   \n",
       "4  Aguascalientes       1001             Aguascalientes        01   \n",
       "\n",
       "     ent_ocurr_nm  ...  complicaro lengua  ICD  \\\n",
       "0  Aguascalientes  ...           8      9  C34   \n",
       "1  Aguascalientes  ...           8      9  C71   \n",
       "2  Aguascalientes  ...           8      9  C67   \n",
       "3  Aguascalientes  ...           8      9  C56   \n",
       "4  Aguascalientes  ...           8      9  C25   \n",
       "\n",
       "                                          detailCaus     Organ  ICD_Mex  \\\n",
       "0  Tumor maligno de los bronquios o del pulmón, p...     Lungs      C34   \n",
       "1  Tumor maligno del encéfalo, parte no especificada     Brain      C71   \n",
       "2  Tumor maligno de la vejiga urinaria, parte no ...   Bladder      C67   \n",
       "3                           Tumor maligno del ovario     Ovary      C56   \n",
       "4  Tumor maligno del páncreas, parte no especificada  Pancreas      C25   \n",
       "\n",
       "                                      detailCaus_Mex  organ_Mex  date_ocurr  \\\n",
       "0  Tumor maligno de la tráquea, de los bronquios ...      Lungs  2012-03-06   \n",
       "1                         Tumor maligno del encéfalo      Brain  2012-02-25   \n",
       "2                Tumor maligno de la vejiga urinaria    Bladder  2012-04-28   \n",
       "3                           Tumor maligno del ovario      Ovary  2012-07-26   \n",
       "4                         Tumor maligno del páncreas   Pancreas  2012-01-11   \n",
       "\n",
       "   month_year_ocurr  \n",
       "0        2012-03-01  \n",
       "1        2012-02-01  \n",
       "2        2012-04-01  \n",
       "3        2012-07-01  \n",
       "4        2012-01-01  \n",
       "\n",
       "[5 rows x 42 columns]"
      ],
      "text/html": "<div>\n<style scoped>\n    .dataframe tbody tr th:only-of-type {\n        vertical-align: middle;\n    }\n\n    .dataframe tbody tr th {\n        vertical-align: top;\n    }\n\n    .dataframe thead th {\n        text-align: right;\n    }\n</style>\n<table border=\"1\" class=\"dataframe\">\n  <thead>\n    <tr style=\"text-align: right;\">\n      <th></th>\n      <th>ent_regis</th>\n      <th>ent_regis_nm</th>\n      <th>mun_regis</th>\n      <th>mun_regis_nm</th>\n      <th>ent_resid</th>\n      <th>ent_resid_nm</th>\n      <th>mun_resid</th>\n      <th>mun_resid_nm</th>\n      <th>ent_ocurr</th>\n      <th>ent_ocurr_nm</th>\n      <th>...</th>\n      <th>complicaro</th>\n      <th>lengua</th>\n      <th>ICD</th>\n      <th>detailCaus</th>\n      <th>Organ</th>\n      <th>ICD_Mex</th>\n      <th>detailCaus_Mex</th>\n      <th>organ_Mex</th>\n      <th>date_ocurr</th>\n      <th>month_year_ocurr</th>\n    </tr>\n  </thead>\n  <tbody>\n    <tr>\n      <th>0</th>\n      <td>01</td>\n      <td>Aguascalientes</td>\n      <td>1005</td>\n      <td>Jesus Maria</td>\n      <td>01</td>\n      <td>Aguascalientes</td>\n      <td>1005</td>\n      <td>Jesus Maria</td>\n      <td>01</td>\n      <td>Aguascalientes</td>\n      <td>...</td>\n      <td>8</td>\n      <td>9</td>\n      <td>C34</td>\n      <td>Tumor maligno de los bronquios o del pulmón, p...</td>\n      <td>Lungs</td>\n      <td>C34</td>\n      <td>Tumor maligno de la tráquea, de los bronquios ...</td>\n      <td>Lungs</td>\n      <td>2012-03-06</td>\n      <td>2012-03-01</td>\n    </tr>\n    <tr>\n      <th>1</th>\n      <td>01</td>\n      <td>Aguascalientes</td>\n      <td>1011</td>\n      <td>San Francisco de los Romo</td>\n      <td>01</td>\n      <td>Aguascalientes</td>\n      <td>1011</td>\n      <td>San Francisco de los Romo</td>\n      <td>01</td>\n      <td>Aguascalientes</td>\n      <td>...</td>\n      <td>8</td>\n      <td>9</td>\n      <td>C71</td>\n      <td>Tumor maligno del encéfalo, parte no especificada</td>\n      <td>Brain</td>\n      <td>C71</td>\n      <td>Tumor maligno del encéfalo</td>\n      <td>Brain</td>\n      <td>2012-02-25</td>\n      <td>2012-02-01</td>\n    </tr>\n    <tr>\n      <th>2</th>\n      <td>01</td>\n      <td>Aguascalientes</td>\n      <td>1003</td>\n      <td>Calvillo</td>\n      <td>01</td>\n      <td>Aguascalientes</td>\n      <td>1001</td>\n      <td>Aguascalientes</td>\n      <td>01</td>\n      <td>Aguascalientes</td>\n      <td>...</td>\n      <td>8</td>\n      <td>9</td>\n      <td>C67</td>\n      <td>Tumor maligno de la vejiga urinaria, parte no ...</td>\n      <td>Bladder</td>\n      <td>C67</td>\n      <td>Tumor maligno de la vejiga urinaria</td>\n      <td>Bladder</td>\n      <td>2012-04-28</td>\n      <td>2012-04-01</td>\n    </tr>\n    <tr>\n      <th>3</th>\n      <td>01</td>\n      <td>Aguascalientes</td>\n      <td>1001</td>\n      <td>Aguascalientes</td>\n      <td>01</td>\n      <td>Aguascalientes</td>\n      <td>1001</td>\n      <td>Aguascalientes</td>\n      <td>01</td>\n      <td>Aguascalientes</td>\n      <td>...</td>\n      <td>8</td>\n      <td>9</td>\n      <td>C56</td>\n      <td>Tumor maligno del ovario</td>\n      <td>Ovary</td>\n      <td>C56</td>\n      <td>Tumor maligno del ovario</td>\n      <td>Ovary</td>\n      <td>2012-07-26</td>\n      <td>2012-07-01</td>\n    </tr>\n    <tr>\n      <th>4</th>\n      <td>01</td>\n      <td>Aguascalientes</td>\n      <td>1001</td>\n      <td>Aguascalientes</td>\n      <td>01</td>\n      <td>Aguascalientes</td>\n      <td>1001</td>\n      <td>Aguascalientes</td>\n      <td>01</td>\n      <td>Aguascalientes</td>\n      <td>...</td>\n      <td>8</td>\n      <td>9</td>\n      <td>C25</td>\n      <td>Tumor maligno del páncreas, parte no especificada</td>\n      <td>Pancreas</td>\n      <td>C25</td>\n      <td>Tumor maligno del páncreas</td>\n      <td>Pancreas</td>\n      <td>2012-01-11</td>\n      <td>2012-01-01</td>\n    </tr>\n  </tbody>\n</table>\n<p>5 rows × 42 columns</p>\n</div>"
     },
     "metadata": {},
     "execution_count": 6
    }
   ],
   "source": [
    "df = pd.read_csv(dirPath)\n",
    "df['ent_regis'] = df['ent_regis'].apply(lambda x: '{0:0>2}'.format(x))\n",
    "df['ent_resid'] = df['ent_resid'].apply(lambda x: '{0:0>2}'.format(x))\n",
    "df['ent_ocurr'] = df['ent_ocurr'].apply(lambda x: '{0:0>2}'.format(x))\n",
    "df = df.drop(columns=['Unnamed: 0', 'Unnamed: 0.1'])\n",
    "df.head()"
   ]
  },
  {
   "cell_type": "code",
   "execution_count": 74,
   "metadata": {},
   "outputs": [],
   "source": [
    "#population dictionary\n",
    "popInfo = pd.read_csv(\"https://dl.dropboxusercontent.com/s/ihun7h2mkhwgell/population.csv?dl=0\")\n",
    "popInfo.set_index('year', inplace=True)\n",
    "popDict = popInfo.to_dict()['population']"
   ]
  },
  {
   "cell_type": "code",
   "execution_count": 81,
   "metadata": {},
   "outputs": [],
   "source": [
    "def generate_report(year, age_range):\n",
    "    dff = df\n",
    "    dff = dff.loc[(dff['edad'] >= age_range[0]) & (dff['edad'] <= age_range[1]) & (dff['anio_ocur'] == year)]\n",
    "    curr_count = dff['ICD'].value_counts().rename_axis('unique_values').reset_index(name='counts')\n",
    "    col_one_list = curr_count['unique_values'].tolist()\n",
    "    output = list()\n",
    "    for i in col_one_list:\n",
    "        add_row = dff.loc[(dff['ICD'] == i) & (dff['sexo'] == 1)]\n",
    "        add_row = add_row['ICD'].value_counts()\n",
    "        if len(add_row.values) > 0:\n",
    "            output.append(add_row.values[0])\n",
    "        else:\n",
    "            output.append(0)\n",
    "    curr_count['male'] = output\n",
    "    cols = ['counts', 'male']\n",
    "    curr_count['female'] = curr_count['counts'] - curr_count['male']\n",
    "    ndir = dirname(os.getcwd())\n",
    "    pPath = dirname(os.getcwd()) + '\\\\codec\\\\types.xlsx'\n",
    "    currDict = pd.read_excel(pPath)\n",
    "    currDict.set_index('ICD', inplace=True)\n",
    "    organ_dict = currDict.to_dict()['organ']\n",
    "    curr_count['Organ'] = curr_count['unique_values'].map(organ_dict)\n",
    "    curr_count['Rate'] = round((curr_count['counts']/popDict.get(2012))*100000, 3)\n",
    "    cols = df.columns.tolist()\n",
    "    cols = ['unique_values', 'Organ', 'male', 'female', 'counts', 'Rate']\n",
    "    curr_count = curr_count[cols]\n",
    "    curr_count.columns = ['ICD', 'Organ', 'Male Cases', 'Female Cases', 'Total Cases', 'Death Rate per 100,000']\n",
    "    return curr_count"
   ]
  },
  {
   "cell_type": "code",
   "execution_count": 82,
   "metadata": {},
   "outputs": [
    {
     "output_type": "execute_result",
     "data": {
      "text/plain": [
       "    ICD                    Organ  Male Cases  Female Cases  Total Cases  \\\n",
       "0   C50                   Breast           8          1682         1690   \n",
       "1   C53             Cervix Uteri           0          1214         1214   \n",
       "2   C25                 Pancreas         578           572         1150   \n",
       "3   C16                  Stomach         555           511         1066   \n",
       "4   C34                    Lungs         632           420         1052   \n",
       "5   C20         Colon and Rectum         525           439          964   \n",
       "6   C22                   Liver          398           410          808   \n",
       "7   C96                 Lymphoma         307           320          627   \n",
       "8   C56                    Ovary           0           566          566   \n",
       "9   C64                   Kidney         305           176          481   \n",
       "10  C95                 Leukemia         225           253          478   \n",
       "11  C71                    Brain         269           188          457   \n",
       "12  C23              Gallbladder         125           270          395   \n",
       "13  C61                 Prostate         333             0          333   \n",
       "14  C90                 Mylenoma         123           127          250   \n",
       "15  C14  Oral Cavity and Pharynx         150            58          208   \n",
       "16  C15                Esophagus         171            24          195   \n",
       "17  C44       Skin non Melanoma           99            71          170   \n",
       "18  C49              Soft Tissue          74            93          167   \n",
       "19  C40                     Bone          90            64          154   \n",
       "20  C32                   Larynx         140            13          153   \n",
       "21  C73                  Thyroid          36            84          120   \n",
       "22  C67                  Bladder          90            26          116   \n",
       "23  C43                 Melanoma          63            44          107   \n",
       "24  C45             Mesothelioma          31            30           61   \n",
       "25  C81       Hodgkin's Lymphoma          37            18           55   \n",
       "26  C52           Male Genitales          50             0           50   \n",
       "27  C51          Female Genitals           0            25           25   \n",
       "28  C62                   Testis          21             0           21   \n",
       "29  C72                  Nervous           5             4            9   \n",
       "30  C69                     Eyes           5             3            8   \n",
       "31  C66                   Ureter           5             1            6   \n",
       "32  C30       Outter Respiratory           1             4            5   \n",
       "33  C68      Urinary Tract Other           1             1            2   \n",
       "34  C33                  Trachea           0             1            1   \n",
       "35  C42                    Heart           0             1            1   \n",
       "\n",
       "    Death Rate per 100,000  \n",
       "0                    1.441  \n",
       "1                    1.035  \n",
       "2                    0.980  \n",
       "3                    0.909  \n",
       "4                    0.897  \n",
       "5                    0.822  \n",
       "6                    0.689  \n",
       "7                    0.535  \n",
       "8                    0.483  \n",
       "9                    0.410  \n",
       "10                   0.408  \n",
       "11                   0.390  \n",
       "12                   0.337  \n",
       "13                   0.284  \n",
       "14                   0.213  \n",
       "15                   0.177  \n",
       "16                   0.166  \n",
       "17                   0.145  \n",
       "18                   0.142  \n",
       "19                   0.131  \n",
       "20                   0.130  \n",
       "21                   0.102  \n",
       "22                   0.099  \n",
       "23                   0.091  \n",
       "24                   0.052  \n",
       "25                   0.047  \n",
       "26                   0.043  \n",
       "27                   0.021  \n",
       "28                   0.018  \n",
       "29                   0.008  \n",
       "30                   0.007  \n",
       "31                   0.005  \n",
       "32                   0.004  \n",
       "33                   0.002  \n",
       "34                   0.001  \n",
       "35                   0.001  "
      ],
      "text/html": "<div>\n<style scoped>\n    .dataframe tbody tr th:only-of-type {\n        vertical-align: middle;\n    }\n\n    .dataframe tbody tr th {\n        vertical-align: top;\n    }\n\n    .dataframe thead th {\n        text-align: right;\n    }\n</style>\n<table border=\"1\" class=\"dataframe\">\n  <thead>\n    <tr style=\"text-align: right;\">\n      <th></th>\n      <th>ICD</th>\n      <th>Organ</th>\n      <th>Male Cases</th>\n      <th>Female Cases</th>\n      <th>Total Cases</th>\n      <th>Death Rate per 100,000</th>\n    </tr>\n  </thead>\n  <tbody>\n    <tr>\n      <th>0</th>\n      <td>C50</td>\n      <td>Breast</td>\n      <td>8</td>\n      <td>1682</td>\n      <td>1690</td>\n      <td>1.441</td>\n    </tr>\n    <tr>\n      <th>1</th>\n      <td>C53</td>\n      <td>Cervix Uteri</td>\n      <td>0</td>\n      <td>1214</td>\n      <td>1214</td>\n      <td>1.035</td>\n    </tr>\n    <tr>\n      <th>2</th>\n      <td>C25</td>\n      <td>Pancreas</td>\n      <td>578</td>\n      <td>572</td>\n      <td>1150</td>\n      <td>0.980</td>\n    </tr>\n    <tr>\n      <th>3</th>\n      <td>C16</td>\n      <td>Stomach</td>\n      <td>555</td>\n      <td>511</td>\n      <td>1066</td>\n      <td>0.909</td>\n    </tr>\n    <tr>\n      <th>4</th>\n      <td>C34</td>\n      <td>Lungs</td>\n      <td>632</td>\n      <td>420</td>\n      <td>1052</td>\n      <td>0.897</td>\n    </tr>\n    <tr>\n      <th>5</th>\n      <td>C20</td>\n      <td>Colon and Rectum</td>\n      <td>525</td>\n      <td>439</td>\n      <td>964</td>\n      <td>0.822</td>\n    </tr>\n    <tr>\n      <th>6</th>\n      <td>C22</td>\n      <td>Liver</td>\n      <td>398</td>\n      <td>410</td>\n      <td>808</td>\n      <td>0.689</td>\n    </tr>\n    <tr>\n      <th>7</th>\n      <td>C96</td>\n      <td>Lymphoma</td>\n      <td>307</td>\n      <td>320</td>\n      <td>627</td>\n      <td>0.535</td>\n    </tr>\n    <tr>\n      <th>8</th>\n      <td>C56</td>\n      <td>Ovary</td>\n      <td>0</td>\n      <td>566</td>\n      <td>566</td>\n      <td>0.483</td>\n    </tr>\n    <tr>\n      <th>9</th>\n      <td>C64</td>\n      <td>Kidney</td>\n      <td>305</td>\n      <td>176</td>\n      <td>481</td>\n      <td>0.410</td>\n    </tr>\n    <tr>\n      <th>10</th>\n      <td>C95</td>\n      <td>Leukemia</td>\n      <td>225</td>\n      <td>253</td>\n      <td>478</td>\n      <td>0.408</td>\n    </tr>\n    <tr>\n      <th>11</th>\n      <td>C71</td>\n      <td>Brain</td>\n      <td>269</td>\n      <td>188</td>\n      <td>457</td>\n      <td>0.390</td>\n    </tr>\n    <tr>\n      <th>12</th>\n      <td>C23</td>\n      <td>Gallbladder</td>\n      <td>125</td>\n      <td>270</td>\n      <td>395</td>\n      <td>0.337</td>\n    </tr>\n    <tr>\n      <th>13</th>\n      <td>C61</td>\n      <td>Prostate</td>\n      <td>333</td>\n      <td>0</td>\n      <td>333</td>\n      <td>0.284</td>\n    </tr>\n    <tr>\n      <th>14</th>\n      <td>C90</td>\n      <td>Mylenoma</td>\n      <td>123</td>\n      <td>127</td>\n      <td>250</td>\n      <td>0.213</td>\n    </tr>\n    <tr>\n      <th>15</th>\n      <td>C14</td>\n      <td>Oral Cavity and Pharynx</td>\n      <td>150</td>\n      <td>58</td>\n      <td>208</td>\n      <td>0.177</td>\n    </tr>\n    <tr>\n      <th>16</th>\n      <td>C15</td>\n      <td>Esophagus</td>\n      <td>171</td>\n      <td>24</td>\n      <td>195</td>\n      <td>0.166</td>\n    </tr>\n    <tr>\n      <th>17</th>\n      <td>C44</td>\n      <td>Skin non Melanoma</td>\n      <td>99</td>\n      <td>71</td>\n      <td>170</td>\n      <td>0.145</td>\n    </tr>\n    <tr>\n      <th>18</th>\n      <td>C49</td>\n      <td>Soft Tissue</td>\n      <td>74</td>\n      <td>93</td>\n      <td>167</td>\n      <td>0.142</td>\n    </tr>\n    <tr>\n      <th>19</th>\n      <td>C40</td>\n      <td>Bone</td>\n      <td>90</td>\n      <td>64</td>\n      <td>154</td>\n      <td>0.131</td>\n    </tr>\n    <tr>\n      <th>20</th>\n      <td>C32</td>\n      <td>Larynx</td>\n      <td>140</td>\n      <td>13</td>\n      <td>153</td>\n      <td>0.130</td>\n    </tr>\n    <tr>\n      <th>21</th>\n      <td>C73</td>\n      <td>Thyroid</td>\n      <td>36</td>\n      <td>84</td>\n      <td>120</td>\n      <td>0.102</td>\n    </tr>\n    <tr>\n      <th>22</th>\n      <td>C67</td>\n      <td>Bladder</td>\n      <td>90</td>\n      <td>26</td>\n      <td>116</td>\n      <td>0.099</td>\n    </tr>\n    <tr>\n      <th>23</th>\n      <td>C43</td>\n      <td>Melanoma</td>\n      <td>63</td>\n      <td>44</td>\n      <td>107</td>\n      <td>0.091</td>\n    </tr>\n    <tr>\n      <th>24</th>\n      <td>C45</td>\n      <td>Mesothelioma</td>\n      <td>31</td>\n      <td>30</td>\n      <td>61</td>\n      <td>0.052</td>\n    </tr>\n    <tr>\n      <th>25</th>\n      <td>C81</td>\n      <td>Hodgkin's Lymphoma</td>\n      <td>37</td>\n      <td>18</td>\n      <td>55</td>\n      <td>0.047</td>\n    </tr>\n    <tr>\n      <th>26</th>\n      <td>C52</td>\n      <td>Male Genitales</td>\n      <td>50</td>\n      <td>0</td>\n      <td>50</td>\n      <td>0.043</td>\n    </tr>\n    <tr>\n      <th>27</th>\n      <td>C51</td>\n      <td>Female Genitals</td>\n      <td>0</td>\n      <td>25</td>\n      <td>25</td>\n      <td>0.021</td>\n    </tr>\n    <tr>\n      <th>28</th>\n      <td>C62</td>\n      <td>Testis</td>\n      <td>21</td>\n      <td>0</td>\n      <td>21</td>\n      <td>0.018</td>\n    </tr>\n    <tr>\n      <th>29</th>\n      <td>C72</td>\n      <td>Nervous</td>\n      <td>5</td>\n      <td>4</td>\n      <td>9</td>\n      <td>0.008</td>\n    </tr>\n    <tr>\n      <th>30</th>\n      <td>C69</td>\n      <td>Eyes</td>\n      <td>5</td>\n      <td>3</td>\n      <td>8</td>\n      <td>0.007</td>\n    </tr>\n    <tr>\n      <th>31</th>\n      <td>C66</td>\n      <td>Ureter</td>\n      <td>5</td>\n      <td>1</td>\n      <td>6</td>\n      <td>0.005</td>\n    </tr>\n    <tr>\n      <th>32</th>\n      <td>C30</td>\n      <td>Outter Respiratory</td>\n      <td>1</td>\n      <td>4</td>\n      <td>5</td>\n      <td>0.004</td>\n    </tr>\n    <tr>\n      <th>33</th>\n      <td>C68</td>\n      <td>Urinary Tract Other</td>\n      <td>1</td>\n      <td>1</td>\n      <td>2</td>\n      <td>0.002</td>\n    </tr>\n    <tr>\n      <th>34</th>\n      <td>C33</td>\n      <td>Trachea</td>\n      <td>0</td>\n      <td>1</td>\n      <td>1</td>\n      <td>0.001</td>\n    </tr>\n    <tr>\n      <th>35</th>\n      <td>C42</td>\n      <td>Heart</td>\n      <td>0</td>\n      <td>1</td>\n      <td>1</td>\n      <td>0.001</td>\n    </tr>\n  </tbody>\n</table>\n</div>"
     },
     "metadata": {},
     "execution_count": 82
    }
   ],
   "source": [
    "count = generate_report(2012, [50, 60])\n",
    "count"
   ]
  },
  {
   "cell_type": "code",
   "execution_count": null,
   "metadata": {},
   "outputs": [],
   "source": []
  }
 ]
}