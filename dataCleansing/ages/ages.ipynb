{
 "metadata": {
  "language_info": {
   "codemirror_mode": {
    "name": "ipython",
    "version": 3
   },
   "file_extension": ".py",
   "mimetype": "text/x-python",
   "name": "python",
   "nbconvert_exporter": "python",
   "pygments_lexer": "ipython3",
   "version": "3.8.3"
  },
  "orig_nbformat": 2,
  "kernelspec": {
   "name": "python383jvsc74a57bd0ed225720166559e7176d3793db16a2fd8d295f725007103b21ac3099d2a89ee8",
   "display_name": "Python"
  }
 },
 "nbformat": 4,
 "nbformat_minor": 2,
 "cells": [
  {
   "cell_type": "code",
   "execution_count": 1,
   "metadata": {},
   "outputs": [],
   "source": [
    "import pandas as pd\n",
    "import numpy as np\n",
    "import seaborn as sns\n",
    "import matplotlib.pyplot as plt\n",
    "import os\n",
    "import re"
   ]
  },
  {
   "cell_type": "code",
   "execution_count": 2,
   "metadata": {},
   "outputs": [
    {
     "output_type": "execute_result",
     "data": {
      "text/plain": [
       "'c:\\\\Users\\\\David Fernandez\\\\Desktop\\\\cancerDataAnalysis\\\\CleansingNotebooks\\\\TotalCleanedTest.csv'"
      ]
     },
     "metadata": {},
     "execution_count": 2
    }
   ],
   "source": [
    "from os.path import dirname\n",
    "dirPath = dirname(dirname(os.getcwd()))+\"\\\\CleansingNotebooks\\\\TotalCleanedTest.csv\"\n",
    "dirPath"
   ]
  },
  {
   "source": [
    "# Age Cleansing"
   ],
   "cell_type": "markdown",
   "metadata": {}
  },
  {
   "cell_type": "code",
   "execution_count": 3,
   "metadata": {},
   "outputs": [
    {
     "output_type": "execute_result",
     "data": {
      "text/plain": [
       "   ent_regis  mun_regis  ent_resid  mun_resid  tloc_resid  ent_ocurr  \\\n",
       "0          1          1          1          1           1          1   \n",
       "1          1          2          1          2           4          1   \n",
       "2          1          3          1          3           2          1   \n",
       "3          1          3          1          3           7          1   \n",
       "4          1          3          1          3           1          1   \n",
       "\n",
       "   mun_ocurr  tloc_ocurr causa_def lista_mex  ...  cond_act  loc_resid  \\\n",
       "0          1           1      C250       09G  ...       NaN        NaN   \n",
       "1          2           4      C229       09F  ...       NaN        NaN   \n",
       "2          3           1      C259       09G  ...       NaN        NaN   \n",
       "3          3           7      C349       10B  ...       NaN        NaN   \n",
       "4          3           1      C481       11E  ...       NaN        NaN   \n",
       "\n",
       "   loc_ocurr  loc_ocur  ICD  \\\n",
       "0        NaN       NaN  C25   \n",
       "1        NaN       NaN  C22   \n",
       "2        NaN       NaN  C25   \n",
       "3        NaN       NaN  C34   \n",
       "4        NaN       NaN  C49   \n",
       "\n",
       "                                          detailCaus        Organ  ICD_Mex  \\\n",
       "0            Tumor maligno de la cabeza del páncreas     Pancreas      C25   \n",
       "1          Tumor maligno del hígado, no especificado       Liver       C22   \n",
       "2  Tumor maligno del páncreas, parte no especificada     Pancreas      C25   \n",
       "3  Tumor maligno de los bronquios o del pulmón, p...        Lungs      C34   \n",
       "4  Tumor maligno de parte especificada del peritoneo  Soft Tissue      C49   \n",
       "\n",
       "                                      detailCaus_Mex    organ_Mex  \n",
       "0                         Tumor maligno del páncreas     Pancreas  \n",
       "1  Tumor maligno del hígado y de las vías biliare...       Liver   \n",
       "2                         Tumor maligno del páncreas     Pancreas  \n",
       "3  Tumor maligno de la tráquea, de los bronquios ...        Lungs  \n",
       "4  Tumores malignos de los tejidos mesoteliales y...  Soft Tissue  \n",
       "\n",
       "[5 rows x 60 columns]"
      ],
      "text/html": "<div>\n<style scoped>\n    .dataframe tbody tr th:only-of-type {\n        vertical-align: middle;\n    }\n\n    .dataframe tbody tr th {\n        vertical-align: top;\n    }\n\n    .dataframe thead th {\n        text-align: right;\n    }\n</style>\n<table border=\"1\" class=\"dataframe\">\n  <thead>\n    <tr style=\"text-align: right;\">\n      <th></th>\n      <th>ent_regis</th>\n      <th>mun_regis</th>\n      <th>ent_resid</th>\n      <th>mun_resid</th>\n      <th>tloc_resid</th>\n      <th>ent_ocurr</th>\n      <th>mun_ocurr</th>\n      <th>tloc_ocurr</th>\n      <th>causa_def</th>\n      <th>lista_mex</th>\n      <th>...</th>\n      <th>cond_act</th>\n      <th>loc_resid</th>\n      <th>loc_ocurr</th>\n      <th>loc_ocur</th>\n      <th>ICD</th>\n      <th>detailCaus</th>\n      <th>Organ</th>\n      <th>ICD_Mex</th>\n      <th>detailCaus_Mex</th>\n      <th>organ_Mex</th>\n    </tr>\n  </thead>\n  <tbody>\n    <tr>\n      <th>0</th>\n      <td>1</td>\n      <td>1</td>\n      <td>1</td>\n      <td>1</td>\n      <td>1</td>\n      <td>1</td>\n      <td>1</td>\n      <td>1</td>\n      <td>C250</td>\n      <td>09G</td>\n      <td>...</td>\n      <td>NaN</td>\n      <td>NaN</td>\n      <td>NaN</td>\n      <td>NaN</td>\n      <td>C25</td>\n      <td>Tumor maligno de la cabeza del páncreas</td>\n      <td>Pancreas</td>\n      <td>C25</td>\n      <td>Tumor maligno del páncreas</td>\n      <td>Pancreas</td>\n    </tr>\n    <tr>\n      <th>1</th>\n      <td>1</td>\n      <td>2</td>\n      <td>1</td>\n      <td>2</td>\n      <td>4</td>\n      <td>1</td>\n      <td>2</td>\n      <td>4</td>\n      <td>C229</td>\n      <td>09F</td>\n      <td>...</td>\n      <td>NaN</td>\n      <td>NaN</td>\n      <td>NaN</td>\n      <td>NaN</td>\n      <td>C22</td>\n      <td>Tumor maligno del hígado, no especificado</td>\n      <td>Liver</td>\n      <td>C22</td>\n      <td>Tumor maligno del hígado y de las vías biliare...</td>\n      <td>Liver</td>\n    </tr>\n    <tr>\n      <th>2</th>\n      <td>1</td>\n      <td>3</td>\n      <td>1</td>\n      <td>3</td>\n      <td>2</td>\n      <td>1</td>\n      <td>3</td>\n      <td>1</td>\n      <td>C259</td>\n      <td>09G</td>\n      <td>...</td>\n      <td>NaN</td>\n      <td>NaN</td>\n      <td>NaN</td>\n      <td>NaN</td>\n      <td>C25</td>\n      <td>Tumor maligno del páncreas, parte no especificada</td>\n      <td>Pancreas</td>\n      <td>C25</td>\n      <td>Tumor maligno del páncreas</td>\n      <td>Pancreas</td>\n    </tr>\n    <tr>\n      <th>3</th>\n      <td>1</td>\n      <td>3</td>\n      <td>1</td>\n      <td>3</td>\n      <td>7</td>\n      <td>1</td>\n      <td>3</td>\n      <td>7</td>\n      <td>C349</td>\n      <td>10B</td>\n      <td>...</td>\n      <td>NaN</td>\n      <td>NaN</td>\n      <td>NaN</td>\n      <td>NaN</td>\n      <td>C34</td>\n      <td>Tumor maligno de los bronquios o del pulmón, p...</td>\n      <td>Lungs</td>\n      <td>C34</td>\n      <td>Tumor maligno de la tráquea, de los bronquios ...</td>\n      <td>Lungs</td>\n    </tr>\n    <tr>\n      <th>4</th>\n      <td>1</td>\n      <td>3</td>\n      <td>1</td>\n      <td>3</td>\n      <td>1</td>\n      <td>1</td>\n      <td>3</td>\n      <td>1</td>\n      <td>C481</td>\n      <td>11E</td>\n      <td>...</td>\n      <td>NaN</td>\n      <td>NaN</td>\n      <td>NaN</td>\n      <td>NaN</td>\n      <td>C49</td>\n      <td>Tumor maligno de parte especificada del peritoneo</td>\n      <td>Soft Tissue</td>\n      <td>C49</td>\n      <td>Tumores malignos de los tejidos mesoteliales y...</td>\n      <td>Soft Tissue</td>\n    </tr>\n  </tbody>\n</table>\n<p>5 rows × 60 columns</p>\n</div>"
     },
     "metadata": {},
     "execution_count": 3
    }
   ],
   "source": [
    "df = pd.read_csv(dirPath)\n",
    "#df.set_index('index', inplace=True)\n",
    "df.drop(columns=['Unnamed: 0', 'index'], inplace=True)\n",
    "totalCopy = df\n",
    "totalCopy.head()"
   ]
  },
  {
   "cell_type": "code",
   "execution_count": 4,
   "metadata": {},
   "outputs": [
    {
     "output_type": "execute_result",
     "data": {
      "text/plain": [
       "     unique_values  counts\n",
       "0             1940   19246\n",
       "1             1942   18683\n",
       "2             1945   18634\n",
       "3             1943   18536\n",
       "4             1947   18132\n",
       "..             ...     ...\n",
       "118           1903       7\n",
       "119           1902       5\n",
       "120           1900       2\n",
       "121           1898       1\n",
       "122           1897       1\n",
       "\n",
       "[123 rows x 2 columns]"
      ],
      "text/html": "<div>\n<style scoped>\n    .dataframe tbody tr th:only-of-type {\n        vertical-align: middle;\n    }\n\n    .dataframe tbody tr th {\n        vertical-align: top;\n    }\n\n    .dataframe thead th {\n        text-align: right;\n    }\n</style>\n<table border=\"1\" class=\"dataframe\">\n  <thead>\n    <tr style=\"text-align: right;\">\n      <th></th>\n      <th>unique_values</th>\n      <th>counts</th>\n    </tr>\n  </thead>\n  <tbody>\n    <tr>\n      <th>0</th>\n      <td>1940</td>\n      <td>19246</td>\n    </tr>\n    <tr>\n      <th>1</th>\n      <td>1942</td>\n      <td>18683</td>\n    </tr>\n    <tr>\n      <th>2</th>\n      <td>1945</td>\n      <td>18634</td>\n    </tr>\n    <tr>\n      <th>3</th>\n      <td>1943</td>\n      <td>18536</td>\n    </tr>\n    <tr>\n      <th>4</th>\n      <td>1947</td>\n      <td>18132</td>\n    </tr>\n    <tr>\n      <th>...</th>\n      <td>...</td>\n      <td>...</td>\n    </tr>\n    <tr>\n      <th>118</th>\n      <td>1903</td>\n      <td>7</td>\n    </tr>\n    <tr>\n      <th>119</th>\n      <td>1902</td>\n      <td>5</td>\n    </tr>\n    <tr>\n      <th>120</th>\n      <td>1900</td>\n      <td>2</td>\n    </tr>\n    <tr>\n      <th>121</th>\n      <td>1898</td>\n      <td>1</td>\n    </tr>\n    <tr>\n      <th>122</th>\n      <td>1897</td>\n      <td>1</td>\n    </tr>\n  </tbody>\n</table>\n<p>123 rows × 2 columns</p>\n</div>"
     },
     "metadata": {},
     "execution_count": 4
    }
   ],
   "source": [
    "#CHECK UNIQUE VALUES ON anio_nacim\n",
    "years = totalCopy['anio_nacim'].value_counts().rename_axis('unique_values').reset_index(name='counts')\n",
    "years.to_csv('anio_nacim.csv')\n",
    "years"
   ]
  },
  {
   "cell_type": "code",
   "execution_count": 5,
   "metadata": {},
   "outputs": [
    {
     "output_type": "execute_result",
     "data": {
      "text/plain": [
       "   edad  anio_nacim  anio_ocur  anio_regis\n",
       "0    88        1922       2010        2010\n",
       "1    72        1938       2010        2010\n",
       "2    44        1965       2009        2010\n",
       "3    50        1960       2010        2010\n",
       "4    59        1951       2010        2010"
      ],
      "text/html": "<div>\n<style scoped>\n    .dataframe tbody tr th:only-of-type {\n        vertical-align: middle;\n    }\n\n    .dataframe tbody tr th {\n        vertical-align: top;\n    }\n\n    .dataframe thead th {\n        text-align: right;\n    }\n</style>\n<table border=\"1\" class=\"dataframe\">\n  <thead>\n    <tr style=\"text-align: right;\">\n      <th></th>\n      <th>edad</th>\n      <th>anio_nacim</th>\n      <th>anio_ocur</th>\n      <th>anio_regis</th>\n    </tr>\n  </thead>\n  <tbody>\n    <tr>\n      <th>0</th>\n      <td>88</td>\n      <td>1922</td>\n      <td>2010</td>\n      <td>2010</td>\n    </tr>\n    <tr>\n      <th>1</th>\n      <td>72</td>\n      <td>1938</td>\n      <td>2010</td>\n      <td>2010</td>\n    </tr>\n    <tr>\n      <th>2</th>\n      <td>44</td>\n      <td>1965</td>\n      <td>2009</td>\n      <td>2010</td>\n    </tr>\n    <tr>\n      <th>3</th>\n      <td>50</td>\n      <td>1960</td>\n      <td>2010</td>\n      <td>2010</td>\n    </tr>\n    <tr>\n      <th>4</th>\n      <td>59</td>\n      <td>1951</td>\n      <td>2010</td>\n      <td>2010</td>\n    </tr>\n  </tbody>\n</table>\n</div>"
     },
     "metadata": {},
     "execution_count": 5
    }
   ],
   "source": [
    "#drop values of unregistered years\n",
    "index_names = totalCopy[ totalCopy['edad'] == 121 ].index\n",
    "totalCopy.drop(index_names, inplace = True) \n",
    "index_names = totalCopy[ totalCopy['anio_nacim'] == 9999 ].index\n",
    "totalCopy.drop(index_names, inplace = True) \n",
    "ages =totalCopy.filter(['edad','anio_nacim','anio_ocur','anio_regis'], axis=1)\n",
    "ages.head()"
   ]
  },
  {
   "cell_type": "code",
   "execution_count": 6,
   "metadata": {},
   "outputs": [
    {
     "output_type": "execute_result",
     "data": {
      "text/plain": [
       "(786841, 4)"
      ]
     },
     "metadata": {},
     "execution_count": 6
    }
   ],
   "source": [
    "ages.shape"
   ]
  },
  {
   "cell_type": "code",
   "execution_count": 7,
   "metadata": {},
   "outputs": [
    {
     "output_type": "execute_result",
     "data": {
      "text/plain": [
       "0         88\n",
       "1         72\n",
       "2         44\n",
       "3         50\n",
       "4         59\n",
       "          ..\n",
       "787751    38\n",
       "787752     9\n",
       "787753    69\n",
       "787754     2\n",
       "787755    66\n",
       "Name: edadCalc, Length: 786841, dtype: int64"
      ]
     },
     "metadata": {},
     "execution_count": 7
    }
   ],
   "source": [
    "ages['edadCalc'] = ages['anio_ocur'] - ages['anio_nacim']\n",
    "ages['edadCalc']"
   ]
  },
  {
   "cell_type": "code",
   "execution_count": 8,
   "metadata": {},
   "outputs": [
    {
     "output_type": "execute_result",
     "data": {
      "text/plain": [
       "        edad  anio_nacim  anio_ocur  anio_regis  edadCalc\n",
       "244        0        2009       2010        2010         1\n",
       "5398       0        2009       2010        2010         1\n",
       "6013       0        2009       2010        2010         1\n",
       "14920      0        2009       2010        2010         1\n",
       "14946      0        2009       2010        2010         1\n",
       "...      ...         ...        ...         ...       ...\n",
       "787722    57        1961       2019        2019        58\n",
       "787724    69        1949       2019        2019        70\n",
       "787738    55        1963       2019        2019        56\n",
       "787741    56        1962       2019        2019        57\n",
       "787747    90        1928       2019        2019        91\n",
       "\n",
       "[244807 rows x 5 columns]"
      ],
      "text/html": "<div>\n<style scoped>\n    .dataframe tbody tr th:only-of-type {\n        vertical-align: middle;\n    }\n\n    .dataframe tbody tr th {\n        vertical-align: top;\n    }\n\n    .dataframe thead th {\n        text-align: right;\n    }\n</style>\n<table border=\"1\" class=\"dataframe\">\n  <thead>\n    <tr style=\"text-align: right;\">\n      <th></th>\n      <th>edad</th>\n      <th>anio_nacim</th>\n      <th>anio_ocur</th>\n      <th>anio_regis</th>\n      <th>edadCalc</th>\n    </tr>\n  </thead>\n  <tbody>\n    <tr>\n      <th>244</th>\n      <td>0</td>\n      <td>2009</td>\n      <td>2010</td>\n      <td>2010</td>\n      <td>1</td>\n    </tr>\n    <tr>\n      <th>5398</th>\n      <td>0</td>\n      <td>2009</td>\n      <td>2010</td>\n      <td>2010</td>\n      <td>1</td>\n    </tr>\n    <tr>\n      <th>6013</th>\n      <td>0</td>\n      <td>2009</td>\n      <td>2010</td>\n      <td>2010</td>\n      <td>1</td>\n    </tr>\n    <tr>\n      <th>14920</th>\n      <td>0</td>\n      <td>2009</td>\n      <td>2010</td>\n      <td>2010</td>\n      <td>1</td>\n    </tr>\n    <tr>\n      <th>14946</th>\n      <td>0</td>\n      <td>2009</td>\n      <td>2010</td>\n      <td>2010</td>\n      <td>1</td>\n    </tr>\n    <tr>\n      <th>...</th>\n      <td>...</td>\n      <td>...</td>\n      <td>...</td>\n      <td>...</td>\n      <td>...</td>\n    </tr>\n    <tr>\n      <th>787722</th>\n      <td>57</td>\n      <td>1961</td>\n      <td>2019</td>\n      <td>2019</td>\n      <td>58</td>\n    </tr>\n    <tr>\n      <th>787724</th>\n      <td>69</td>\n      <td>1949</td>\n      <td>2019</td>\n      <td>2019</td>\n      <td>70</td>\n    </tr>\n    <tr>\n      <th>787738</th>\n      <td>55</td>\n      <td>1963</td>\n      <td>2019</td>\n      <td>2019</td>\n      <td>56</td>\n    </tr>\n    <tr>\n      <th>787741</th>\n      <td>56</td>\n      <td>1962</td>\n      <td>2019</td>\n      <td>2019</td>\n      <td>57</td>\n    </tr>\n    <tr>\n      <th>787747</th>\n      <td>90</td>\n      <td>1928</td>\n      <td>2019</td>\n      <td>2019</td>\n      <td>91</td>\n    </tr>\n  </tbody>\n</table>\n<p>244807 rows × 5 columns</p>\n</div>"
     },
     "metadata": {},
     "execution_count": 8
    }
   ],
   "source": [
    "ages.query('edadCalc != edad')"
   ]
  },
  {
   "cell_type": "code",
   "execution_count": 9,
   "metadata": {},
   "outputs": [
    {
     "output_type": "execute_result",
     "data": {
      "text/plain": [
       "edad          244694\n",
       "anio_nacim    244694\n",
       "anio_ocur     244694\n",
       "anio_regis    244694\n",
       "edadCalc      244694\n",
       "dtype: int64"
      ]
     },
     "metadata": {},
     "execution_count": 9
    }
   ],
   "source": [
    "ages[ages.edadCalc - ages.edad == 1].count() "
   ]
  },
  {
   "cell_type": "code",
   "execution_count": 10,
   "metadata": {},
   "outputs": [
    {
     "output_type": "execute_result",
     "data": {
      "text/plain": [
       "   ent_regis  mun_regis  ent_resid  mun_resid  tloc_resid  ent_ocurr  \\\n",
       "0          1          1          1          1           1          1   \n",
       "1          1          2          1          2           4          1   \n",
       "2          1          3          1          3           2          1   \n",
       "3          1          3          1          3           7          1   \n",
       "4          1          3          1          3           1          1   \n",
       "\n",
       "   mun_ocurr  tloc_ocurr causa_def lista_mex  ...  loc_resid  loc_ocurr  \\\n",
       "0          1           1      C250       09G  ...        NaN        NaN   \n",
       "1          2           4      C229       09F  ...        NaN        NaN   \n",
       "2          3           1      C259       09G  ...        NaN        NaN   \n",
       "3          3           7      C349       10B  ...        NaN        NaN   \n",
       "4          3           1      C481       11E  ...        NaN        NaN   \n",
       "\n",
       "   loc_ocur  ICD                                         detailCaus  \\\n",
       "0       NaN  C25            Tumor maligno de la cabeza del páncreas   \n",
       "1       NaN  C22          Tumor maligno del hígado, no especificado   \n",
       "2       NaN  C25  Tumor maligno del páncreas, parte no especificada   \n",
       "3       NaN  C34  Tumor maligno de los bronquios o del pulmón, p...   \n",
       "4       NaN  C49  Tumor maligno de parte especificada del peritoneo   \n",
       "\n",
       "         Organ  ICD_Mex                                     detailCaus_Mex  \\\n",
       "0     Pancreas      C25                         Tumor maligno del páncreas   \n",
       "1       Liver       C22  Tumor maligno del hígado y de las vías biliare...   \n",
       "2     Pancreas      C25                         Tumor maligno del páncreas   \n",
       "3        Lungs      C34  Tumor maligno de la tráquea, de los bronquios ...   \n",
       "4  Soft Tissue      C49  Tumores malignos de los tejidos mesoteliales y...   \n",
       "\n",
       "     organ_Mex  edadCalc  \n",
       "0     Pancreas        88  \n",
       "1       Liver         72  \n",
       "2     Pancreas        44  \n",
       "3        Lungs        50  \n",
       "4  Soft Tissue        59  \n",
       "\n",
       "[5 rows x 61 columns]"
      ],
      "text/html": "<div>\n<style scoped>\n    .dataframe tbody tr th:only-of-type {\n        vertical-align: middle;\n    }\n\n    .dataframe tbody tr th {\n        vertical-align: top;\n    }\n\n    .dataframe thead th {\n        text-align: right;\n    }\n</style>\n<table border=\"1\" class=\"dataframe\">\n  <thead>\n    <tr style=\"text-align: right;\">\n      <th></th>\n      <th>ent_regis</th>\n      <th>mun_regis</th>\n      <th>ent_resid</th>\n      <th>mun_resid</th>\n      <th>tloc_resid</th>\n      <th>ent_ocurr</th>\n      <th>mun_ocurr</th>\n      <th>tloc_ocurr</th>\n      <th>causa_def</th>\n      <th>lista_mex</th>\n      <th>...</th>\n      <th>loc_resid</th>\n      <th>loc_ocurr</th>\n      <th>loc_ocur</th>\n      <th>ICD</th>\n      <th>detailCaus</th>\n      <th>Organ</th>\n      <th>ICD_Mex</th>\n      <th>detailCaus_Mex</th>\n      <th>organ_Mex</th>\n      <th>edadCalc</th>\n    </tr>\n  </thead>\n  <tbody>\n    <tr>\n      <th>0</th>\n      <td>1</td>\n      <td>1</td>\n      <td>1</td>\n      <td>1</td>\n      <td>1</td>\n      <td>1</td>\n      <td>1</td>\n      <td>1</td>\n      <td>C250</td>\n      <td>09G</td>\n      <td>...</td>\n      <td>NaN</td>\n      <td>NaN</td>\n      <td>NaN</td>\n      <td>C25</td>\n      <td>Tumor maligno de la cabeza del páncreas</td>\n      <td>Pancreas</td>\n      <td>C25</td>\n      <td>Tumor maligno del páncreas</td>\n      <td>Pancreas</td>\n      <td>88</td>\n    </tr>\n    <tr>\n      <th>1</th>\n      <td>1</td>\n      <td>2</td>\n      <td>1</td>\n      <td>2</td>\n      <td>4</td>\n      <td>1</td>\n      <td>2</td>\n      <td>4</td>\n      <td>C229</td>\n      <td>09F</td>\n      <td>...</td>\n      <td>NaN</td>\n      <td>NaN</td>\n      <td>NaN</td>\n      <td>C22</td>\n      <td>Tumor maligno del hígado, no especificado</td>\n      <td>Liver</td>\n      <td>C22</td>\n      <td>Tumor maligno del hígado y de las vías biliare...</td>\n      <td>Liver</td>\n      <td>72</td>\n    </tr>\n    <tr>\n      <th>2</th>\n      <td>1</td>\n      <td>3</td>\n      <td>1</td>\n      <td>3</td>\n      <td>2</td>\n      <td>1</td>\n      <td>3</td>\n      <td>1</td>\n      <td>C259</td>\n      <td>09G</td>\n      <td>...</td>\n      <td>NaN</td>\n      <td>NaN</td>\n      <td>NaN</td>\n      <td>C25</td>\n      <td>Tumor maligno del páncreas, parte no especificada</td>\n      <td>Pancreas</td>\n      <td>C25</td>\n      <td>Tumor maligno del páncreas</td>\n      <td>Pancreas</td>\n      <td>44</td>\n    </tr>\n    <tr>\n      <th>3</th>\n      <td>1</td>\n      <td>3</td>\n      <td>1</td>\n      <td>3</td>\n      <td>7</td>\n      <td>1</td>\n      <td>3</td>\n      <td>7</td>\n      <td>C349</td>\n      <td>10B</td>\n      <td>...</td>\n      <td>NaN</td>\n      <td>NaN</td>\n      <td>NaN</td>\n      <td>C34</td>\n      <td>Tumor maligno de los bronquios o del pulmón, p...</td>\n      <td>Lungs</td>\n      <td>C34</td>\n      <td>Tumor maligno de la tráquea, de los bronquios ...</td>\n      <td>Lungs</td>\n      <td>50</td>\n    </tr>\n    <tr>\n      <th>4</th>\n      <td>1</td>\n      <td>3</td>\n      <td>1</td>\n      <td>3</td>\n      <td>1</td>\n      <td>1</td>\n      <td>3</td>\n      <td>1</td>\n      <td>C481</td>\n      <td>11E</td>\n      <td>...</td>\n      <td>NaN</td>\n      <td>NaN</td>\n      <td>NaN</td>\n      <td>C49</td>\n      <td>Tumor maligno de parte especificada del peritoneo</td>\n      <td>Soft Tissue</td>\n      <td>C49</td>\n      <td>Tumores malignos de los tejidos mesoteliales y...</td>\n      <td>Soft Tissue</td>\n      <td>59</td>\n    </tr>\n  </tbody>\n</table>\n<p>5 rows × 61 columns</p>\n</div>"
     },
     "metadata": {},
     "execution_count": 10
    }
   ],
   "source": [
    "totalCopy['edadCalc'] = totalCopy['anio_ocur'] - totalCopy['anio_nacim']\n",
    "totalCopy.head()"
   ]
  },
  {
   "cell_type": "code",
   "execution_count": 11,
   "metadata": {},
   "outputs": [],
   "source": [
    "#fix Ages that diverge one year\n",
    "totalCopy.loc[(totalCopy.edadCalc - totalCopy.edad) == 1, 'edad'] = totalCopy['edadCalc']\n",
    "totalCopy.loc[(totalCopy.edad - totalCopy.edadCalc) == 1, 'edad'] = totalCopy['edadCalc']  \n",
    "#totalCopy[totalCopy.edadCalc - totalCopy.edad == 1].count() "
   ]
  },
  {
   "cell_type": "code",
   "execution_count": 12,
   "metadata": {},
   "outputs": [
    {
     "output_type": "execute_result",
     "data": {
      "text/plain": [
       "        edad  anio_nacim  anio_ocur  anio_regis  edadCalc\n",
       "39706      0        1944       2010        2010        66\n",
       "60315      0        2002       2010        2010         8\n",
       "67806      0        1952       2010        2010        58\n",
       "118827     0        1983       2011        2011        28\n",
       "120070     0        1952       2011        2011        59\n",
       "...      ...         ...        ...         ...       ...\n",
       "755832    59        2019       2019        2019         0\n",
       "759286    73        2019       2019        2019         0\n",
       "762495    16        2019       2019        2019         0\n",
       "776539    52        2019       2019        2019         0\n",
       "779258     9        2019       2019        2019         0\n",
       "\n",
       "[102 rows x 5 columns]"
      ],
      "text/html": "<div>\n<style scoped>\n    .dataframe tbody tr th:only-of-type {\n        vertical-align: middle;\n    }\n\n    .dataframe tbody tr th {\n        vertical-align: top;\n    }\n\n    .dataframe thead th {\n        text-align: right;\n    }\n</style>\n<table border=\"1\" class=\"dataframe\">\n  <thead>\n    <tr style=\"text-align: right;\">\n      <th></th>\n      <th>edad</th>\n      <th>anio_nacim</th>\n      <th>anio_ocur</th>\n      <th>anio_regis</th>\n      <th>edadCalc</th>\n    </tr>\n  </thead>\n  <tbody>\n    <tr>\n      <th>39706</th>\n      <td>0</td>\n      <td>1944</td>\n      <td>2010</td>\n      <td>2010</td>\n      <td>66</td>\n    </tr>\n    <tr>\n      <th>60315</th>\n      <td>0</td>\n      <td>2002</td>\n      <td>2010</td>\n      <td>2010</td>\n      <td>8</td>\n    </tr>\n    <tr>\n      <th>67806</th>\n      <td>0</td>\n      <td>1952</td>\n      <td>2010</td>\n      <td>2010</td>\n      <td>58</td>\n    </tr>\n    <tr>\n      <th>118827</th>\n      <td>0</td>\n      <td>1983</td>\n      <td>2011</td>\n      <td>2011</td>\n      <td>28</td>\n    </tr>\n    <tr>\n      <th>120070</th>\n      <td>0</td>\n      <td>1952</td>\n      <td>2011</td>\n      <td>2011</td>\n      <td>59</td>\n    </tr>\n    <tr>\n      <th>...</th>\n      <td>...</td>\n      <td>...</td>\n      <td>...</td>\n      <td>...</td>\n      <td>...</td>\n    </tr>\n    <tr>\n      <th>755832</th>\n      <td>59</td>\n      <td>2019</td>\n      <td>2019</td>\n      <td>2019</td>\n      <td>0</td>\n    </tr>\n    <tr>\n      <th>759286</th>\n      <td>73</td>\n      <td>2019</td>\n      <td>2019</td>\n      <td>2019</td>\n      <td>0</td>\n    </tr>\n    <tr>\n      <th>762495</th>\n      <td>16</td>\n      <td>2019</td>\n      <td>2019</td>\n      <td>2019</td>\n      <td>0</td>\n    </tr>\n    <tr>\n      <th>776539</th>\n      <td>52</td>\n      <td>2019</td>\n      <td>2019</td>\n      <td>2019</td>\n      <td>0</td>\n    </tr>\n    <tr>\n      <th>779258</th>\n      <td>9</td>\n      <td>2019</td>\n      <td>2019</td>\n      <td>2019</td>\n      <td>0</td>\n    </tr>\n  </tbody>\n</table>\n<p>102 rows × 5 columns</p>\n</div>"
     },
     "metadata": {},
     "execution_count": 12
    }
   ],
   "source": [
    "#Ages that makes no sense // fix anio_nacim\n",
    "ages =totalCopy.filter(['edad','anio_nacim','anio_ocur','anio_regis'], axis=1)\n",
    "ages['edadCalc'] = ages['anio_ocur'] - ages['anio_nacim']\n",
    "ages['edadCalc']\n",
    "ages.query('edadCalc != edad')"
   ]
  },
  {
   "cell_type": "code",
   "execution_count": 13,
   "metadata": {},
   "outputs": [],
   "source": [
    "#fix anio_nacim and recalc\n",
    "totalCopy.loc[(totalCopy[\"anio_nacim\"] == totalCopy[\"anio_ocur\"]) & (totalCopy[\"edad\"] > 0), 'anio_nacim'] = totalCopy['anio_ocur'] - totalCopy['edad']\n",
    "totalCopy['edadCalc'] = totalCopy['anio_ocur'] - totalCopy['anio_nacim']\n",
    "#totalCopy.loc[(totalCopy[\"anio_nacim\"] == totalCopy[\"anio_ocur\"]), 'anio_nacim'].count() \n",
    "#totalCopy.loc[(totalCopy.anio_nacim == totalCopy.anio_ocur) & (totalCopy.anio_nacim>0), 'anio_nacim'] = totalCopy['anio_ocur'] - totalCopy['edad']\n",
    "#totalCopy.loc[totalCopy.edadCalc, 'edadCalc'] = totalCopy['anio_ocur'] - totalCopy['anio_nacim']"
   ]
  },
  {
   "cell_type": "code",
   "execution_count": 14,
   "metadata": {},
   "outputs": [
    {
     "output_type": "execute_result",
     "data": {
      "text/plain": [
       "        ent_regis  mun_regis  ent_resid  mun_resid  tloc_resid  ent_ocurr  \\\n",
       "39706          16         90         16         90           5         16   \n",
       "60315          28         38         28         38          14         28   \n",
       "67806          30        206         30        206           8         30   \n",
       "118827         20        546         20        546           1         20   \n",
       "120070         21         40         21         40           3         21   \n",
       "318721         13         76         13         67           5         13   \n",
       "337693         19         38         19         38          99         19   \n",
       "340523         19         39         19         21          14         19   \n",
       "340917         19         39         19         39          99         19   \n",
       "417526         19         39         19         26          15         19   \n",
       "432073         26         33         26         33          99         26   \n",
       "450798          5         30          5         30          15          5   \n",
       "456835          8         40          8         40           1          8   \n",
       "528071         32         39         32         39          99         32   \n",
       "535520          5         30          5         30          15          5   \n",
       "617928          5          3         99        999          99         99   \n",
       "637932         10          8         99        999          99         99   \n",
       "639398         11         17         11         17          14         11   \n",
       "702041          2          4          2          4          16          2   \n",
       "725227         10         23         10         21           5         10   \n",
       "\n",
       "        mun_ocurr  tloc_ocurr causa_def lista_mex  ...  loc_resid  loc_ocurr  \\\n",
       "39706          90           5      C64X       12J  ...        NaN        NaN   \n",
       "60315          38          14      C749       13Z  ...        NaN        NaN   \n",
       "67806         206           8      C229       09F  ...        NaN        NaN   \n",
       "118827        546           1      C910       14D  ...        NaN        NaN   \n",
       "120070         40           3      C80X       13Z  ...        NaN        NaN   \n",
       "318721         76           8      C439       11B  ...        5.0        1.0   \n",
       "337693         38          10      C61X       12F  ...     9999.0        1.0   \n",
       "340523         39          16      C229       09F  ...        1.0        1.0   \n",
       "340917         26          15      C809       13Z  ...     9999.0        1.0   \n",
       "417526         26          15      C719       13A  ...        1.0        1.0   \n",
       "432073         33          99      C809       13Z  ...     9999.0     9999.0   \n",
       "450798         30          15      C169       09B  ...        1.0        1.0   \n",
       "456835         40           7      C61X       12F  ...     7777.0        1.0   \n",
       "528071         10          13      C61X       12F  ...     9999.0        1.0   \n",
       "535520         30          15      C64X       12J  ...        1.0        NaN   \n",
       "617928        999          99      C760       13Z  ...     9999.0     9999.0   \n",
       "637932        999          99      C56X       12D  ...     9999.0     9999.0   \n",
       "639398         17          14      C259       09G  ...        1.0        1.0   \n",
       "702041          4          16      C159       09A  ...        1.0        1.0   \n",
       "725227         21           5      C349       10B  ...        1.0        1.0   \n",
       "\n",
       "        loc_ocur  ICD                                         detailCaus  \\\n",
       "39706        NaN  C64  Tumor maligno del riñón, excepto de la pelvis ...   \n",
       "60315        NaN  C64  Tumor maligno de la glándula suprarrenal, part...   \n",
       "67806        NaN  C22          Tumor maligno del hígado, no especificado   \n",
       "118827       NaN  C95                 Leucemia linfoblástica aguda [LLA]   \n",
       "120070       NaN  C25           Tumor maligno de sitios no especificados   \n",
       "318721       NaN  C43    Melanoma maligno de piel, sitio no especificado   \n",
       "337693       NaN  C61                       Tumor maligno de la próstata   \n",
       "340523       NaN  C22          Tumor maligno del hígado, no especificado   \n",
       "340917       NaN  C25      Tumor maligno, sitio primario no especificado   \n",
       "417526       NaN  C71  Tumor maligno del encéfalo, parte no especificada   \n",
       "432073       NaN  C25      Tumor maligno, sitio primario no especificado   \n",
       "450798       NaN  C16  Tumor maligno del estómago, parte no especificada   \n",
       "456835       NaN  C61                       Tumor maligno de la próstata   \n",
       "528071       NaN  C61                       Tumor maligno de la próstata   \n",
       "535520       1.0  C64  Tumor maligno del riñón, excepto de la pelvis ...   \n",
       "617928       NaN  C44          Tumor maligno de la cabeza, cara y cuello   \n",
       "637932       NaN  C56                           Tumor maligno del ovario   \n",
       "639398       NaN  C25  Tumor maligno del páncreas, parte no especificada   \n",
       "702041       NaN  C15   Tumor maligno del esófago, parte no especificada   \n",
       "725227       NaN  C34  Tumor maligno de los bronquios o del pulmón, p...   \n",
       "\n",
       "                     Organ  ICD_Mex  \\\n",
       "39706               Kidney      C68   \n",
       "60315               Kidney     C999   \n",
       "67806               Liver       C22   \n",
       "118827            Leukemia      C95   \n",
       "120070            Pancreas     C999   \n",
       "318721            Melanoma      C45   \n",
       "337693            Prostate      C61   \n",
       "340523              Liver       C22   \n",
       "340917            Pancreas     C999   \n",
       "417526               Brain      C71   \n",
       "432073            Pancreas     C999   \n",
       "450798             Stomach      C16   \n",
       "456835            Prostate      C61   \n",
       "528071            Prostate      C61   \n",
       "535520              Kidney      C68   \n",
       "617928  Skin non Melanoma      C999   \n",
       "637932               Ovary      C56   \n",
       "639398            Pancreas      C25   \n",
       "702041           Esophagus      C15   \n",
       "725227               Lungs      C34   \n",
       "\n",
       "                                           detailCaus_Mex  \\\n",
       "39706       Otros tumores malignos de las vías  urinarias   \n",
       "60315   Los demás tumores malignos de otros sitios y l...   \n",
       "67806   Tumor maligno del hígado y de las vías biliare...   \n",
       "118827                                          Leucemias   \n",
       "120070  Los demás tumores malignos de otros sitios y l...   \n",
       "318721                        Melanoma maligno de la piel   \n",
       "337693                       Tumor maligno de la próstata   \n",
       "340523  Tumor maligno del hígado y de las vías biliare...   \n",
       "340917  Los demás tumores malignos de otros sitios y l...   \n",
       "417526                         Tumor maligno del encéfalo   \n",
       "432073  Los demás tumores malignos de otros sitios y l...   \n",
       "450798                         Tumor maligno del estómago   \n",
       "456835                       Tumor maligno de la próstata   \n",
       "528071                       Tumor maligno de la próstata   \n",
       "535520      Otros tumores malignos de las vías  urinarias   \n",
       "617928  Los demás tumores malignos de otros sitios y l...   \n",
       "637932                           Tumor maligno del ovario   \n",
       "639398                         Tumor maligno del páncreas   \n",
       "702041                          Tumor maligno del esófago   \n",
       "725227  Tumor maligno de la tráquea, de los bronquios ...   \n",
       "\n",
       "                  organ_Mex  edadCalc  \n",
       "39706   Urinary Tract Other        66  \n",
       "60315                 Otros         8  \n",
       "67806                Liver         58  \n",
       "118827             Leukemia        28  \n",
       "120070                Otros        59  \n",
       "318721             Melanoma        48  \n",
       "337693             Prostate        79  \n",
       "340523               Liver        113  \n",
       "340917                Otros       113  \n",
       "417526                Brain        66  \n",
       "432073                Otros        82  \n",
       "450798              Stomach        66  \n",
       "456835             Prostate        66  \n",
       "528071             Prostate        84  \n",
       "535520  Urinary Tract Other         3  \n",
       "617928                Otros        54  \n",
       "637932                Ovary        88  \n",
       "639398             Pancreas      8064  \n",
       "702041            Esophagus         1  \n",
       "725227                Lungs        70  \n",
       "\n",
       "[20 rows x 61 columns]"
      ],
      "text/html": "<div>\n<style scoped>\n    .dataframe tbody tr th:only-of-type {\n        vertical-align: middle;\n    }\n\n    .dataframe tbody tr th {\n        vertical-align: top;\n    }\n\n    .dataframe thead th {\n        text-align: right;\n    }\n</style>\n<table border=\"1\" class=\"dataframe\">\n  <thead>\n    <tr style=\"text-align: right;\">\n      <th></th>\n      <th>ent_regis</th>\n      <th>mun_regis</th>\n      <th>ent_resid</th>\n      <th>mun_resid</th>\n      <th>tloc_resid</th>\n      <th>ent_ocurr</th>\n      <th>mun_ocurr</th>\n      <th>tloc_ocurr</th>\n      <th>causa_def</th>\n      <th>lista_mex</th>\n      <th>...</th>\n      <th>loc_resid</th>\n      <th>loc_ocurr</th>\n      <th>loc_ocur</th>\n      <th>ICD</th>\n      <th>detailCaus</th>\n      <th>Organ</th>\n      <th>ICD_Mex</th>\n      <th>detailCaus_Mex</th>\n      <th>organ_Mex</th>\n      <th>edadCalc</th>\n    </tr>\n  </thead>\n  <tbody>\n    <tr>\n      <th>39706</th>\n      <td>16</td>\n      <td>90</td>\n      <td>16</td>\n      <td>90</td>\n      <td>5</td>\n      <td>16</td>\n      <td>90</td>\n      <td>5</td>\n      <td>C64X</td>\n      <td>12J</td>\n      <td>...</td>\n      <td>NaN</td>\n      <td>NaN</td>\n      <td>NaN</td>\n      <td>C64</td>\n      <td>Tumor maligno del riñón, excepto de la pelvis ...</td>\n      <td>Kidney</td>\n      <td>C68</td>\n      <td>Otros tumores malignos de las vías  urinarias</td>\n      <td>Urinary Tract Other</td>\n      <td>66</td>\n    </tr>\n    <tr>\n      <th>60315</th>\n      <td>28</td>\n      <td>38</td>\n      <td>28</td>\n      <td>38</td>\n      <td>14</td>\n      <td>28</td>\n      <td>38</td>\n      <td>14</td>\n      <td>C749</td>\n      <td>13Z</td>\n      <td>...</td>\n      <td>NaN</td>\n      <td>NaN</td>\n      <td>NaN</td>\n      <td>C64</td>\n      <td>Tumor maligno de la glándula suprarrenal, part...</td>\n      <td>Kidney</td>\n      <td>C999</td>\n      <td>Los demás tumores malignos de otros sitios y l...</td>\n      <td>Otros</td>\n      <td>8</td>\n    </tr>\n    <tr>\n      <th>67806</th>\n      <td>30</td>\n      <td>206</td>\n      <td>30</td>\n      <td>206</td>\n      <td>8</td>\n      <td>30</td>\n      <td>206</td>\n      <td>8</td>\n      <td>C229</td>\n      <td>09F</td>\n      <td>...</td>\n      <td>NaN</td>\n      <td>NaN</td>\n      <td>NaN</td>\n      <td>C22</td>\n      <td>Tumor maligno del hígado, no especificado</td>\n      <td>Liver</td>\n      <td>C22</td>\n      <td>Tumor maligno del hígado y de las vías biliare...</td>\n      <td>Liver</td>\n      <td>58</td>\n    </tr>\n    <tr>\n      <th>118827</th>\n      <td>20</td>\n      <td>546</td>\n      <td>20</td>\n      <td>546</td>\n      <td>1</td>\n      <td>20</td>\n      <td>546</td>\n      <td>1</td>\n      <td>C910</td>\n      <td>14D</td>\n      <td>...</td>\n      <td>NaN</td>\n      <td>NaN</td>\n      <td>NaN</td>\n      <td>C95</td>\n      <td>Leucemia linfoblástica aguda [LLA]</td>\n      <td>Leukemia</td>\n      <td>C95</td>\n      <td>Leucemias</td>\n      <td>Leukemia</td>\n      <td>28</td>\n    </tr>\n    <tr>\n      <th>120070</th>\n      <td>21</td>\n      <td>40</td>\n      <td>21</td>\n      <td>40</td>\n      <td>3</td>\n      <td>21</td>\n      <td>40</td>\n      <td>3</td>\n      <td>C80X</td>\n      <td>13Z</td>\n      <td>...</td>\n      <td>NaN</td>\n      <td>NaN</td>\n      <td>NaN</td>\n      <td>C25</td>\n      <td>Tumor maligno de sitios no especificados</td>\n      <td>Pancreas</td>\n      <td>C999</td>\n      <td>Los demás tumores malignos de otros sitios y l...</td>\n      <td>Otros</td>\n      <td>59</td>\n    </tr>\n    <tr>\n      <th>318721</th>\n      <td>13</td>\n      <td>76</td>\n      <td>13</td>\n      <td>67</td>\n      <td>5</td>\n      <td>13</td>\n      <td>76</td>\n      <td>8</td>\n      <td>C439</td>\n      <td>11B</td>\n      <td>...</td>\n      <td>5.0</td>\n      <td>1.0</td>\n      <td>NaN</td>\n      <td>C43</td>\n      <td>Melanoma maligno de piel, sitio no especificado</td>\n      <td>Melanoma</td>\n      <td>C45</td>\n      <td>Melanoma maligno de la piel</td>\n      <td>Melanoma</td>\n      <td>48</td>\n    </tr>\n    <tr>\n      <th>337693</th>\n      <td>19</td>\n      <td>38</td>\n      <td>19</td>\n      <td>38</td>\n      <td>99</td>\n      <td>19</td>\n      <td>38</td>\n      <td>10</td>\n      <td>C61X</td>\n      <td>12F</td>\n      <td>...</td>\n      <td>9999.0</td>\n      <td>1.0</td>\n      <td>NaN</td>\n      <td>C61</td>\n      <td>Tumor maligno de la próstata</td>\n      <td>Prostate</td>\n      <td>C61</td>\n      <td>Tumor maligno de la próstata</td>\n      <td>Prostate</td>\n      <td>79</td>\n    </tr>\n    <tr>\n      <th>340523</th>\n      <td>19</td>\n      <td>39</td>\n      <td>19</td>\n      <td>21</td>\n      <td>14</td>\n      <td>19</td>\n      <td>39</td>\n      <td>16</td>\n      <td>C229</td>\n      <td>09F</td>\n      <td>...</td>\n      <td>1.0</td>\n      <td>1.0</td>\n      <td>NaN</td>\n      <td>C22</td>\n      <td>Tumor maligno del hígado, no especificado</td>\n      <td>Liver</td>\n      <td>C22</td>\n      <td>Tumor maligno del hígado y de las vías biliare...</td>\n      <td>Liver</td>\n      <td>113</td>\n    </tr>\n    <tr>\n      <th>340917</th>\n      <td>19</td>\n      <td>39</td>\n      <td>19</td>\n      <td>39</td>\n      <td>99</td>\n      <td>19</td>\n      <td>26</td>\n      <td>15</td>\n      <td>C809</td>\n      <td>13Z</td>\n      <td>...</td>\n      <td>9999.0</td>\n      <td>1.0</td>\n      <td>NaN</td>\n      <td>C25</td>\n      <td>Tumor maligno, sitio primario no especificado</td>\n      <td>Pancreas</td>\n      <td>C999</td>\n      <td>Los demás tumores malignos de otros sitios y l...</td>\n      <td>Otros</td>\n      <td>113</td>\n    </tr>\n    <tr>\n      <th>417526</th>\n      <td>19</td>\n      <td>39</td>\n      <td>19</td>\n      <td>26</td>\n      <td>15</td>\n      <td>19</td>\n      <td>26</td>\n      <td>15</td>\n      <td>C719</td>\n      <td>13A</td>\n      <td>...</td>\n      <td>1.0</td>\n      <td>1.0</td>\n      <td>NaN</td>\n      <td>C71</td>\n      <td>Tumor maligno del encéfalo, parte no especificada</td>\n      <td>Brain</td>\n      <td>C71</td>\n      <td>Tumor maligno del encéfalo</td>\n      <td>Brain</td>\n      <td>66</td>\n    </tr>\n    <tr>\n      <th>432073</th>\n      <td>26</td>\n      <td>33</td>\n      <td>26</td>\n      <td>33</td>\n      <td>99</td>\n      <td>26</td>\n      <td>33</td>\n      <td>99</td>\n      <td>C809</td>\n      <td>13Z</td>\n      <td>...</td>\n      <td>9999.0</td>\n      <td>9999.0</td>\n      <td>NaN</td>\n      <td>C25</td>\n      <td>Tumor maligno, sitio primario no especificado</td>\n      <td>Pancreas</td>\n      <td>C999</td>\n      <td>Los demás tumores malignos de otros sitios y l...</td>\n      <td>Otros</td>\n      <td>82</td>\n    </tr>\n    <tr>\n      <th>450798</th>\n      <td>5</td>\n      <td>30</td>\n      <td>5</td>\n      <td>30</td>\n      <td>15</td>\n      <td>5</td>\n      <td>30</td>\n      <td>15</td>\n      <td>C169</td>\n      <td>09B</td>\n      <td>...</td>\n      <td>1.0</td>\n      <td>1.0</td>\n      <td>NaN</td>\n      <td>C16</td>\n      <td>Tumor maligno del estómago, parte no especificada</td>\n      <td>Stomach</td>\n      <td>C16</td>\n      <td>Tumor maligno del estómago</td>\n      <td>Stomach</td>\n      <td>66</td>\n    </tr>\n    <tr>\n      <th>456835</th>\n      <td>8</td>\n      <td>40</td>\n      <td>8</td>\n      <td>40</td>\n      <td>1</td>\n      <td>8</td>\n      <td>40</td>\n      <td>7</td>\n      <td>C61X</td>\n      <td>12F</td>\n      <td>...</td>\n      <td>7777.0</td>\n      <td>1.0</td>\n      <td>NaN</td>\n      <td>C61</td>\n      <td>Tumor maligno de la próstata</td>\n      <td>Prostate</td>\n      <td>C61</td>\n      <td>Tumor maligno de la próstata</td>\n      <td>Prostate</td>\n      <td>66</td>\n    </tr>\n    <tr>\n      <th>528071</th>\n      <td>32</td>\n      <td>39</td>\n      <td>32</td>\n      <td>39</td>\n      <td>99</td>\n      <td>32</td>\n      <td>10</td>\n      <td>13</td>\n      <td>C61X</td>\n      <td>12F</td>\n      <td>...</td>\n      <td>9999.0</td>\n      <td>1.0</td>\n      <td>NaN</td>\n      <td>C61</td>\n      <td>Tumor maligno de la próstata</td>\n      <td>Prostate</td>\n      <td>C61</td>\n      <td>Tumor maligno de la próstata</td>\n      <td>Prostate</td>\n      <td>84</td>\n    </tr>\n    <tr>\n      <th>535520</th>\n      <td>5</td>\n      <td>30</td>\n      <td>5</td>\n      <td>30</td>\n      <td>15</td>\n      <td>5</td>\n      <td>30</td>\n      <td>15</td>\n      <td>C64X</td>\n      <td>12J</td>\n      <td>...</td>\n      <td>1.0</td>\n      <td>NaN</td>\n      <td>1.0</td>\n      <td>C64</td>\n      <td>Tumor maligno del riñón, excepto de la pelvis ...</td>\n      <td>Kidney</td>\n      <td>C68</td>\n      <td>Otros tumores malignos de las vías  urinarias</td>\n      <td>Urinary Tract Other</td>\n      <td>3</td>\n    </tr>\n    <tr>\n      <th>617928</th>\n      <td>5</td>\n      <td>3</td>\n      <td>99</td>\n      <td>999</td>\n      <td>99</td>\n      <td>99</td>\n      <td>999</td>\n      <td>99</td>\n      <td>C760</td>\n      <td>13Z</td>\n      <td>...</td>\n      <td>9999.0</td>\n      <td>9999.0</td>\n      <td>NaN</td>\n      <td>C44</td>\n      <td>Tumor maligno de la cabeza, cara y cuello</td>\n      <td>Skin non Melanoma</td>\n      <td>C999</td>\n      <td>Los demás tumores malignos de otros sitios y l...</td>\n      <td>Otros</td>\n      <td>54</td>\n    </tr>\n    <tr>\n      <th>637932</th>\n      <td>10</td>\n      <td>8</td>\n      <td>99</td>\n      <td>999</td>\n      <td>99</td>\n      <td>99</td>\n      <td>999</td>\n      <td>99</td>\n      <td>C56X</td>\n      <td>12D</td>\n      <td>...</td>\n      <td>9999.0</td>\n      <td>9999.0</td>\n      <td>NaN</td>\n      <td>C56</td>\n      <td>Tumor maligno del ovario</td>\n      <td>Ovary</td>\n      <td>C56</td>\n      <td>Tumor maligno del ovario</td>\n      <td>Ovary</td>\n      <td>88</td>\n    </tr>\n    <tr>\n      <th>639398</th>\n      <td>11</td>\n      <td>17</td>\n      <td>11</td>\n      <td>17</td>\n      <td>14</td>\n      <td>11</td>\n      <td>17</td>\n      <td>14</td>\n      <td>C259</td>\n      <td>09G</td>\n      <td>...</td>\n      <td>1.0</td>\n      <td>1.0</td>\n      <td>NaN</td>\n      <td>C25</td>\n      <td>Tumor maligno del páncreas, parte no especificada</td>\n      <td>Pancreas</td>\n      <td>C25</td>\n      <td>Tumor maligno del páncreas</td>\n      <td>Pancreas</td>\n      <td>8064</td>\n    </tr>\n    <tr>\n      <th>702041</th>\n      <td>2</td>\n      <td>4</td>\n      <td>2</td>\n      <td>4</td>\n      <td>16</td>\n      <td>2</td>\n      <td>4</td>\n      <td>16</td>\n      <td>C159</td>\n      <td>09A</td>\n      <td>...</td>\n      <td>1.0</td>\n      <td>1.0</td>\n      <td>NaN</td>\n      <td>C15</td>\n      <td>Tumor maligno del esófago, parte no especificada</td>\n      <td>Esophagus</td>\n      <td>C15</td>\n      <td>Tumor maligno del esófago</td>\n      <td>Esophagus</td>\n      <td>1</td>\n    </tr>\n    <tr>\n      <th>725227</th>\n      <td>10</td>\n      <td>23</td>\n      <td>10</td>\n      <td>21</td>\n      <td>5</td>\n      <td>10</td>\n      <td>21</td>\n      <td>5</td>\n      <td>C349</td>\n      <td>10B</td>\n      <td>...</td>\n      <td>1.0</td>\n      <td>1.0</td>\n      <td>NaN</td>\n      <td>C34</td>\n      <td>Tumor maligno de los bronquios o del pulmón, p...</td>\n      <td>Lungs</td>\n      <td>C34</td>\n      <td>Tumor maligno de la tráquea, de los bronquios ...</td>\n      <td>Lungs</td>\n      <td>70</td>\n    </tr>\n  </tbody>\n</table>\n<p>20 rows × 61 columns</p>\n</div>"
     },
     "metadata": {},
     "execution_count": 14
    }
   ],
   "source": [
    "ages =totalCopy.filter(['edad','anio_nacim','anio_ocur','anio_regis'], axis=1)\n",
    "totalCopy.query('edadCalc != edad')"
   ]
  },
  {
   "cell_type": "code",
   "execution_count": 15,
   "metadata": {},
   "outputs": [
    {
     "output_type": "execute_result",
     "data": {
      "text/plain": [
       "        ent_regis  mun_regis  ent_resid  mun_resid  tloc_resid  ent_ocurr  \\\n",
       "39706          16         90         16         90           5         16   \n",
       "60315          28         38         28         38          14         28   \n",
       "67806          30        206         30        206           8         30   \n",
       "118827         20        546         20        546           1         20   \n",
       "120070         21         40         21         40           3         21   \n",
       "318721         13         76         13         67           5         13   \n",
       "337693         19         38         19         38          99         19   \n",
       "340523         19         39         19         21          14         19   \n",
       "340917         19         39         19         39          99         19   \n",
       "417526         19         39         19         26          15         19   \n",
       "432073         26         33         26         33          99         26   \n",
       "450798          5         30          5         30          15          5   \n",
       "456835          8         40          8         40           1          8   \n",
       "528071         32         39         32         39          99         32   \n",
       "535520          5         30          5         30          15          5   \n",
       "617928          5          3         99        999          99         99   \n",
       "637932         10          8         99        999          99         99   \n",
       "702041          2          4          2          4          16          2   \n",
       "725227         10         23         10         21           5         10   \n",
       "\n",
       "        mun_ocurr  tloc_ocurr causa_def lista_mex  ...  loc_resid  loc_ocurr  \\\n",
       "39706          90           5      C64X       12J  ...        NaN        NaN   \n",
       "60315          38          14      C749       13Z  ...        NaN        NaN   \n",
       "67806         206           8      C229       09F  ...        NaN        NaN   \n",
       "118827        546           1      C910       14D  ...        NaN        NaN   \n",
       "120070         40           3      C80X       13Z  ...        NaN        NaN   \n",
       "318721         76           8      C439       11B  ...        5.0        1.0   \n",
       "337693         38          10      C61X       12F  ...     9999.0        1.0   \n",
       "340523         39          16      C229       09F  ...        1.0        1.0   \n",
       "340917         26          15      C809       13Z  ...     9999.0        1.0   \n",
       "417526         26          15      C719       13A  ...        1.0        1.0   \n",
       "432073         33          99      C809       13Z  ...     9999.0     9999.0   \n",
       "450798         30          15      C169       09B  ...        1.0        1.0   \n",
       "456835         40           7      C61X       12F  ...     7777.0        1.0   \n",
       "528071         10          13      C61X       12F  ...     9999.0        1.0   \n",
       "535520         30          15      C64X       12J  ...        1.0        NaN   \n",
       "617928        999          99      C760       13Z  ...     9999.0     9999.0   \n",
       "637932        999          99      C56X       12D  ...     9999.0     9999.0   \n",
       "702041          4          16      C159       09A  ...        1.0        1.0   \n",
       "725227         21           5      C349       10B  ...        1.0        1.0   \n",
       "\n",
       "        loc_ocur  ICD                                         detailCaus  \\\n",
       "39706        NaN  C64  Tumor maligno del riñón, excepto de la pelvis ...   \n",
       "60315        NaN  C64  Tumor maligno de la glándula suprarrenal, part...   \n",
       "67806        NaN  C22          Tumor maligno del hígado, no especificado   \n",
       "118827       NaN  C95                 Leucemia linfoblástica aguda [LLA]   \n",
       "120070       NaN  C25           Tumor maligno de sitios no especificados   \n",
       "318721       NaN  C43    Melanoma maligno de piel, sitio no especificado   \n",
       "337693       NaN  C61                       Tumor maligno de la próstata   \n",
       "340523       NaN  C22          Tumor maligno del hígado, no especificado   \n",
       "340917       NaN  C25      Tumor maligno, sitio primario no especificado   \n",
       "417526       NaN  C71  Tumor maligno del encéfalo, parte no especificada   \n",
       "432073       NaN  C25      Tumor maligno, sitio primario no especificado   \n",
       "450798       NaN  C16  Tumor maligno del estómago, parte no especificada   \n",
       "456835       NaN  C61                       Tumor maligno de la próstata   \n",
       "528071       NaN  C61                       Tumor maligno de la próstata   \n",
       "535520       1.0  C64  Tumor maligno del riñón, excepto de la pelvis ...   \n",
       "617928       NaN  C44          Tumor maligno de la cabeza, cara y cuello   \n",
       "637932       NaN  C56                           Tumor maligno del ovario   \n",
       "702041       NaN  C15   Tumor maligno del esófago, parte no especificada   \n",
       "725227       NaN  C34  Tumor maligno de los bronquios o del pulmón, p...   \n",
       "\n",
       "                     Organ  ICD_Mex  \\\n",
       "39706               Kidney      C68   \n",
       "60315               Kidney     C999   \n",
       "67806               Liver       C22   \n",
       "118827            Leukemia      C95   \n",
       "120070            Pancreas     C999   \n",
       "318721            Melanoma      C45   \n",
       "337693            Prostate      C61   \n",
       "340523              Liver       C22   \n",
       "340917            Pancreas     C999   \n",
       "417526               Brain      C71   \n",
       "432073            Pancreas     C999   \n",
       "450798             Stomach      C16   \n",
       "456835            Prostate      C61   \n",
       "528071            Prostate      C61   \n",
       "535520              Kidney      C68   \n",
       "617928  Skin non Melanoma      C999   \n",
       "637932               Ovary      C56   \n",
       "702041           Esophagus      C15   \n",
       "725227               Lungs      C34   \n",
       "\n",
       "                                           detailCaus_Mex  \\\n",
       "39706       Otros tumores malignos de las vías  urinarias   \n",
       "60315   Los demás tumores malignos de otros sitios y l...   \n",
       "67806   Tumor maligno del hígado y de las vías biliare...   \n",
       "118827                                          Leucemias   \n",
       "120070  Los demás tumores malignos de otros sitios y l...   \n",
       "318721                        Melanoma maligno de la piel   \n",
       "337693                       Tumor maligno de la próstata   \n",
       "340523  Tumor maligno del hígado y de las vías biliare...   \n",
       "340917  Los demás tumores malignos de otros sitios y l...   \n",
       "417526                         Tumor maligno del encéfalo   \n",
       "432073  Los demás tumores malignos de otros sitios y l...   \n",
       "450798                         Tumor maligno del estómago   \n",
       "456835                       Tumor maligno de la próstata   \n",
       "528071                       Tumor maligno de la próstata   \n",
       "535520      Otros tumores malignos de las vías  urinarias   \n",
       "617928  Los demás tumores malignos de otros sitios y l...   \n",
       "637932                           Tumor maligno del ovario   \n",
       "702041                          Tumor maligno del esófago   \n",
       "725227  Tumor maligno de la tráquea, de los bronquios ...   \n",
       "\n",
       "                  organ_Mex  edadCalc  \n",
       "39706   Urinary Tract Other        66  \n",
       "60315                 Otros         8  \n",
       "67806                Liver         58  \n",
       "118827             Leukemia        28  \n",
       "120070                Otros        59  \n",
       "318721             Melanoma        48  \n",
       "337693             Prostate        79  \n",
       "340523               Liver        113  \n",
       "340917                Otros       113  \n",
       "417526                Brain        66  \n",
       "432073                Otros        82  \n",
       "450798              Stomach        66  \n",
       "456835             Prostate        66  \n",
       "528071             Prostate        84  \n",
       "535520  Urinary Tract Other         3  \n",
       "617928                Otros        54  \n",
       "637932                Ovary        88  \n",
       "702041            Esophagus         1  \n",
       "725227                Lungs        70  \n",
       "\n",
       "[19 rows x 61 columns]"
      ],
      "text/html": "<div>\n<style scoped>\n    .dataframe tbody tr th:only-of-type {\n        vertical-align: middle;\n    }\n\n    .dataframe tbody tr th {\n        vertical-align: top;\n    }\n\n    .dataframe thead th {\n        text-align: right;\n    }\n</style>\n<table border=\"1\" class=\"dataframe\">\n  <thead>\n    <tr style=\"text-align: right;\">\n      <th></th>\n      <th>ent_regis</th>\n      <th>mun_regis</th>\n      <th>ent_resid</th>\n      <th>mun_resid</th>\n      <th>tloc_resid</th>\n      <th>ent_ocurr</th>\n      <th>mun_ocurr</th>\n      <th>tloc_ocurr</th>\n      <th>causa_def</th>\n      <th>lista_mex</th>\n      <th>...</th>\n      <th>loc_resid</th>\n      <th>loc_ocurr</th>\n      <th>loc_ocur</th>\n      <th>ICD</th>\n      <th>detailCaus</th>\n      <th>Organ</th>\n      <th>ICD_Mex</th>\n      <th>detailCaus_Mex</th>\n      <th>organ_Mex</th>\n      <th>edadCalc</th>\n    </tr>\n  </thead>\n  <tbody>\n    <tr>\n      <th>39706</th>\n      <td>16</td>\n      <td>90</td>\n      <td>16</td>\n      <td>90</td>\n      <td>5</td>\n      <td>16</td>\n      <td>90</td>\n      <td>5</td>\n      <td>C64X</td>\n      <td>12J</td>\n      <td>...</td>\n      <td>NaN</td>\n      <td>NaN</td>\n      <td>NaN</td>\n      <td>C64</td>\n      <td>Tumor maligno del riñón, excepto de la pelvis ...</td>\n      <td>Kidney</td>\n      <td>C68</td>\n      <td>Otros tumores malignos de las vías  urinarias</td>\n      <td>Urinary Tract Other</td>\n      <td>66</td>\n    </tr>\n    <tr>\n      <th>60315</th>\n      <td>28</td>\n      <td>38</td>\n      <td>28</td>\n      <td>38</td>\n      <td>14</td>\n      <td>28</td>\n      <td>38</td>\n      <td>14</td>\n      <td>C749</td>\n      <td>13Z</td>\n      <td>...</td>\n      <td>NaN</td>\n      <td>NaN</td>\n      <td>NaN</td>\n      <td>C64</td>\n      <td>Tumor maligno de la glándula suprarrenal, part...</td>\n      <td>Kidney</td>\n      <td>C999</td>\n      <td>Los demás tumores malignos de otros sitios y l...</td>\n      <td>Otros</td>\n      <td>8</td>\n    </tr>\n    <tr>\n      <th>67806</th>\n      <td>30</td>\n      <td>206</td>\n      <td>30</td>\n      <td>206</td>\n      <td>8</td>\n      <td>30</td>\n      <td>206</td>\n      <td>8</td>\n      <td>C229</td>\n      <td>09F</td>\n      <td>...</td>\n      <td>NaN</td>\n      <td>NaN</td>\n      <td>NaN</td>\n      <td>C22</td>\n      <td>Tumor maligno del hígado, no especificado</td>\n      <td>Liver</td>\n      <td>C22</td>\n      <td>Tumor maligno del hígado y de las vías biliare...</td>\n      <td>Liver</td>\n      <td>58</td>\n    </tr>\n    <tr>\n      <th>118827</th>\n      <td>20</td>\n      <td>546</td>\n      <td>20</td>\n      <td>546</td>\n      <td>1</td>\n      <td>20</td>\n      <td>546</td>\n      <td>1</td>\n      <td>C910</td>\n      <td>14D</td>\n      <td>...</td>\n      <td>NaN</td>\n      <td>NaN</td>\n      <td>NaN</td>\n      <td>C95</td>\n      <td>Leucemia linfoblástica aguda [LLA]</td>\n      <td>Leukemia</td>\n      <td>C95</td>\n      <td>Leucemias</td>\n      <td>Leukemia</td>\n      <td>28</td>\n    </tr>\n    <tr>\n      <th>120070</th>\n      <td>21</td>\n      <td>40</td>\n      <td>21</td>\n      <td>40</td>\n      <td>3</td>\n      <td>21</td>\n      <td>40</td>\n      <td>3</td>\n      <td>C80X</td>\n      <td>13Z</td>\n      <td>...</td>\n      <td>NaN</td>\n      <td>NaN</td>\n      <td>NaN</td>\n      <td>C25</td>\n      <td>Tumor maligno de sitios no especificados</td>\n      <td>Pancreas</td>\n      <td>C999</td>\n      <td>Los demás tumores malignos de otros sitios y l...</td>\n      <td>Otros</td>\n      <td>59</td>\n    </tr>\n    <tr>\n      <th>318721</th>\n      <td>13</td>\n      <td>76</td>\n      <td>13</td>\n      <td>67</td>\n      <td>5</td>\n      <td>13</td>\n      <td>76</td>\n      <td>8</td>\n      <td>C439</td>\n      <td>11B</td>\n      <td>...</td>\n      <td>5.0</td>\n      <td>1.0</td>\n      <td>NaN</td>\n      <td>C43</td>\n      <td>Melanoma maligno de piel, sitio no especificado</td>\n      <td>Melanoma</td>\n      <td>C45</td>\n      <td>Melanoma maligno de la piel</td>\n      <td>Melanoma</td>\n      <td>48</td>\n    </tr>\n    <tr>\n      <th>337693</th>\n      <td>19</td>\n      <td>38</td>\n      <td>19</td>\n      <td>38</td>\n      <td>99</td>\n      <td>19</td>\n      <td>38</td>\n      <td>10</td>\n      <td>C61X</td>\n      <td>12F</td>\n      <td>...</td>\n      <td>9999.0</td>\n      <td>1.0</td>\n      <td>NaN</td>\n      <td>C61</td>\n      <td>Tumor maligno de la próstata</td>\n      <td>Prostate</td>\n      <td>C61</td>\n      <td>Tumor maligno de la próstata</td>\n      <td>Prostate</td>\n      <td>79</td>\n    </tr>\n    <tr>\n      <th>340523</th>\n      <td>19</td>\n      <td>39</td>\n      <td>19</td>\n      <td>21</td>\n      <td>14</td>\n      <td>19</td>\n      <td>39</td>\n      <td>16</td>\n      <td>C229</td>\n      <td>09F</td>\n      <td>...</td>\n      <td>1.0</td>\n      <td>1.0</td>\n      <td>NaN</td>\n      <td>C22</td>\n      <td>Tumor maligno del hígado, no especificado</td>\n      <td>Liver</td>\n      <td>C22</td>\n      <td>Tumor maligno del hígado y de las vías biliare...</td>\n      <td>Liver</td>\n      <td>113</td>\n    </tr>\n    <tr>\n      <th>340917</th>\n      <td>19</td>\n      <td>39</td>\n      <td>19</td>\n      <td>39</td>\n      <td>99</td>\n      <td>19</td>\n      <td>26</td>\n      <td>15</td>\n      <td>C809</td>\n      <td>13Z</td>\n      <td>...</td>\n      <td>9999.0</td>\n      <td>1.0</td>\n      <td>NaN</td>\n      <td>C25</td>\n      <td>Tumor maligno, sitio primario no especificado</td>\n      <td>Pancreas</td>\n      <td>C999</td>\n      <td>Los demás tumores malignos de otros sitios y l...</td>\n      <td>Otros</td>\n      <td>113</td>\n    </tr>\n    <tr>\n      <th>417526</th>\n      <td>19</td>\n      <td>39</td>\n      <td>19</td>\n      <td>26</td>\n      <td>15</td>\n      <td>19</td>\n      <td>26</td>\n      <td>15</td>\n      <td>C719</td>\n      <td>13A</td>\n      <td>...</td>\n      <td>1.0</td>\n      <td>1.0</td>\n      <td>NaN</td>\n      <td>C71</td>\n      <td>Tumor maligno del encéfalo, parte no especificada</td>\n      <td>Brain</td>\n      <td>C71</td>\n      <td>Tumor maligno del encéfalo</td>\n      <td>Brain</td>\n      <td>66</td>\n    </tr>\n    <tr>\n      <th>432073</th>\n      <td>26</td>\n      <td>33</td>\n      <td>26</td>\n      <td>33</td>\n      <td>99</td>\n      <td>26</td>\n      <td>33</td>\n      <td>99</td>\n      <td>C809</td>\n      <td>13Z</td>\n      <td>...</td>\n      <td>9999.0</td>\n      <td>9999.0</td>\n      <td>NaN</td>\n      <td>C25</td>\n      <td>Tumor maligno, sitio primario no especificado</td>\n      <td>Pancreas</td>\n      <td>C999</td>\n      <td>Los demás tumores malignos de otros sitios y l...</td>\n      <td>Otros</td>\n      <td>82</td>\n    </tr>\n    <tr>\n      <th>450798</th>\n      <td>5</td>\n      <td>30</td>\n      <td>5</td>\n      <td>30</td>\n      <td>15</td>\n      <td>5</td>\n      <td>30</td>\n      <td>15</td>\n      <td>C169</td>\n      <td>09B</td>\n      <td>...</td>\n      <td>1.0</td>\n      <td>1.0</td>\n      <td>NaN</td>\n      <td>C16</td>\n      <td>Tumor maligno del estómago, parte no especificada</td>\n      <td>Stomach</td>\n      <td>C16</td>\n      <td>Tumor maligno del estómago</td>\n      <td>Stomach</td>\n      <td>66</td>\n    </tr>\n    <tr>\n      <th>456835</th>\n      <td>8</td>\n      <td>40</td>\n      <td>8</td>\n      <td>40</td>\n      <td>1</td>\n      <td>8</td>\n      <td>40</td>\n      <td>7</td>\n      <td>C61X</td>\n      <td>12F</td>\n      <td>...</td>\n      <td>7777.0</td>\n      <td>1.0</td>\n      <td>NaN</td>\n      <td>C61</td>\n      <td>Tumor maligno de la próstata</td>\n      <td>Prostate</td>\n      <td>C61</td>\n      <td>Tumor maligno de la próstata</td>\n      <td>Prostate</td>\n      <td>66</td>\n    </tr>\n    <tr>\n      <th>528071</th>\n      <td>32</td>\n      <td>39</td>\n      <td>32</td>\n      <td>39</td>\n      <td>99</td>\n      <td>32</td>\n      <td>10</td>\n      <td>13</td>\n      <td>C61X</td>\n      <td>12F</td>\n      <td>...</td>\n      <td>9999.0</td>\n      <td>1.0</td>\n      <td>NaN</td>\n      <td>C61</td>\n      <td>Tumor maligno de la próstata</td>\n      <td>Prostate</td>\n      <td>C61</td>\n      <td>Tumor maligno de la próstata</td>\n      <td>Prostate</td>\n      <td>84</td>\n    </tr>\n    <tr>\n      <th>535520</th>\n      <td>5</td>\n      <td>30</td>\n      <td>5</td>\n      <td>30</td>\n      <td>15</td>\n      <td>5</td>\n      <td>30</td>\n      <td>15</td>\n      <td>C64X</td>\n      <td>12J</td>\n      <td>...</td>\n      <td>1.0</td>\n      <td>NaN</td>\n      <td>1.0</td>\n      <td>C64</td>\n      <td>Tumor maligno del riñón, excepto de la pelvis ...</td>\n      <td>Kidney</td>\n      <td>C68</td>\n      <td>Otros tumores malignos de las vías  urinarias</td>\n      <td>Urinary Tract Other</td>\n      <td>3</td>\n    </tr>\n    <tr>\n      <th>617928</th>\n      <td>5</td>\n      <td>3</td>\n      <td>99</td>\n      <td>999</td>\n      <td>99</td>\n      <td>99</td>\n      <td>999</td>\n      <td>99</td>\n      <td>C760</td>\n      <td>13Z</td>\n      <td>...</td>\n      <td>9999.0</td>\n      <td>9999.0</td>\n      <td>NaN</td>\n      <td>C44</td>\n      <td>Tumor maligno de la cabeza, cara y cuello</td>\n      <td>Skin non Melanoma</td>\n      <td>C999</td>\n      <td>Los demás tumores malignos de otros sitios y l...</td>\n      <td>Otros</td>\n      <td>54</td>\n    </tr>\n    <tr>\n      <th>637932</th>\n      <td>10</td>\n      <td>8</td>\n      <td>99</td>\n      <td>999</td>\n      <td>99</td>\n      <td>99</td>\n      <td>999</td>\n      <td>99</td>\n      <td>C56X</td>\n      <td>12D</td>\n      <td>...</td>\n      <td>9999.0</td>\n      <td>9999.0</td>\n      <td>NaN</td>\n      <td>C56</td>\n      <td>Tumor maligno del ovario</td>\n      <td>Ovary</td>\n      <td>C56</td>\n      <td>Tumor maligno del ovario</td>\n      <td>Ovary</td>\n      <td>88</td>\n    </tr>\n    <tr>\n      <th>702041</th>\n      <td>2</td>\n      <td>4</td>\n      <td>2</td>\n      <td>4</td>\n      <td>16</td>\n      <td>2</td>\n      <td>4</td>\n      <td>16</td>\n      <td>C159</td>\n      <td>09A</td>\n      <td>...</td>\n      <td>1.0</td>\n      <td>1.0</td>\n      <td>NaN</td>\n      <td>C15</td>\n      <td>Tumor maligno del esófago, parte no especificada</td>\n      <td>Esophagus</td>\n      <td>C15</td>\n      <td>Tumor maligno del esófago</td>\n      <td>Esophagus</td>\n      <td>1</td>\n    </tr>\n    <tr>\n      <th>725227</th>\n      <td>10</td>\n      <td>23</td>\n      <td>10</td>\n      <td>21</td>\n      <td>5</td>\n      <td>10</td>\n      <td>21</td>\n      <td>5</td>\n      <td>C349</td>\n      <td>10B</td>\n      <td>...</td>\n      <td>1.0</td>\n      <td>1.0</td>\n      <td>NaN</td>\n      <td>C34</td>\n      <td>Tumor maligno de los bronquios o del pulmón, p...</td>\n      <td>Lungs</td>\n      <td>C34</td>\n      <td>Tumor maligno de la tráquea, de los bronquios ...</td>\n      <td>Lungs</td>\n      <td>70</td>\n    </tr>\n  </tbody>\n</table>\n<p>19 rows × 61 columns</p>\n</div>"
     },
     "metadata": {},
     "execution_count": 15
    }
   ],
   "source": [
    "index_names = totalCopy[ totalCopy['anio_ocur'] == 9999 ].index\n",
    "totalCopy.drop(index_names, inplace = True) \n",
    "totalCopy.query('edadCalc != edad')"
   ]
  },
  {
   "cell_type": "code",
   "execution_count": 16,
   "metadata": {},
   "outputs": [
    {
     "output_type": "execute_result",
     "data": {
      "text/plain": [
       "Empty DataFrame\n",
       "Columns: [ent_regis, mun_regis, ent_resid, mun_resid, tloc_resid, ent_ocurr, mun_ocurr, tloc_ocurr, causa_def, lista_mex, sexo, edad, dia_ocurr, mes_ocurr, anio_ocur, dia_regis, mes_regis, anio_regis, dia_nacim, mes_nacim, anio_nacim, ocupacion, escolarida, edo_civil, presunto, ocurr_trab, lugar_ocur, necropsia, asist_medi, sitio_ocur, cond_cert, nacionalid, derechohab, embarazo, rel_emba, horas, minutos, capitulo, grupo, lista1, gr_lismex, vio_fami, area_ur, edad_agru, complicaro, dia_cert, mes_cert, anio_cert, peso, lengua, cond_act, loc_resid, loc_ocurr, loc_ocur, ICD, detailCaus, Organ, ICD_Mex, detailCaus_Mex, organ_Mex, edadCalc]\n",
       "Index: []\n",
       "\n",
       "[0 rows x 61 columns]"
      ],
      "text/html": "<div>\n<style scoped>\n    .dataframe tbody tr th:only-of-type {\n        vertical-align: middle;\n    }\n\n    .dataframe tbody tr th {\n        vertical-align: top;\n    }\n\n    .dataframe thead th {\n        text-align: right;\n    }\n</style>\n<table border=\"1\" class=\"dataframe\">\n  <thead>\n    <tr style=\"text-align: right;\">\n      <th></th>\n      <th>ent_regis</th>\n      <th>mun_regis</th>\n      <th>ent_resid</th>\n      <th>mun_resid</th>\n      <th>tloc_resid</th>\n      <th>ent_ocurr</th>\n      <th>mun_ocurr</th>\n      <th>tloc_ocurr</th>\n      <th>causa_def</th>\n      <th>lista_mex</th>\n      <th>...</th>\n      <th>loc_resid</th>\n      <th>loc_ocurr</th>\n      <th>loc_ocur</th>\n      <th>ICD</th>\n      <th>detailCaus</th>\n      <th>Organ</th>\n      <th>ICD_Mex</th>\n      <th>detailCaus_Mex</th>\n      <th>organ_Mex</th>\n      <th>edadCalc</th>\n    </tr>\n  </thead>\n  <tbody>\n  </tbody>\n</table>\n<p>0 rows × 61 columns</p>\n</div>"
     },
     "metadata": {},
     "execution_count": 16
    }
   ],
   "source": [
    "#totalCopy[(totalCopy[\"edad\"]!=totalCopy[\"edadCalc\"]) & (totalCopy[\"edad\"] > 0)].count()\n",
    "totalCopy.loc[(totalCopy[\"edad\"]!=totalCopy[\"edadCalc\"]), 'edad'] = totalCopy['edadCalc']\n",
    "totalCopy.query('edadCalc != edad')"
   ]
  },
  {
   "cell_type": "code",
   "execution_count": 17,
   "metadata": {},
   "outputs": [],
   "source": [
    "years = totalCopy['edad'].value_counts().rename_axis('unique_values').reset_index(name='counts')\n",
    "years.to_csv('edad.csv')"
   ]
  },
  {
   "cell_type": "code",
   "execution_count": 18,
   "metadata": {},
   "outputs": [
    {
     "output_type": "execute_result",
     "data": {
      "text/plain": [
       "        ent_regis  mun_regis  ent_resid  mun_resid  tloc_resid  ent_ocurr  \\\n",
       "4969            5         30          5         30          15          5   \n",
       "5244            6          2         14         22           7          6   \n",
       "6944            7         54          7         54           1          7   \n",
       "9164            8          2          8          2           1          8   \n",
       "9288            8         19          8         36           1          8   \n",
       "...           ...        ...        ...        ...         ...        ...   \n",
       "774308         27          4         27          4          14         27   \n",
       "780366         30        118         30         44          13         30   \n",
       "783214         30         87         30         87          14         30   \n",
       "786932         32         10         32         10          13         32   \n",
       "787073         32         40         32         40           5         32   \n",
       "\n",
       "        mun_ocurr  tloc_ocurr causa_def lista_mex  ...  loc_resid  loc_ocurr  \\\n",
       "4969           30          15      C749       13Z  ...        NaN        NaN   \n",
       "5244            2          13      C920       14D  ...        NaN        NaN   \n",
       "6944           54           1      C710       13A  ...        NaN        NaN   \n",
       "9164           19          15      C710       13A  ...        NaN        NaN   \n",
       "9288           19          15      C920       14D  ...        NaN        NaN   \n",
       "...           ...         ...       ...       ...  ...        ...        ...   \n",
       "774308          4          14      C749       13Z  ...        1.0        1.0   \n",
       "780366        118          13      C959       14D  ...        1.0        1.0   \n",
       "783214         87          14      C930       14D  ...        1.0        1.0   \n",
       "786932         56          13      C380       10Z  ...        1.0        1.0   \n",
       "787073         56          13      C419       11A  ...        1.0        1.0   \n",
       "\n",
       "        loc_ocur  ICD                                         detailCaus  \\\n",
       "4969         NaN  C64  Tumor maligno de la glándula suprarrenal, part...   \n",
       "5244         NaN  C95                 Leucemia mieloblástica aguda [LMA]   \n",
       "6944         NaN  C71  Tumor maligno del cerebro, excepto lóbulos y v...   \n",
       "9164         NaN  C71  Tumor maligno del cerebro, excepto lóbulos y v...   \n",
       "9288         NaN  C95                 Leucemia mieloblástica aguda [LMA]   \n",
       "...          ...  ...                                                ...   \n",
       "774308       NaN  C64  Tumor maligno de la glándula suprarrenal, part...   \n",
       "780366       NaN  C95                          Leucemia, no especificada   \n",
       "783214       NaN  C95             Leucemia monocítica/monoblástica aguda   \n",
       "786932       NaN  C42                          Tumor maligno del corazón   \n",
       "787073       NaN  C40  Tumor maligno del hueso y del cartílago articu...   \n",
       "\n",
       "           Organ  ICD_Mex                                     detailCaus_Mex  \\\n",
       "4969      Kidney     C999  Los demás tumores malignos de otros sitios y l...   \n",
       "5244    Leukemia      C95                                          Leucemias   \n",
       "6944       Brain      C71                         Tumor maligno del encéfalo   \n",
       "9164       Brain      C71                         Tumor maligno del encéfalo   \n",
       "9288    Leukemia      C95                                          Leucemias   \n",
       "...          ...      ...                                                ...   \n",
       "774308    Kidney     C999  Los demás tumores malignos de otros sitios y l...   \n",
       "780366  Leukemia      C95                                          Leucemias   \n",
       "783214  Leukemia      C95                                          Leucemias   \n",
       "786932     Heart      C30  Los demás tumores malignos de órganos respirat...   \n",
       "787073      Bone      C40  Tumores malignos de los huesos y de los cartíl...   \n",
       "\n",
       "                 organ_Mex  edadCalc  \n",
       "4969                 Otros         0  \n",
       "5244              Leukemia         0  \n",
       "6944                 Brain         0  \n",
       "9164                 Brain         0  \n",
       "9288              Leukemia         0  \n",
       "...                    ...       ...  \n",
       "774308               Otros         0  \n",
       "780366            Leukemia         0  \n",
       "783214            Leukemia         0  \n",
       "786932  Outter Respiratory         0  \n",
       "787073                Bone         0  \n",
       "\n",
       "[381 rows x 61 columns]"
      ],
      "text/html": "<div>\n<style scoped>\n    .dataframe tbody tr th:only-of-type {\n        vertical-align: middle;\n    }\n\n    .dataframe tbody tr th {\n        vertical-align: top;\n    }\n\n    .dataframe thead th {\n        text-align: right;\n    }\n</style>\n<table border=\"1\" class=\"dataframe\">\n  <thead>\n    <tr style=\"text-align: right;\">\n      <th></th>\n      <th>ent_regis</th>\n      <th>mun_regis</th>\n      <th>ent_resid</th>\n      <th>mun_resid</th>\n      <th>tloc_resid</th>\n      <th>ent_ocurr</th>\n      <th>mun_ocurr</th>\n      <th>tloc_ocurr</th>\n      <th>causa_def</th>\n      <th>lista_mex</th>\n      <th>...</th>\n      <th>loc_resid</th>\n      <th>loc_ocurr</th>\n      <th>loc_ocur</th>\n      <th>ICD</th>\n      <th>detailCaus</th>\n      <th>Organ</th>\n      <th>ICD_Mex</th>\n      <th>detailCaus_Mex</th>\n      <th>organ_Mex</th>\n      <th>edadCalc</th>\n    </tr>\n  </thead>\n  <tbody>\n    <tr>\n      <th>4969</th>\n      <td>5</td>\n      <td>30</td>\n      <td>5</td>\n      <td>30</td>\n      <td>15</td>\n      <td>5</td>\n      <td>30</td>\n      <td>15</td>\n      <td>C749</td>\n      <td>13Z</td>\n      <td>...</td>\n      <td>NaN</td>\n      <td>NaN</td>\n      <td>NaN</td>\n      <td>C64</td>\n      <td>Tumor maligno de la glándula suprarrenal, part...</td>\n      <td>Kidney</td>\n      <td>C999</td>\n      <td>Los demás tumores malignos de otros sitios y l...</td>\n      <td>Otros</td>\n      <td>0</td>\n    </tr>\n    <tr>\n      <th>5244</th>\n      <td>6</td>\n      <td>2</td>\n      <td>14</td>\n      <td>22</td>\n      <td>7</td>\n      <td>6</td>\n      <td>2</td>\n      <td>13</td>\n      <td>C920</td>\n      <td>14D</td>\n      <td>...</td>\n      <td>NaN</td>\n      <td>NaN</td>\n      <td>NaN</td>\n      <td>C95</td>\n      <td>Leucemia mieloblástica aguda [LMA]</td>\n      <td>Leukemia</td>\n      <td>C95</td>\n      <td>Leucemias</td>\n      <td>Leukemia</td>\n      <td>0</td>\n    </tr>\n    <tr>\n      <th>6944</th>\n      <td>7</td>\n      <td>54</td>\n      <td>7</td>\n      <td>54</td>\n      <td>1</td>\n      <td>7</td>\n      <td>54</td>\n      <td>1</td>\n      <td>C710</td>\n      <td>13A</td>\n      <td>...</td>\n      <td>NaN</td>\n      <td>NaN</td>\n      <td>NaN</td>\n      <td>C71</td>\n      <td>Tumor maligno del cerebro, excepto lóbulos y v...</td>\n      <td>Brain</td>\n      <td>C71</td>\n      <td>Tumor maligno del encéfalo</td>\n      <td>Brain</td>\n      <td>0</td>\n    </tr>\n    <tr>\n      <th>9164</th>\n      <td>8</td>\n      <td>2</td>\n      <td>8</td>\n      <td>2</td>\n      <td>1</td>\n      <td>8</td>\n      <td>19</td>\n      <td>15</td>\n      <td>C710</td>\n      <td>13A</td>\n      <td>...</td>\n      <td>NaN</td>\n      <td>NaN</td>\n      <td>NaN</td>\n      <td>C71</td>\n      <td>Tumor maligno del cerebro, excepto lóbulos y v...</td>\n      <td>Brain</td>\n      <td>C71</td>\n      <td>Tumor maligno del encéfalo</td>\n      <td>Brain</td>\n      <td>0</td>\n    </tr>\n    <tr>\n      <th>9288</th>\n      <td>8</td>\n      <td>19</td>\n      <td>8</td>\n      <td>36</td>\n      <td>1</td>\n      <td>8</td>\n      <td>19</td>\n      <td>15</td>\n      <td>C920</td>\n      <td>14D</td>\n      <td>...</td>\n      <td>NaN</td>\n      <td>NaN</td>\n      <td>NaN</td>\n      <td>C95</td>\n      <td>Leucemia mieloblástica aguda [LMA]</td>\n      <td>Leukemia</td>\n      <td>C95</td>\n      <td>Leucemias</td>\n      <td>Leukemia</td>\n      <td>0</td>\n    </tr>\n    <tr>\n      <th>...</th>\n      <td>...</td>\n      <td>...</td>\n      <td>...</td>\n      <td>...</td>\n      <td>...</td>\n      <td>...</td>\n      <td>...</td>\n      <td>...</td>\n      <td>...</td>\n      <td>...</td>\n      <td>...</td>\n      <td>...</td>\n      <td>...</td>\n      <td>...</td>\n      <td>...</td>\n      <td>...</td>\n      <td>...</td>\n      <td>...</td>\n      <td>...</td>\n      <td>...</td>\n      <td>...</td>\n    </tr>\n    <tr>\n      <th>774308</th>\n      <td>27</td>\n      <td>4</td>\n      <td>27</td>\n      <td>4</td>\n      <td>14</td>\n      <td>27</td>\n      <td>4</td>\n      <td>14</td>\n      <td>C749</td>\n      <td>13Z</td>\n      <td>...</td>\n      <td>1.0</td>\n      <td>1.0</td>\n      <td>NaN</td>\n      <td>C64</td>\n      <td>Tumor maligno de la glándula suprarrenal, part...</td>\n      <td>Kidney</td>\n      <td>C999</td>\n      <td>Los demás tumores malignos de otros sitios y l...</td>\n      <td>Otros</td>\n      <td>0</td>\n    </tr>\n    <tr>\n      <th>780366</th>\n      <td>30</td>\n      <td>118</td>\n      <td>30</td>\n      <td>44</td>\n      <td>13</td>\n      <td>30</td>\n      <td>118</td>\n      <td>13</td>\n      <td>C959</td>\n      <td>14D</td>\n      <td>...</td>\n      <td>1.0</td>\n      <td>1.0</td>\n      <td>NaN</td>\n      <td>C95</td>\n      <td>Leucemia, no especificada</td>\n      <td>Leukemia</td>\n      <td>C95</td>\n      <td>Leucemias</td>\n      <td>Leukemia</td>\n      <td>0</td>\n    </tr>\n    <tr>\n      <th>783214</th>\n      <td>30</td>\n      <td>87</td>\n      <td>30</td>\n      <td>87</td>\n      <td>14</td>\n      <td>30</td>\n      <td>87</td>\n      <td>14</td>\n      <td>C930</td>\n      <td>14D</td>\n      <td>...</td>\n      <td>1.0</td>\n      <td>1.0</td>\n      <td>NaN</td>\n      <td>C95</td>\n      <td>Leucemia monocítica/monoblástica aguda</td>\n      <td>Leukemia</td>\n      <td>C95</td>\n      <td>Leucemias</td>\n      <td>Leukemia</td>\n      <td>0</td>\n    </tr>\n    <tr>\n      <th>786932</th>\n      <td>32</td>\n      <td>10</td>\n      <td>32</td>\n      <td>10</td>\n      <td>13</td>\n      <td>32</td>\n      <td>56</td>\n      <td>13</td>\n      <td>C380</td>\n      <td>10Z</td>\n      <td>...</td>\n      <td>1.0</td>\n      <td>1.0</td>\n      <td>NaN</td>\n      <td>C42</td>\n      <td>Tumor maligno del corazón</td>\n      <td>Heart</td>\n      <td>C30</td>\n      <td>Los demás tumores malignos de órganos respirat...</td>\n      <td>Outter Respiratory</td>\n      <td>0</td>\n    </tr>\n    <tr>\n      <th>787073</th>\n      <td>32</td>\n      <td>40</td>\n      <td>32</td>\n      <td>40</td>\n      <td>5</td>\n      <td>32</td>\n      <td>56</td>\n      <td>13</td>\n      <td>C419</td>\n      <td>11A</td>\n      <td>...</td>\n      <td>1.0</td>\n      <td>1.0</td>\n      <td>NaN</td>\n      <td>C40</td>\n      <td>Tumor maligno del hueso y del cartílago articu...</td>\n      <td>Bone</td>\n      <td>C40</td>\n      <td>Tumores malignos de los huesos y de los cartíl...</td>\n      <td>Bone</td>\n      <td>0</td>\n    </tr>\n  </tbody>\n</table>\n<p>381 rows × 61 columns</p>\n</div>"
     },
     "metadata": {},
     "execution_count": 18
    }
   ],
   "source": [
    "totalCopy.loc[totalCopy['edad'] == 0]"
   ]
  },
  {
   "cell_type": "code",
   "execution_count": 19,
   "metadata": {},
   "outputs": [],
   "source": [
    "#Override Test File\n",
    "from os.path import dirname\n",
    "pPath = dirname(dirname(os.getcwd()))+'\\\\CleansingNotebooks\\\\TotalCleanedTest.csv'\n",
    "totalCopy.to_csv(pPath)"
   ]
  },
  {
   "source": [
    "## Delete null Vals\n",
    "\n",
    "Ignore this don't run it"
   ],
   "cell_type": "markdown",
   "metadata": {}
  },
  {
   "cell_type": "code",
   "execution_count": null,
   "metadata": {},
   "outputs": [],
   "source": [
    "index_names = totalCopy[((totalCopy['anio_ocur'] == 99) | (totalCopy['mes_ocurr'] == 99)| (totalCopy['dia_ocurr'] == 99))].index\n",
    "totalCopy.drop(index_names, inplace = True) \n",
    "index_names = totalCopy[((totalCopy['anio_nacim'] == 99) | (totalCopy['mes_nacim'] == 99)| (totalCopy['dia_nacim'] == 99))].index\n",
    "totalCopy.drop(index_names, inplace = True) \n",
    "totalDefunc = totalDefunc.drop(columns=['index','Unnamed: 59','par_agre','ent_ocules','mun_ocules','loc_ocules','razon_m','dis_re_oax'])"
   ]
  }
 ]
}