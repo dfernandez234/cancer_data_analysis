{
 "metadata": {
  "language_info": {
   "codemirror_mode": {
    "name": "ipython",
    "version": 3
   },
   "file_extension": ".py",
   "mimetype": "text/x-python",
   "name": "python",
   "nbconvert_exporter": "python",
   "pygments_lexer": "ipython3",
   "version": "3.8.3"
  },
  "orig_nbformat": 2,
  "kernelspec": {
   "name": "python383jvsc74a57bd0ed225720166559e7176d3793db16a2fd8d295f725007103b21ac3099d2a89ee8",
   "display_name": "Python"
  }
 },
 "nbformat": 4,
 "nbformat_minor": 2,
 "cells": [
  {
   "cell_type": "code",
   "execution_count": 2,
   "metadata": {},
   "outputs": [],
   "source": [
    "#Librerias\n",
    "import pandas as pd\n",
    "import numpy as np\n",
    "import seaborn as sns\n",
    "import matplotlib.pyplot as plt\n",
    "import os\n",
    "import re"
   ]
  },
  {
   "cell_type": "code",
   "execution_count": 17,
   "metadata": {},
   "outputs": [],
   "source": [
    "def read_file(file):\n",
    "    fields = ['DIAG_INI', 'EGRESO','ENTIDAD','MUNIC','SEXO','EDAD']\n",
    "    df = pd.read_csv(file, skipinitialspace=True, usecols=fields)\n",
    "    df.keys()\n",
    "    dff = df[df.DIAG_INI.str.contains('^C', regex= True, na=False)]\n",
    "    return dff\n"
   ]
  },
  {
   "cell_type": "code",
   "execution_count": 18,
   "metadata": {},
   "outputs": [],
   "source": [
    "def add_icd(df):\n",
    "    currDict = pd.read_excel('CODEX.xlsx')\n",
    "    currDict.set_index('cause', inplace=True)\n",
    "    cause_dict = currDict.to_dict()['ICD']\n",
    "    df['ICD'] = df['DIAG_INI'].map(cause_dict)\n",
    "    MexMuerto = pd.read_excel('types.xlsx')\n",
    "    MexMuerto.set_index('ICD', inplace=True)\n",
    "    MexMuerto = MexMuerto.to_dict()['organ']\n",
    "    df['organ'] = df['ICD'].map(MexMuerto)\n",
    "    return df"
   ]
  },
  {
   "cell_type": "code",
   "execution_count": 19,
   "metadata": {},
   "outputs": [],
   "source": [
    "def add_states(dff):\n",
    "    dff.SEXO = dff.SEXO.astype(int)\n",
    "    dff.ENTIDAD = dff.ENTIDAD.astype(int)\n",
    "    dff.MUNIC = dff.MUNIC.astype(int)\n",
    "    dff.EDAD = dff.EDAD.astype(int)\n",
    "    dff['ENTIDAD'] = dff['ENTIDAD'].apply(lambda x: '{0:0>2}'.format(x))\n",
    "    dff['MUNIC'] = dff['MUNIC'].apply(lambda x: '{0:0>3}'.format(x))\n",
    "    index_names = dff[((dff['ENTIDAD'] == '99') & (dff['MUNIC'] == '999'))].index\n",
    "    dff.drop(index_names, inplace = True) \n",
    "    from os.path import dirname\n",
    "    stateDict = pd.read_excel('states.xlsx')\n",
    "    stateDict['code'] = stateDict['code'].apply(lambda x: '{0:0>2}'.format(x))\n",
    "    stateDict.set_index('code', inplace=True)\n",
    "    cause_dict = stateDict.to_dict()['state']\n",
    "    new_col = dff['ENTIDAD'].map(cause_dict)\n",
    "    dff.insert(loc=4, column='ENT_MX', value=new_col)\n",
    "    return dff"
   ]
  },
  {
   "cell_type": "code",
   "execution_count": 20,
   "metadata": {},
   "outputs": [],
   "source": [
    "def add_muns(dff):\n",
    "    from os.path import dirname\n",
    "    stateDict = pd.read_excel('states.xlsx')\n",
    "    stateDict['code'] = stateDict['code'].apply(lambda x: '{0:0>2}'.format(x))\n",
    "    stateDict.set_index('code', inplace=True)\n",
    "    cause_dict = stateDict.to_dict()['state']\n",
    "    claves = list()\n",
    "    for key in cause_dict.keys():\n",
    "        claves.append(key)\n",
    "    currDict = pd.read_excel('Municipalities.xlsx')\n",
    "    currDict['Clave_Entidad'] = currDict['Clave_Entidad'].apply(lambda x: '{0:0>2}'.format(x))\n",
    "    currDict['Clave_Mun'] = currDict['Clave_Mun'].apply(lambda x: '{0:0>3}'.format(x))\n",
    "    df_ = pd.DataFrame(dff['ENTIDAD'])\n",
    "    del df_['ENTIDAD']\n",
    "    muns = list()\n",
    "    cols = list()\n",
    "    i=0\n",
    "    for item in claves:\n",
    "        mun = currDict.loc[(currDict['Clave_Entidad'] == item)]\n",
    "        mun.set_index('Clave_Mun', inplace=True)\n",
    "        currMun = mun.to_dict()['Nombre_Municipio']\n",
    "        new_col = dff.loc[dff['ENTIDAD'] == item]['MUNIC'].map(currMun)\n",
    "        name = \"col\"+str(i)\n",
    "        df_.insert(i, column=name, value=new_col)\n",
    "        muns.append(currMun)\n",
    "        cols.append(name)\n",
    "        i = i+1\n",
    "    df_.fillna('', inplace=True)\n",
    "    df_['combined'] = df_[cols].apply(lambda row: ''.join(row.values.astype(str)), axis=1)\n",
    "    new_col = df_['combined']\n",
    "    dff.insert(6, column='MUNIC_MX', value=new_col)\n",
    "    return dff"
   ]
  },
  {
   "cell_type": "code",
   "execution_count": 22,
   "metadata": {},
   "outputs": [],
   "source": [
    "def add_timestamp(dff):\n",
    "    index_names = dff[((dff['EGRESO'] == 99) | (dff['EGRESO'] == 999))].index\n",
    "    dff.drop(index_names, inplace = True) \n",
    "    dff['EGRESO'] =  pd.to_datetime(dff['EGRESO'], yearfirst = True, errors = 'raise')\n",
    "    dff.reset_index(inplace=True)\n",
    "    dff.drop(columns=['index'],inplace=True)\n",
    "    return dff"
   ]
  },
  {
   "cell_type": "code",
   "execution_count": 23,
   "metadata": {},
   "outputs": [
    {
     "output_type": "execute_result",
     "data": {
      "text/plain": [
       "['c:\\\\Users\\\\David Fernandez\\\\Desktop\\\\pruebasInci\\\\Egresos\\\\EGRESO_2010.csv',\n",
       " 'c:\\\\Users\\\\David Fernandez\\\\Desktop\\\\pruebasInci\\\\Egresos\\\\EGRESO_2011.csv',\n",
       " 'c:\\\\Users\\\\David Fernandez\\\\Desktop\\\\pruebasInci\\\\Egresos\\\\EGRESO_2012.csv',\n",
       " 'c:\\\\Users\\\\David Fernandez\\\\Desktop\\\\pruebasInci\\\\Egresos\\\\EGRESO_2013.csv',\n",
       " 'c:\\\\Users\\\\David Fernandez\\\\Desktop\\\\pruebasInci\\\\Egresos\\\\EGRESO_2014.csv',\n",
       " 'c:\\\\Users\\\\David Fernandez\\\\Desktop\\\\pruebasInci\\\\Egresos\\\\EGRESO_2015.csv',\n",
       " 'c:\\\\Users\\\\David Fernandez\\\\Desktop\\\\pruebasInci\\\\Egresos\\\\EGRESO_2016.csv',\n",
       " 'c:\\\\Users\\\\David Fernandez\\\\Desktop\\\\pruebasInci\\\\Egresos\\\\EGRESO_2018.csv',\n",
       " 'c:\\\\Users\\\\David Fernandez\\\\Desktop\\\\pruebasInci\\\\Egresos\\\\EGRESO_2019.csv']"
      ]
     },
     "metadata": {},
     "execution_count": 23
    }
   ],
   "source": [
    "dirs = list()\n",
    "from os.path import dirname\n",
    "dir = os.getcwd()+\"\\\\Egresos\"\n",
    "for filename in os.listdir(dir):\n",
    "    if filename.endswith(\".csv\") or filename.endswith(\".CSV\"):\n",
    "        dirs.append(dir+\"\\\\\"+filename)\n",
    "dirs"
   ]
  },
  {
   "cell_type": "code",
   "execution_count": 24,
   "metadata": {},
   "outputs": [
    {
     "output_type": "stream",
     "name": "stdout",
     "text": [
      "c:\\Users\\David Fernandez\\Desktop\\pruebasInci\\Egresos\\EGRESO_2010.csv\n",
      "c:\\Users\\David Fernandez\\Desktop\\pruebasInci\\Egresos\\EGRESO_2011.csv\n",
      "c:\\Users\\David Fernandez\\Desktop\\pruebasInci\\Egresos\\EGRESO_2012.csv\n",
      "c:\\Users\\David Fernandez\\Desktop\\pruebasInci\\Egresos\\EGRESO_2013.csv\n",
      "c:\\Users\\David Fernandez\\Desktop\\pruebasInci\\Egresos\\EGRESO_2014.csv\n",
      "c:\\Users\\David Fernandez\\Desktop\\pruebasInci\\Egresos\\EGRESO_2015.csv\n",
      "c:\\Users\\David Fernandez\\Desktop\\pruebasInci\\Egresos\\EGRESO_2016.csv\n",
      "c:\\Users\\David Fernandez\\Desktop\\pruebasInci\\Egresos\\EGRESO_2018.csv\n",
      "c:\\Users\\David Fernandez\\Desktop\\pruebasInci\\Egresos\\EGRESO_2019.csv\n"
     ]
    }
   ],
   "source": [
    "for filename in dirs:\n",
    "    print(filename)\n",
    "    m = re.search('(\\d{4})', filename)\n",
    "    currDF = read_file(filename)\n",
    "    icd = add_icd(currDF)\n",
    "    states = add_states(icd)\n",
    "    muns = add_muns(states)\n",
    "    time = add_timestamp(muns)\n",
    "    name = 'Cleaned\\Inc_'+m.group(1)+'.csv' \n",
    "    time.to_csv(name)"
   ]
  },
  {
   "source": [
    "### 2017 "
   ],
   "cell_type": "markdown",
   "metadata": {}
  },
  {
   "cell_type": "code",
   "execution_count": 25,
   "metadata": {},
   "outputs": [],
   "source": [
    "def read_file_17():\n",
    "    file = os.getcwd()+\"\\\\egresos_new\\\\EGRESO_2017.csv\"\n",
    "    fields = ['DIAG_INI', 'EGRESO','ENTIDAD','MUNIC','SEXO','EDAD']\n",
    "    df = pd.read_csv(file, sep='|', skipinitialspace=True, usecols=fields)\n",
    "    df.keys()\n",
    "    dff = df[df.DIAG_INI.str.contains('^C', regex= True, na=False)]\n",
    "    return dff\n"
   ]
  },
  {
   "cell_type": "code",
   "execution_count": 26,
   "metadata": {},
   "outputs": [],
   "source": [
    "currDF = read_file_17()\n",
    "icd = add_icd(currDF)\n",
    "states = add_states(icd)\n",
    "muns = add_muns(states)\n",
    "time = add_timestamp(muns)\n",
    "name = 'Cleaned\\Inc_2017.csv' \n",
    "time.to_csv(name)"
   ]
  },
  {
   "cell_type": "code",
   "execution_count": null,
   "metadata": {},
   "outputs": [],
   "source": []
  },
  {
   "cell_type": "code",
   "execution_count": 3,
   "metadata": {},
   "outputs": [
    {
     "output_type": "execute_result",
     "data": {
      "text/plain": [
       "['c:\\\\Users\\\\David Fernandez\\\\Desktop\\\\cancerDataAnalysis\\\\CleansingNotebooks\\\\Incidence\\\\Cleaned\\\\Inc_2010.csv',\n",
       " 'c:\\\\Users\\\\David Fernandez\\\\Desktop\\\\cancerDataAnalysis\\\\CleansingNotebooks\\\\Incidence\\\\Cleaned\\\\Inc_2011.csv',\n",
       " 'c:\\\\Users\\\\David Fernandez\\\\Desktop\\\\cancerDataAnalysis\\\\CleansingNotebooks\\\\Incidence\\\\Cleaned\\\\Inc_2012.csv',\n",
       " 'c:\\\\Users\\\\David Fernandez\\\\Desktop\\\\cancerDataAnalysis\\\\CleansingNotebooks\\\\Incidence\\\\Cleaned\\\\Inc_2013.csv',\n",
       " 'c:\\\\Users\\\\David Fernandez\\\\Desktop\\\\cancerDataAnalysis\\\\CleansingNotebooks\\\\Incidence\\\\Cleaned\\\\Inc_2014.csv',\n",
       " 'c:\\\\Users\\\\David Fernandez\\\\Desktop\\\\cancerDataAnalysis\\\\CleansingNotebooks\\\\Incidence\\\\Cleaned\\\\Inc_2015.csv',\n",
       " 'c:\\\\Users\\\\David Fernandez\\\\Desktop\\\\cancerDataAnalysis\\\\CleansingNotebooks\\\\Incidence\\\\Cleaned\\\\Inc_2016.csv',\n",
       " 'c:\\\\Users\\\\David Fernandez\\\\Desktop\\\\cancerDataAnalysis\\\\CleansingNotebooks\\\\Incidence\\\\Cleaned\\\\Inc_2017.csv',\n",
       " 'c:\\\\Users\\\\David Fernandez\\\\Desktop\\\\cancerDataAnalysis\\\\CleansingNotebooks\\\\Incidence\\\\Cleaned\\\\Inc_2018.csv',\n",
       " 'c:\\\\Users\\\\David Fernandez\\\\Desktop\\\\cancerDataAnalysis\\\\CleansingNotebooks\\\\Incidence\\\\Cleaned\\\\Inc_2019.csv']"
      ]
     },
     "metadata": {},
     "execution_count": 3
    }
   ],
   "source": [
    "dirs = list()\n",
    "from os.path import dirname\n",
    "dir = os.getcwd() + r\"\\Cleaned\"\n",
    "for filename in os.listdir(dir):\n",
    "    if filename.endswith(\".csv\") or filename.endswith(\".CSV\"):\n",
    "        dirs.append(dir+\"\\\\\"+filename)\n",
    "dirs"
   ]
  },
  {
   "cell_type": "code",
   "execution_count": 4,
   "metadata": {},
   "outputs": [],
   "source": [
    "for filename in dirs:\r\n",
    "    df = pd.read_csv(filename)\r\n",
    "    df['EGRESO'] =  pd.to_datetime(df['EGRESO'], yearfirst = True, errors = 'raise')\r\n",
    "    df['ENTIDAD'] = df['ENTIDAD'].apply(lambda x: '{0:0>2}'.format(x))\r\n",
    "    df['MUNIC'] = df['MUNIC'].apply(lambda x: '{0:0>3}'.format(x))\r\n",
    "    cols = ['ENTIDAD', 'MUNIC']\r\n",
    "    df['MUNIC'] = df[cols].apply(lambda row: ''.join(row.values.astype(str)), axis=1)\r\n",
    "    df.columns = [x.lower() for x in df.columns]\r\n",
    "    df['month_year_ocurr'] = df['egreso'].dt.to_period('M')\r\n",
    "    df.rename(columns={'egreso':'date_ocurr', 'entidad':'ent_regis', 'munic':'mun_regis', 'icd':'ICD'}, inplace=True)\r\n",
    "    df.to_csv(filename)"
   ]
  },
  {
   "cell_type": "code",
   "execution_count": 5,
   "metadata": {},
   "outputs": [],
   "source": [
    "for filename in dirs:\n",
    "    df = pd.read_csv(filename)\n",
    "    df.rename(columns={'icd':'ICD'}, inplace=True)\n",
    "    df.to_csv(filename)"
   ]
  },
  {
   "cell_type": "code",
   "execution_count": 6,
   "metadata": {},
   "outputs": [],
   "source": [
    "defunc = list()\n",
    "for filename in dirs:\n",
    "        currDF = pd.read_csv(filename)\n",
    "        defunc.append(currDF) #Append clean datafiles on list\n",
    "\n",
    "totalDefunc = pd.concat(defunc) #Make sigle frame out of each frame in defunc list"
   ]
  },
  {
   "cell_type": "code",
   "execution_count": 8,
   "metadata": {},
   "outputs": [
    {
     "output_type": "execute_result",
     "data": {
      "text/plain": [
       "'c:\\\\Users\\\\David Fernandez\\\\Desktop\\\\cancerDataAnalysis\\\\codec\\\\TotalIncidenceTest.csv'"
      ]
     },
     "metadata": {},
     "execution_count": 8
    }
   ],
   "source": [
    "pPath = dirname(dirname(os.getcwd()))+'\\\\codec\\\\TotalIncidenceTest.csv'\n",
    "pPath"
   ]
  },
  {
   "cell_type": "code",
   "execution_count": 9,
   "metadata": {},
   "outputs": [],
   "source": [
    "totalDefunc.to_csv(pPath)"
   ]
  },
  {
   "cell_type": "code",
   "execution_count": null,
   "metadata": {},
   "outputs": [],
   "source": []
  }
 ]
}