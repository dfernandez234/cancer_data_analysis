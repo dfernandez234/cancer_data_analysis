{
 "metadata": {
  "language_info": {
   "codemirror_mode": {
    "name": "ipython",
    "version": 3
   },
   "file_extension": ".py",
   "mimetype": "text/x-python",
   "name": "python",
   "nbconvert_exporter": "python",
   "pygments_lexer": "ipython3",
   "version": "3.8.3"
  },
  "orig_nbformat": 2,
  "kernelspec": {
   "name": "python383jvsc74a57bd0ed225720166559e7176d3793db16a2fd8d295f725007103b21ac3099d2a89ee8",
   "display_name": "Python"
  }
 },
 "nbformat": 4,
 "nbformat_minor": 2,
 "cells": [
  {
   "source": [
    "## yearRecords\n",
    "cancerDataAnalysis/ <br>\n",
    "&nbsp;&nbsp;&nbsp;├── 2012.csv <br>\n",
    "&nbsp;&nbsp;&nbsp;├── 2013.csv <br>\n",
    "&nbsp;&nbsp;&nbsp;├── 2014.csv <br>\n",
    "&nbsp;&nbsp;&nbsp;├── 2015.csv <br>\n",
    "&nbsp;&nbsp;&nbsp;├── 2016.csv <br>\n",
    "&nbsp;&nbsp;&nbsp;├── 2017.csv <br>\n",
    "&nbsp;&nbsp;&nbsp;├── 2018.csv <br>\n",
    "&nbsp;&nbsp;&nbsp;└── 2019.csv <br>"
   ],
   "cell_type": "markdown",
   "metadata": {}
  },
  {
   "cell_type": "code",
   "execution_count": 1,
   "metadata": {},
   "outputs": [],
   "source": [
    "#Librerias\n",
    "import pandas as pd\n",
    "import numpy as np\n",
    "import seaborn as sns\n",
    "import matplotlib.pyplot as plt\n",
    "import os\n",
    "import re"
   ]
  },
  {
   "cell_type": "code",
   "execution_count": 2,
   "metadata": {},
   "outputs": [
    {
     "output_type": "execute_result",
     "data": {
      "text/plain": [
       "['c:\\\\Users\\\\David Fernandez\\\\Desktop\\\\cancerDataAnalysis\\\\yearRecords\\\\cle_2010.csv',\n",
       " 'c:\\\\Users\\\\David Fernandez\\\\Desktop\\\\cancerDataAnalysis\\\\yearRecords\\\\cle_2011.csv',\n",
       " 'c:\\\\Users\\\\David Fernandez\\\\Desktop\\\\cancerDataAnalysis\\\\yearRecords\\\\cle_2012.csv',\n",
       " 'c:\\\\Users\\\\David Fernandez\\\\Desktop\\\\cancerDataAnalysis\\\\yearRecords\\\\cle_2013.csv',\n",
       " 'c:\\\\Users\\\\David Fernandez\\\\Desktop\\\\cancerDataAnalysis\\\\yearRecords\\\\cle_2014.csv',\n",
       " 'c:\\\\Users\\\\David Fernandez\\\\Desktop\\\\cancerDataAnalysis\\\\yearRecords\\\\cle_2015.csv',\n",
       " 'c:\\\\Users\\\\David Fernandez\\\\Desktop\\\\cancerDataAnalysis\\\\yearRecords\\\\cle_2016.csv',\n",
       " 'c:\\\\Users\\\\David Fernandez\\\\Desktop\\\\cancerDataAnalysis\\\\yearRecords\\\\cle_2017.csv',\n",
       " 'c:\\\\Users\\\\David Fernandez\\\\Desktop\\\\cancerDataAnalysis\\\\yearRecords\\\\cle_2018.csv',\n",
       " 'c:\\\\Users\\\\David Fernandez\\\\Desktop\\\\cancerDataAnalysis\\\\yearRecords\\\\cle_2019.csv']"
      ]
     },
     "metadata": {},
     "execution_count": 2
    }
   ],
   "source": [
    "dirs = list()\n",
    "from os.path import dirname\n",
    "dir = dirname(dirname(os.getcwd()))+\"\\\\yearRecords\"\n",
    "for filename in os.listdir(dir):\n",
    "    if filename.endswith(\".csv\") or filename.endswith(\".CSV\"):\n",
    "        dirs.append(dir+\"\\\\\"+filename)\n",
    "dirs"
   ]
  },
  {
   "cell_type": "code",
   "execution_count": 3,
   "metadata": {},
   "outputs": [
    {
     "output_type": "stream",
     "name": "stderr",
     "text": [
      "C:\\Anaconda\\lib\\site-packages\\IPython\\core\\interactiveshell.py:3071: DtypeWarning: Columns (51) have mixed types.Specify dtype option on import or set low_memory=False.\n  has_raised = await self.run_ast_nodes(code_ast.body, cell_name,\n"
     ]
    },
    {
     "output_type": "execute_result",
     "data": {
      "text/plain": [
       "787756"
      ]
     },
     "metadata": {},
     "execution_count": 3
    }
   ],
   "source": [
    "#open each file with pandas, extract death causes with REGEX CXXX,D000-D499 on each file\n",
    "defunc = list()\n",
    "for filename in dirs:\n",
    "        currDF = pd.read_csv(filename)\n",
    "        defunc.append(currDF) #Append clean datafiles on list\n",
    "\n",
    "totalDefunc = pd.concat(defunc) #Make sigle frame out of each frame in defunc list\n",
    "totalDefunc.shape[0]"
   ]
  },
  {
   "cell_type": "code",
   "execution_count": 4,
   "metadata": {},
   "outputs": [
    {
     "output_type": "execute_result",
     "data": {
      "text/plain": [
       "       Unnamed: 0  ent_regis  mun_regis  ent_resid  mun_resid  tloc_resid  \\\n",
       "index                                                                       \n",
       "0               7          1          1          1          1           1   \n",
       "1              20          1          2          1          2           4   \n",
       "2              41          1          3          1          3           2   \n",
       "3              53          1          3          1          3           7   \n",
       "4              61          1          3          1          3           1   \n",
       "\n",
       "       ent_ocurr  mun_ocurr  tloc_ocurr causa_def  ... lengua  cond_act  \\\n",
       "index                                              ...                    \n",
       "0              1          1           1      C250  ...    NaN       NaN   \n",
       "1              1          2           4      C229  ...    NaN       NaN   \n",
       "2              1          3           1      C259  ...    NaN       NaN   \n",
       "3              1          3           7      C349  ...    NaN       NaN   \n",
       "4              1          3           1      C481  ...    NaN       NaN   \n",
       "\n",
       "       par_agre  ent_ocules  mun_ocules  loc_resid  loc_ocurr  loc_ocules  \\\n",
       "index                                                                       \n",
       "0           NaN         NaN         NaN        NaN        NaN         NaN   \n",
       "1           NaN         NaN         NaN        NaN        NaN         NaN   \n",
       "2           NaN         NaN         NaN        NaN        NaN         NaN   \n",
       "3           NaN         NaN         NaN        NaN        NaN         NaN   \n",
       "4           NaN         NaN         NaN        NaN        NaN         NaN   \n",
       "\n",
       "       razon_m  loc_ocur  \n",
       "index                     \n",
       "0          NaN       NaN  \n",
       "1          NaN       NaN  \n",
       "2          NaN       NaN  \n",
       "3          NaN       NaN  \n",
       "4          NaN       NaN  \n",
       "\n",
       "[5 rows x 62 columns]"
      ],
      "text/html": "<div>\n<style scoped>\n    .dataframe tbody tr th:only-of-type {\n        vertical-align: middle;\n    }\n\n    .dataframe tbody tr th {\n        vertical-align: top;\n    }\n\n    .dataframe thead th {\n        text-align: right;\n    }\n</style>\n<table border=\"1\" class=\"dataframe\">\n  <thead>\n    <tr style=\"text-align: right;\">\n      <th></th>\n      <th>Unnamed: 0</th>\n      <th>ent_regis</th>\n      <th>mun_regis</th>\n      <th>ent_resid</th>\n      <th>mun_resid</th>\n      <th>tloc_resid</th>\n      <th>ent_ocurr</th>\n      <th>mun_ocurr</th>\n      <th>tloc_ocurr</th>\n      <th>causa_def</th>\n      <th>...</th>\n      <th>lengua</th>\n      <th>cond_act</th>\n      <th>par_agre</th>\n      <th>ent_ocules</th>\n      <th>mun_ocules</th>\n      <th>loc_resid</th>\n      <th>loc_ocurr</th>\n      <th>loc_ocules</th>\n      <th>razon_m</th>\n      <th>loc_ocur</th>\n    </tr>\n    <tr>\n      <th>index</th>\n      <th></th>\n      <th></th>\n      <th></th>\n      <th></th>\n      <th></th>\n      <th></th>\n      <th></th>\n      <th></th>\n      <th></th>\n      <th></th>\n      <th></th>\n      <th></th>\n      <th></th>\n      <th></th>\n      <th></th>\n      <th></th>\n      <th></th>\n      <th></th>\n      <th></th>\n      <th></th>\n      <th></th>\n    </tr>\n  </thead>\n  <tbody>\n    <tr>\n      <th>0</th>\n      <td>7</td>\n      <td>1</td>\n      <td>1</td>\n      <td>1</td>\n      <td>1</td>\n      <td>1</td>\n      <td>1</td>\n      <td>1</td>\n      <td>1</td>\n      <td>C250</td>\n      <td>...</td>\n      <td>NaN</td>\n      <td>NaN</td>\n      <td>NaN</td>\n      <td>NaN</td>\n      <td>NaN</td>\n      <td>NaN</td>\n      <td>NaN</td>\n      <td>NaN</td>\n      <td>NaN</td>\n      <td>NaN</td>\n    </tr>\n    <tr>\n      <th>1</th>\n      <td>20</td>\n      <td>1</td>\n      <td>2</td>\n      <td>1</td>\n      <td>2</td>\n      <td>4</td>\n      <td>1</td>\n      <td>2</td>\n      <td>4</td>\n      <td>C229</td>\n      <td>...</td>\n      <td>NaN</td>\n      <td>NaN</td>\n      <td>NaN</td>\n      <td>NaN</td>\n      <td>NaN</td>\n      <td>NaN</td>\n      <td>NaN</td>\n      <td>NaN</td>\n      <td>NaN</td>\n      <td>NaN</td>\n    </tr>\n    <tr>\n      <th>2</th>\n      <td>41</td>\n      <td>1</td>\n      <td>3</td>\n      <td>1</td>\n      <td>3</td>\n      <td>2</td>\n      <td>1</td>\n      <td>3</td>\n      <td>1</td>\n      <td>C259</td>\n      <td>...</td>\n      <td>NaN</td>\n      <td>NaN</td>\n      <td>NaN</td>\n      <td>NaN</td>\n      <td>NaN</td>\n      <td>NaN</td>\n      <td>NaN</td>\n      <td>NaN</td>\n      <td>NaN</td>\n      <td>NaN</td>\n    </tr>\n    <tr>\n      <th>3</th>\n      <td>53</td>\n      <td>1</td>\n      <td>3</td>\n      <td>1</td>\n      <td>3</td>\n      <td>7</td>\n      <td>1</td>\n      <td>3</td>\n      <td>7</td>\n      <td>C349</td>\n      <td>...</td>\n      <td>NaN</td>\n      <td>NaN</td>\n      <td>NaN</td>\n      <td>NaN</td>\n      <td>NaN</td>\n      <td>NaN</td>\n      <td>NaN</td>\n      <td>NaN</td>\n      <td>NaN</td>\n      <td>NaN</td>\n    </tr>\n    <tr>\n      <th>4</th>\n      <td>61</td>\n      <td>1</td>\n      <td>3</td>\n      <td>1</td>\n      <td>3</td>\n      <td>1</td>\n      <td>1</td>\n      <td>3</td>\n      <td>1</td>\n      <td>C481</td>\n      <td>...</td>\n      <td>NaN</td>\n      <td>NaN</td>\n      <td>NaN</td>\n      <td>NaN</td>\n      <td>NaN</td>\n      <td>NaN</td>\n      <td>NaN</td>\n      <td>NaN</td>\n      <td>NaN</td>\n      <td>NaN</td>\n    </tr>\n  </tbody>\n</table>\n<p>5 rows × 62 columns</p>\n</div>"
     },
     "metadata": {},
     "execution_count": 4
    }
   ],
   "source": [
    "#set numerical index\n",
    "totalDefunc = totalDefunc.reset_index()\n",
    "totalDefunc.set_index('index', inplace=True)\n",
    "totalDefunc.head()"
   ]
  },
  {
   "cell_type": "code",
   "execution_count": 6,
   "metadata": {},
   "outputs": [
    {
     "output_type": "execute_result",
     "data": {
      "text/plain": [
       "       ent_regis  mun_regis  ent_resid  mun_resid  tloc_resid  ent_ocurr  \\\n",
       "index                                                                      \n",
       "0              1          1          1          1           1          1   \n",
       "1              1          2          1          2           4          1   \n",
       "2              1          3          1          3           2          1   \n",
       "3              1          3          1          3           7          1   \n",
       "4              1          3          1          3           1          1   \n",
       "\n",
       "       mun_ocurr  tloc_ocurr causa_def lista_mex  ...  complicaro  dia_cert  \\\n",
       "index                                             ...                         \n",
       "0              1           1      C250       09G  ...           8        11   \n",
       "1              2           4      C229       09F  ...           8         5   \n",
       "2              3           1      C259       09G  ...           2         1   \n",
       "3              3           7      C349       10B  ...           2        14   \n",
       "4              3           1      C481       11E  ...           8        20   \n",
       "\n",
       "       mes_cert  anio_cert    peso  lengua  cond_act  loc_resid  loc_ocurr  \\\n",
       "index                                                                        \n",
       "0             1       2010  8888.0     NaN       NaN        NaN        NaN   \n",
       "1             1       2010  8888.0     NaN       NaN        NaN        NaN   \n",
       "2             1       2010  8888.0     NaN       NaN        NaN        NaN   \n",
       "3             1       2010  8888.0     NaN       NaN        NaN        NaN   \n",
       "4             1       2010  8888.0     NaN       NaN        NaN        NaN   \n",
       "\n",
       "       loc_ocur  \n",
       "index            \n",
       "0           NaN  \n",
       "1           NaN  \n",
       "2           NaN  \n",
       "3           NaN  \n",
       "4           NaN  \n",
       "\n",
       "[5 rows x 54 columns]"
      ],
      "text/html": "<div>\n<style scoped>\n    .dataframe tbody tr th:only-of-type {\n        vertical-align: middle;\n    }\n\n    .dataframe tbody tr th {\n        vertical-align: top;\n    }\n\n    .dataframe thead th {\n        text-align: right;\n    }\n</style>\n<table border=\"1\" class=\"dataframe\">\n  <thead>\n    <tr style=\"text-align: right;\">\n      <th></th>\n      <th>ent_regis</th>\n      <th>mun_regis</th>\n      <th>ent_resid</th>\n      <th>mun_resid</th>\n      <th>tloc_resid</th>\n      <th>ent_ocurr</th>\n      <th>mun_ocurr</th>\n      <th>tloc_ocurr</th>\n      <th>causa_def</th>\n      <th>lista_mex</th>\n      <th>...</th>\n      <th>complicaro</th>\n      <th>dia_cert</th>\n      <th>mes_cert</th>\n      <th>anio_cert</th>\n      <th>peso</th>\n      <th>lengua</th>\n      <th>cond_act</th>\n      <th>loc_resid</th>\n      <th>loc_ocurr</th>\n      <th>loc_ocur</th>\n    </tr>\n    <tr>\n      <th>index</th>\n      <th></th>\n      <th></th>\n      <th></th>\n      <th></th>\n      <th></th>\n      <th></th>\n      <th></th>\n      <th></th>\n      <th></th>\n      <th></th>\n      <th></th>\n      <th></th>\n      <th></th>\n      <th></th>\n      <th></th>\n      <th></th>\n      <th></th>\n      <th></th>\n      <th></th>\n      <th></th>\n      <th></th>\n    </tr>\n  </thead>\n  <tbody>\n    <tr>\n      <th>0</th>\n      <td>1</td>\n      <td>1</td>\n      <td>1</td>\n      <td>1</td>\n      <td>1</td>\n      <td>1</td>\n      <td>1</td>\n      <td>1</td>\n      <td>C250</td>\n      <td>09G</td>\n      <td>...</td>\n      <td>8</td>\n      <td>11</td>\n      <td>1</td>\n      <td>2010</td>\n      <td>8888.0</td>\n      <td>NaN</td>\n      <td>NaN</td>\n      <td>NaN</td>\n      <td>NaN</td>\n      <td>NaN</td>\n    </tr>\n    <tr>\n      <th>1</th>\n      <td>1</td>\n      <td>2</td>\n      <td>1</td>\n      <td>2</td>\n      <td>4</td>\n      <td>1</td>\n      <td>2</td>\n      <td>4</td>\n      <td>C229</td>\n      <td>09F</td>\n      <td>...</td>\n      <td>8</td>\n      <td>5</td>\n      <td>1</td>\n      <td>2010</td>\n      <td>8888.0</td>\n      <td>NaN</td>\n      <td>NaN</td>\n      <td>NaN</td>\n      <td>NaN</td>\n      <td>NaN</td>\n    </tr>\n    <tr>\n      <th>2</th>\n      <td>1</td>\n      <td>3</td>\n      <td>1</td>\n      <td>3</td>\n      <td>2</td>\n      <td>1</td>\n      <td>3</td>\n      <td>1</td>\n      <td>C259</td>\n      <td>09G</td>\n      <td>...</td>\n      <td>2</td>\n      <td>1</td>\n      <td>1</td>\n      <td>2010</td>\n      <td>8888.0</td>\n      <td>NaN</td>\n      <td>NaN</td>\n      <td>NaN</td>\n      <td>NaN</td>\n      <td>NaN</td>\n    </tr>\n    <tr>\n      <th>3</th>\n      <td>1</td>\n      <td>3</td>\n      <td>1</td>\n      <td>3</td>\n      <td>7</td>\n      <td>1</td>\n      <td>3</td>\n      <td>7</td>\n      <td>C349</td>\n      <td>10B</td>\n      <td>...</td>\n      <td>2</td>\n      <td>14</td>\n      <td>1</td>\n      <td>2010</td>\n      <td>8888.0</td>\n      <td>NaN</td>\n      <td>NaN</td>\n      <td>NaN</td>\n      <td>NaN</td>\n      <td>NaN</td>\n    </tr>\n    <tr>\n      <th>4</th>\n      <td>1</td>\n      <td>3</td>\n      <td>1</td>\n      <td>3</td>\n      <td>1</td>\n      <td>1</td>\n      <td>3</td>\n      <td>1</td>\n      <td>C481</td>\n      <td>11E</td>\n      <td>...</td>\n      <td>8</td>\n      <td>20</td>\n      <td>1</td>\n      <td>2010</td>\n      <td>8888.0</td>\n      <td>NaN</td>\n      <td>NaN</td>\n      <td>NaN</td>\n      <td>NaN</td>\n      <td>NaN</td>\n    </tr>\n  </tbody>\n</table>\n<p>5 rows × 54 columns</p>\n</div>"
     },
     "metadata": {},
     "execution_count": 6
    }
   ],
   "source": [
    "#drop useless columns\n",
    "totalDefunc = totalDefunc.drop(columns=['Unnamed: 0','par_agre','ent_ocules','mun_ocules','loc_ocules','razon_m','dis_re_oax','maternas'])\n",
    "totalDefunc.head()"
   ]
  },
  {
   "cell_type": "code",
   "execution_count": 7,
   "metadata": {},
   "outputs": [],
   "source": [
    "#export\n",
    "pPath = dirname(dirname(os.getcwd()))+'\\\\CleansingNotebooks\\\\TotalCleanedTest.csv'\n",
    "totalDefunc.to_csv(pPath)"
   ]
  },
  {
   "cell_type": "code",
   "execution_count": null,
   "metadata": {},
   "outputs": [],
   "source": []
  }
 ]
}