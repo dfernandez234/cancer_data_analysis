{
 "metadata": {
  "language_info": {
   "codemirror_mode": {
    "name": "ipython",
    "version": 3
   },
   "file_extension": ".py",
   "mimetype": "text/x-python",
   "name": "python",
   "nbconvert_exporter": "python",
   "pygments_lexer": "ipython3",
   "version": "3.8.3"
  },
  "orig_nbformat": 2,
  "kernelspec": {
   "name": "python383jvsc74a57bd0ed225720166559e7176d3793db16a2fd8d295f725007103b21ac3099d2a89ee8",
   "display_name": "Python"
  }
 },
 "nbformat": 4,
 "nbformat_minor": 2,
 "cells": [
  {
   "source": [
    "## Concat Raw files from the inegi.zip files, by extracting death causes related to cancer"
   ],
   "cell_type": "markdown",
   "metadata": {}
  },
  {
   "cell_type": "code",
   "execution_count": 10,
   "metadata": {},
   "outputs": [],
   "source": [
    "#Librerias\n",
    "import pandas as pd\n",
    "import numpy as np\n",
    "import seaborn as sns\n",
    "import matplotlib.pyplot as plt\n",
    "import os\n",
    "import re\n",
    "from os.path import dirname"
   ]
  },
  {
   "cell_type": "code",
   "execution_count": 11,
   "metadata": {},
   "outputs": [
    {
     "output_type": "execute_result",
     "data": {
      "text/plain": [
       "['c:\\\\Users\\\\David Fernandez\\\\Desktop\\\\dataWarehouse\\\\more_dead\\\\DEFUN10.csv',\n",
       " 'c:\\\\Users\\\\David Fernandez\\\\Desktop\\\\dataWarehouse\\\\more_dead\\\\DEFUN11.csv',\n",
       " 'c:\\\\Users\\\\David Fernandez\\\\Desktop\\\\dataWarehouse\\\\more_dead\\\\DEFUN12.csv',\n",
       " 'c:\\\\Users\\\\David Fernandez\\\\Desktop\\\\dataWarehouse\\\\more_dead\\\\DEFUN13.csv',\n",
       " 'c:\\\\Users\\\\David Fernandez\\\\Desktop\\\\dataWarehouse\\\\more_dead\\\\DEFUN14.csv',\n",
       " 'c:\\\\Users\\\\David Fernandez\\\\Desktop\\\\dataWarehouse\\\\more_dead\\\\DEFUN15.csv',\n",
       " 'c:\\\\Users\\\\David Fernandez\\\\Desktop\\\\dataWarehouse\\\\more_dead\\\\DEFUN16.csv',\n",
       " 'c:\\\\Users\\\\David Fernandez\\\\Desktop\\\\dataWarehouse\\\\more_dead\\\\DEFUN17.csv',\n",
       " 'c:\\\\Users\\\\David Fernandez\\\\Desktop\\\\dataWarehouse\\\\more_dead\\\\DEFUN18.csv',\n",
       " 'c:\\\\Users\\\\David Fernandez\\\\Desktop\\\\dataWarehouse\\\\more_dead\\\\DEFUN19.csv']"
      ]
     },
     "metadata": {},
     "execution_count": 11
    }
   ],
   "source": [
    "dirs = list()\n",
    "from os.path import dirname\n",
    "dir = dirname(dirname(dirname(os.getcwd())))+'\\\\dataWarehouse\\\\more_dead'\n",
    "for filename in os.listdir(dir):\n",
    "    if filename.endswith(\".csv\") or filename.endswith(\".CSV\"):\n",
    "        dirs.append(dir+\"\\\\\"+filename)\n",
    "dirs"
   ]
  },
  {
   "cell_type": "code",
   "execution_count": 12,
   "metadata": {},
   "outputs": [
    {
     "output_type": "stream",
     "name": "stdout",
     "text": [
      "c:\\Users\\David Fernandez\\Desktop\\dataWarehouse\\more_dead\\DEFUN10.csv\n",
      "c:\\Users\\David Fernandez\\Desktop\\dataWarehouse\\more_dead\\DEFUN11.csv\n",
      "c:\\Users\\David Fernandez\\Desktop\\dataWarehouse\\more_dead\\DEFUN12.csv\n",
      "c:\\Users\\David Fernandez\\Desktop\\dataWarehouse\\more_dead\\DEFUN13.csv\n",
      "C:\\Anaconda\\lib\\site-packages\\IPython\\core\\interactiveshell.py:3071: DtypeWarning: Columns (42,50) have mixed types.Specify dtype option on import or set low_memory=False.\n",
      "  has_raised = await self.run_ast_nodes(code_ast.body, cell_name,\n",
      "c:\\Users\\David Fernandez\\Desktop\\dataWarehouse\\more_dead\\DEFUN14.csv\n",
      "c:\\Users\\David Fernandez\\Desktop\\dataWarehouse\\more_dead\\DEFUN15.csv\n",
      "c:\\Users\\David Fernandez\\Desktop\\dataWarehouse\\more_dead\\DEFUN16.csv\n",
      "c:\\Users\\David Fernandez\\Desktop\\dataWarehouse\\more_dead\\DEFUN17.csv\n",
      "c:\\Users\\David Fernandez\\Desktop\\dataWarehouse\\more_dead\\DEFUN18.csv\n",
      "c:\\Users\\David Fernandez\\Desktop\\dataWarehouse\\more_dead\\DEFUN19.csv\n"
     ]
    }
   ],
   "source": [
    "#open each file with pandas, extract death causes with REGEX CXXX,D000-D499 on each file\n",
    "defunc = list()\n",
    "for filename in dirs:\n",
    "        print(filename)\n",
    "        currDF = pd.read_csv(filename)\n",
    "        currDF.columns = [x.lower() for x in currDF.columns]\n",
    "        currDF = currDF[currDF['causa_def'].str.contains(r'^C')]\n",
    "        defunc.append(currDF) #Append clean datafiles on list\n"
   ]
  },
  {
   "cell_type": "code",
   "execution_count": 13,
   "metadata": {},
   "outputs": [
    {
     "output_type": "execute_result",
     "data": {
      "text/plain": [
       "787756"
      ]
     },
     "metadata": {},
     "execution_count": 13
    }
   ],
   "source": [
    "totalDefunc = pd.concat(defunc) #Make sigle frame out of each frame in defunc list\n",
    "totalDefunc.shape[0]"
   ]
  },
  {
   "cell_type": "code",
   "execution_count": 14,
   "metadata": {},
   "outputs": [
    {
     "output_type": "execute_result",
     "data": {
      "text/plain": [
       "   index  ent_regis  mun_regis  ent_resid  mun_resid  tloc_resid  ent_ocurr  \\\n",
       "0      7          1          1          1          1           1          1   \n",
       "1     20          1          2          1          2           4          1   \n",
       "2     41          1          3          1          3           2          1   \n",
       "3     53          1          3          1          3           7          1   \n",
       "4     61          1          3          1          3           1          1   \n",
       "\n",
       "   mun_ocurr  tloc_ocurr causa_def  ... lengua  cond_act  par_agre  \\\n",
       "0          1           1      C250  ...    NaN       NaN       NaN   \n",
       "1          2           4      C229  ...    NaN       NaN       NaN   \n",
       "2          3           1      C259  ...    NaN       NaN       NaN   \n",
       "3          3           7      C349  ...    NaN       NaN       NaN   \n",
       "4          3           1      C481  ...    NaN       NaN       NaN   \n",
       "\n",
       "   ent_ocules  mun_ocules  loc_resid  loc_ocurr  loc_ocules  razon_m  loc_ocur  \n",
       "0         NaN         NaN        NaN        NaN         NaN      NaN       NaN  \n",
       "1         NaN         NaN        NaN        NaN         NaN      NaN       NaN  \n",
       "2         NaN         NaN        NaN        NaN         NaN      NaN       NaN  \n",
       "3         NaN         NaN        NaN        NaN         NaN      NaN       NaN  \n",
       "4         NaN         NaN        NaN        NaN         NaN      NaN       NaN  \n",
       "\n",
       "[5 rows x 62 columns]"
      ],
      "text/html": "<div>\n<style scoped>\n    .dataframe tbody tr th:only-of-type {\n        vertical-align: middle;\n    }\n\n    .dataframe tbody tr th {\n        vertical-align: top;\n    }\n\n    .dataframe thead th {\n        text-align: right;\n    }\n</style>\n<table border=\"1\" class=\"dataframe\">\n  <thead>\n    <tr style=\"text-align: right;\">\n      <th></th>\n      <th>index</th>\n      <th>ent_regis</th>\n      <th>mun_regis</th>\n      <th>ent_resid</th>\n      <th>mun_resid</th>\n      <th>tloc_resid</th>\n      <th>ent_ocurr</th>\n      <th>mun_ocurr</th>\n      <th>tloc_ocurr</th>\n      <th>causa_def</th>\n      <th>...</th>\n      <th>lengua</th>\n      <th>cond_act</th>\n      <th>par_agre</th>\n      <th>ent_ocules</th>\n      <th>mun_ocules</th>\n      <th>loc_resid</th>\n      <th>loc_ocurr</th>\n      <th>loc_ocules</th>\n      <th>razon_m</th>\n      <th>loc_ocur</th>\n    </tr>\n  </thead>\n  <tbody>\n    <tr>\n      <th>0</th>\n      <td>7</td>\n      <td>1</td>\n      <td>1</td>\n      <td>1</td>\n      <td>1</td>\n      <td>1</td>\n      <td>1</td>\n      <td>1</td>\n      <td>1</td>\n      <td>C250</td>\n      <td>...</td>\n      <td>NaN</td>\n      <td>NaN</td>\n      <td>NaN</td>\n      <td>NaN</td>\n      <td>NaN</td>\n      <td>NaN</td>\n      <td>NaN</td>\n      <td>NaN</td>\n      <td>NaN</td>\n      <td>NaN</td>\n    </tr>\n    <tr>\n      <th>1</th>\n      <td>20</td>\n      <td>1</td>\n      <td>2</td>\n      <td>1</td>\n      <td>2</td>\n      <td>4</td>\n      <td>1</td>\n      <td>2</td>\n      <td>4</td>\n      <td>C229</td>\n      <td>...</td>\n      <td>NaN</td>\n      <td>NaN</td>\n      <td>NaN</td>\n      <td>NaN</td>\n      <td>NaN</td>\n      <td>NaN</td>\n      <td>NaN</td>\n      <td>NaN</td>\n      <td>NaN</td>\n      <td>NaN</td>\n    </tr>\n    <tr>\n      <th>2</th>\n      <td>41</td>\n      <td>1</td>\n      <td>3</td>\n      <td>1</td>\n      <td>3</td>\n      <td>2</td>\n      <td>1</td>\n      <td>3</td>\n      <td>1</td>\n      <td>C259</td>\n      <td>...</td>\n      <td>NaN</td>\n      <td>NaN</td>\n      <td>NaN</td>\n      <td>NaN</td>\n      <td>NaN</td>\n      <td>NaN</td>\n      <td>NaN</td>\n      <td>NaN</td>\n      <td>NaN</td>\n      <td>NaN</td>\n    </tr>\n    <tr>\n      <th>3</th>\n      <td>53</td>\n      <td>1</td>\n      <td>3</td>\n      <td>1</td>\n      <td>3</td>\n      <td>7</td>\n      <td>1</td>\n      <td>3</td>\n      <td>7</td>\n      <td>C349</td>\n      <td>...</td>\n      <td>NaN</td>\n      <td>NaN</td>\n      <td>NaN</td>\n      <td>NaN</td>\n      <td>NaN</td>\n      <td>NaN</td>\n      <td>NaN</td>\n      <td>NaN</td>\n      <td>NaN</td>\n      <td>NaN</td>\n    </tr>\n    <tr>\n      <th>4</th>\n      <td>61</td>\n      <td>1</td>\n      <td>3</td>\n      <td>1</td>\n      <td>3</td>\n      <td>1</td>\n      <td>1</td>\n      <td>3</td>\n      <td>1</td>\n      <td>C481</td>\n      <td>...</td>\n      <td>NaN</td>\n      <td>NaN</td>\n      <td>NaN</td>\n      <td>NaN</td>\n      <td>NaN</td>\n      <td>NaN</td>\n      <td>NaN</td>\n      <td>NaN</td>\n      <td>NaN</td>\n      <td>NaN</td>\n    </tr>\n  </tbody>\n</table>\n<p>5 rows × 62 columns</p>\n</div>"
     },
     "metadata": {},
     "execution_count": 14
    }
   ],
   "source": [
    "totalDefunc = totalDefunc.reset_index()\n",
    "totalDefunc.head()"
   ]
  },
  {
   "cell_type": "code",
   "execution_count": 15,
   "metadata": {},
   "outputs": [
    {
     "output_type": "stream",
     "name": "stdout",
     "text": [
      "<class 'pandas.core.frame.DataFrame'>\nRangeIndex: 787756 entries, 0 to 787755\nData columns (total 62 columns):\n #   Column      Non-Null Count   Dtype  \n---  ------      --------------   -----  \n 0   index       787756 non-null  int64  \n 1   ent_regis   787756 non-null  int64  \n 2   mun_regis   787756 non-null  int64  \n 3   ent_resid   787756 non-null  int64  \n 4   mun_resid   787756 non-null  int64  \n 5   tloc_resid  787756 non-null  int64  \n 6   ent_ocurr   787756 non-null  int64  \n 7   mun_ocurr   787756 non-null  int64  \n 8   tloc_ocurr  787756 non-null  int64  \n 9   causa_def   787756 non-null  object \n 10  lista_mex   787756 non-null  object \n 11  sexo        787756 non-null  int64  \n 12  edad        787756 non-null  int64  \n 13  dia_ocurr   787756 non-null  int64  \n 14  mes_ocurr   787756 non-null  int64  \n 15  anio_ocur   787756 non-null  int64  \n 16  dia_regis   787756 non-null  int64  \n 17  mes_regis   787756 non-null  int64  \n 18  anio_regis  787756 non-null  int64  \n 19  dia_nacim   787756 non-null  int64  \n 20  mes_nacim   787756 non-null  int64  \n 21  anio_nacim  787756 non-null  int64  \n 22  ocupacion   787756 non-null  int64  \n 23  escolarida  787756 non-null  int64  \n 24  edo_civil   787756 non-null  int64  \n 25  presunto    787756 non-null  int64  \n 26  ocurr_trab  787756 non-null  int64  \n 27  lugar_ocur  787756 non-null  int64  \n 28  necropsia   787756 non-null  int64  \n 29  asist_medi  787756 non-null  int64  \n 30  sitio_ocur  787756 non-null  int64  \n 31  cond_cert   787756 non-null  int64  \n 32  nacionalid  787756 non-null  int64  \n 33  derechohab  787756 non-null  int64  \n 34  embarazo    787756 non-null  int64  \n 35  rel_emba    787756 non-null  int64  \n 36  horas       787756 non-null  int64  \n 37  minutos     787756 non-null  int64  \n 38  capitulo    787756 non-null  int64  \n 39  grupo       787756 non-null  int64  \n 40  lista1      787756 non-null  int64  \n 41  gr_lismex   787756 non-null  object \n 42  vio_fami    787756 non-null  int64  \n 43  area_ur     787756 non-null  int64  \n 44  edad_agru   787756 non-null  int64  \n 45  complicaro  787756 non-null  int64  \n 46  dia_cert    787756 non-null  int64  \n 47  mes_cert    787756 non-null  int64  \n 48  anio_cert   787756 non-null  int64  \n 49  peso        141590 non-null  float64\n 50  maternas    234 non-null     object \n 51  dis_re_oax  787756 non-null  int64  \n 52  lengua      646166 non-null  float64\n 53  cond_act    646166 non-null  float64\n 54  par_agre    646166 non-null  float64\n 55  ent_ocules  646166 non-null  float64\n 56  mun_ocules  646166 non-null  float64\n 57  loc_resid   572926 non-null  float64\n 58  loc_ocurr   488784 non-null  float64\n 59  loc_ocules  572926 non-null  float64\n 60  razon_m     403030 non-null  float64\n 61  loc_ocur    84142 non-null   float64\ndtypes: float64(11), int64(47), object(4)\nmemory usage: 372.6+ MB\n"
     ]
    }
   ],
   "source": [
    "totalDefunc.info()"
   ]
  },
  {
   "cell_type": "code",
   "execution_count": 20,
   "metadata": {},
   "outputs": [],
   "source": [
    "#save total to new file\n",
    "from pathlib import Path\n",
    "ndir = dirname(dirname(os.getcwd()))\n",
    "Path(ndir+\"/yearRecords\").mkdir(parents=True, exist_ok=True)\n",
    "for i in range(0,len(defunc)):\n",
    "    year = re.search('(\\d{2})',dirs[i])\n",
    "    path = ndir+\"\\\\yearRecords\\\\cle_20\"+year.group(0)+\".csv\"\n",
    "    defunc[i].to_csv(path)"
   ]
  },
  {
   "cell_type": "code",
   "execution_count": 19,
   "metadata": {},
   "outputs": [
    {
     "output_type": "execute_result",
     "data": {
      "text/plain": [
       "'c:\\\\Users\\\\David Fernandez\\\\Desktop\\\\cancerDataAnalysis\\\\CleansingNotebooks'"
      ]
     },
     "metadata": {},
     "execution_count": 19
    }
   ],
   "source": [
    "ndir"
   ]
  },
  {
   "cell_type": "code",
   "execution_count": null,
   "metadata": {},
   "outputs": [],
   "source": []
  }
 ]
}