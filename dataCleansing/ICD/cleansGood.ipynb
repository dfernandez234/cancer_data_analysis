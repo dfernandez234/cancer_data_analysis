{
 "cells": [
  {
   "cell_type": "markdown",
   "metadata": {},
   "source": [
    "# Add ICD\n",
    "Each file inside CODEC is used as a dictionary to map certain fields on TotalCleaned to some values, like death cause to an ICD, usiong pandas .to_dict() and .map() functions"
   ]
  },
  {
   "cell_type": "code",
   "execution_count": 1,
   "metadata": {},
   "outputs": [],
   "source": [
    "#Librerias\n",
    "import pandas as pd\n",
    "import numpy as np\n",
    "import seaborn as sns\n",
    "import matplotlib.pyplot as plt\n",
    "import os\n",
    "import re"
   ]
  },
  {
   "cell_type": "code",
   "execution_count": 2,
   "metadata": {},
   "outputs": [
    {
     "output_type": "execute_result",
     "data": {
      "text/plain": [
       "   index  ent_regis  mun_regis  ent_resid  mun_resid  tloc_resid  ent_ocurr  \\\n",
       "0      0          1          1          1          1           1          1   \n",
       "1      1          1          2          1          2           4          1   \n",
       "2      2          1          3          1          3           2          1   \n",
       "3      3          1          3          1          3           7          1   \n",
       "4      4          1          3          1          3           1          1   \n",
       "\n",
       "   mun_ocurr  tloc_ocurr causa_def  ... complicaro  dia_cert  mes_cert  \\\n",
       "0          1           1      C250  ...          8        11         1   \n",
       "1          2           4      C229  ...          8         5         1   \n",
       "2          3           1      C259  ...          2         1         1   \n",
       "3          3           7      C349  ...          2        14         1   \n",
       "4          3           1      C481  ...          8        20         1   \n",
       "\n",
       "   anio_cert    peso  lengua  cond_act  loc_resid  loc_ocurr  loc_ocur  \n",
       "0       2010  8888.0     NaN       NaN        NaN        NaN       NaN  \n",
       "1       2010  8888.0     NaN       NaN        NaN        NaN       NaN  \n",
       "2       2010  8888.0     NaN       NaN        NaN        NaN       NaN  \n",
       "3       2010  8888.0     NaN       NaN        NaN        NaN       NaN  \n",
       "4       2010  8888.0     NaN       NaN        NaN        NaN       NaN  \n",
       "\n",
       "[5 rows x 55 columns]"
      ],
      "text/html": "<div>\n<style scoped>\n    .dataframe tbody tr th:only-of-type {\n        vertical-align: middle;\n    }\n\n    .dataframe tbody tr th {\n        vertical-align: top;\n    }\n\n    .dataframe thead th {\n        text-align: right;\n    }\n</style>\n<table border=\"1\" class=\"dataframe\">\n  <thead>\n    <tr style=\"text-align: right;\">\n      <th></th>\n      <th>index</th>\n      <th>ent_regis</th>\n      <th>mun_regis</th>\n      <th>ent_resid</th>\n      <th>mun_resid</th>\n      <th>tloc_resid</th>\n      <th>ent_ocurr</th>\n      <th>mun_ocurr</th>\n      <th>tloc_ocurr</th>\n      <th>causa_def</th>\n      <th>...</th>\n      <th>complicaro</th>\n      <th>dia_cert</th>\n      <th>mes_cert</th>\n      <th>anio_cert</th>\n      <th>peso</th>\n      <th>lengua</th>\n      <th>cond_act</th>\n      <th>loc_resid</th>\n      <th>loc_ocurr</th>\n      <th>loc_ocur</th>\n    </tr>\n  </thead>\n  <tbody>\n    <tr>\n      <th>0</th>\n      <td>0</td>\n      <td>1</td>\n      <td>1</td>\n      <td>1</td>\n      <td>1</td>\n      <td>1</td>\n      <td>1</td>\n      <td>1</td>\n      <td>1</td>\n      <td>C250</td>\n      <td>...</td>\n      <td>8</td>\n      <td>11</td>\n      <td>1</td>\n      <td>2010</td>\n      <td>8888.0</td>\n      <td>NaN</td>\n      <td>NaN</td>\n      <td>NaN</td>\n      <td>NaN</td>\n      <td>NaN</td>\n    </tr>\n    <tr>\n      <th>1</th>\n      <td>1</td>\n      <td>1</td>\n      <td>2</td>\n      <td>1</td>\n      <td>2</td>\n      <td>4</td>\n      <td>1</td>\n      <td>2</td>\n      <td>4</td>\n      <td>C229</td>\n      <td>...</td>\n      <td>8</td>\n      <td>5</td>\n      <td>1</td>\n      <td>2010</td>\n      <td>8888.0</td>\n      <td>NaN</td>\n      <td>NaN</td>\n      <td>NaN</td>\n      <td>NaN</td>\n      <td>NaN</td>\n    </tr>\n    <tr>\n      <th>2</th>\n      <td>2</td>\n      <td>1</td>\n      <td>3</td>\n      <td>1</td>\n      <td>3</td>\n      <td>2</td>\n      <td>1</td>\n      <td>3</td>\n      <td>1</td>\n      <td>C259</td>\n      <td>...</td>\n      <td>2</td>\n      <td>1</td>\n      <td>1</td>\n      <td>2010</td>\n      <td>8888.0</td>\n      <td>NaN</td>\n      <td>NaN</td>\n      <td>NaN</td>\n      <td>NaN</td>\n      <td>NaN</td>\n    </tr>\n    <tr>\n      <th>3</th>\n      <td>3</td>\n      <td>1</td>\n      <td>3</td>\n      <td>1</td>\n      <td>3</td>\n      <td>7</td>\n      <td>1</td>\n      <td>3</td>\n      <td>7</td>\n      <td>C349</td>\n      <td>...</td>\n      <td>2</td>\n      <td>14</td>\n      <td>1</td>\n      <td>2010</td>\n      <td>8888.0</td>\n      <td>NaN</td>\n      <td>NaN</td>\n      <td>NaN</td>\n      <td>NaN</td>\n      <td>NaN</td>\n    </tr>\n    <tr>\n      <th>4</th>\n      <td>4</td>\n      <td>1</td>\n      <td>3</td>\n      <td>1</td>\n      <td>3</td>\n      <td>1</td>\n      <td>1</td>\n      <td>3</td>\n      <td>1</td>\n      <td>C481</td>\n      <td>...</td>\n      <td>8</td>\n      <td>20</td>\n      <td>1</td>\n      <td>2010</td>\n      <td>8888.0</td>\n      <td>NaN</td>\n      <td>NaN</td>\n      <td>NaN</td>\n      <td>NaN</td>\n      <td>NaN</td>\n    </tr>\n  </tbody>\n</table>\n<p>5 rows × 55 columns</p>\n</div>"
     },
     "metadata": {},
     "execution_count": 2
    }
   ],
   "source": [
    "from os.path import dirname\n",
    "pPath = dirname(dirname(os.getcwd()))+'\\\\CleansingNotebooks\\\\TotalCleanedTest.csv'\n",
    "df = pd.read_csv(pPath)\n",
    "df.head()"
   ]
  },
  {
   "cell_type": "code",
   "execution_count": 3,
   "metadata": {},
   "outputs": [
    {
     "output_type": "execute_result",
     "data": {
      "text/plain": [
       "  cause                                          cause_det  ICD\n",
       "0  C000     Tumor maligno del labio superior, cara externa  C14\n",
       "1  C001     Tumor maligno del labio inferior, cara externa  C14\n",
       "2  C002  Tumor maligno del labio, cara externa, sin otr...  C14\n",
       "3  C003     Tumor maligno del labio superior, cara interna  C14\n",
       "4  C004     Tumor maligno del labio inferior, cara interna  C14"
      ],
      "text/html": "<div>\n<style scoped>\n    .dataframe tbody tr th:only-of-type {\n        vertical-align: middle;\n    }\n\n    .dataframe tbody tr th {\n        vertical-align: top;\n    }\n\n    .dataframe thead th {\n        text-align: right;\n    }\n</style>\n<table border=\"1\" class=\"dataframe\">\n  <thead>\n    <tr style=\"text-align: right;\">\n      <th></th>\n      <th>cause</th>\n      <th>cause_det</th>\n      <th>ICD</th>\n    </tr>\n  </thead>\n  <tbody>\n    <tr>\n      <th>0</th>\n      <td>C000</td>\n      <td>Tumor maligno del labio superior, cara externa</td>\n      <td>C14</td>\n    </tr>\n    <tr>\n      <th>1</th>\n      <td>C001</td>\n      <td>Tumor maligno del labio inferior, cara externa</td>\n      <td>C14</td>\n    </tr>\n    <tr>\n      <th>2</th>\n      <td>C002</td>\n      <td>Tumor maligno del labio, cara externa, sin otr...</td>\n      <td>C14</td>\n    </tr>\n    <tr>\n      <th>3</th>\n      <td>C003</td>\n      <td>Tumor maligno del labio superior, cara interna</td>\n      <td>C14</td>\n    </tr>\n    <tr>\n      <th>4</th>\n      <td>C004</td>\n      <td>Tumor maligno del labio inferior, cara interna</td>\n      <td>C14</td>\n    </tr>\n  </tbody>\n</table>\n</div>"
     },
     "metadata": {},
     "execution_count": 3
    }
   ],
   "source": [
    "pPath = dirname(dirname(os.getcwd())) + '\\\\codec\\\\CODEX.xlsx'\n",
    "currDict = pd.read_excel(pPath)\n",
    "currDict.head()"
   ]
  },
  {
   "cell_type": "code",
   "execution_count": 4,
   "metadata": {},
   "outputs": [
    {
     "output_type": "execute_result",
     "data": {
      "text/plain": [
       "                                               cause_det  ICD\n",
       "cause                                                        \n",
       "C000      Tumor maligno del labio superior, cara externa  C14\n",
       "C001      Tumor maligno del labio inferior, cara externa  C14\n",
       "C002   Tumor maligno del labio, cara externa, sin otr...  C14\n",
       "C003      Tumor maligno del labio superior, cara interna  C14\n",
       "C004      Tumor maligno del labio inferior, cara interna  C14\n",
       "...                                                  ...  ...\n",
       "D091   Carcinoma in situ de otros órganos urinarios y...  C68\n",
       "D092                           Carcinoma in situ del ojo  C69\n",
       "D093   Carcinoma in situ de la glándula tiroides y de...  C73\n",
       "D097     Carcinoma in situ de otros sitios especificados  C73\n",
       "D099            Carcinoma in situ, sitio no especificado  C73\n",
       "\n",
       "[540 rows x 2 columns]"
      ],
      "text/html": "<div>\n<style scoped>\n    .dataframe tbody tr th:only-of-type {\n        vertical-align: middle;\n    }\n\n    .dataframe tbody tr th {\n        vertical-align: top;\n    }\n\n    .dataframe thead th {\n        text-align: right;\n    }\n</style>\n<table border=\"1\" class=\"dataframe\">\n  <thead>\n    <tr style=\"text-align: right;\">\n      <th></th>\n      <th>cause_det</th>\n      <th>ICD</th>\n    </tr>\n    <tr>\n      <th>cause</th>\n      <th></th>\n      <th></th>\n    </tr>\n  </thead>\n  <tbody>\n    <tr>\n      <th>C000</th>\n      <td>Tumor maligno del labio superior, cara externa</td>\n      <td>C14</td>\n    </tr>\n    <tr>\n      <th>C001</th>\n      <td>Tumor maligno del labio inferior, cara externa</td>\n      <td>C14</td>\n    </tr>\n    <tr>\n      <th>C002</th>\n      <td>Tumor maligno del labio, cara externa, sin otr...</td>\n      <td>C14</td>\n    </tr>\n    <tr>\n      <th>C003</th>\n      <td>Tumor maligno del labio superior, cara interna</td>\n      <td>C14</td>\n    </tr>\n    <tr>\n      <th>C004</th>\n      <td>Tumor maligno del labio inferior, cara interna</td>\n      <td>C14</td>\n    </tr>\n    <tr>\n      <th>...</th>\n      <td>...</td>\n      <td>...</td>\n    </tr>\n    <tr>\n      <th>D091</th>\n      <td>Carcinoma in situ de otros órganos urinarios y...</td>\n      <td>C68</td>\n    </tr>\n    <tr>\n      <th>D092</th>\n      <td>Carcinoma in situ del ojo</td>\n      <td>C69</td>\n    </tr>\n    <tr>\n      <th>D093</th>\n      <td>Carcinoma in situ de la glándula tiroides y de...</td>\n      <td>C73</td>\n    </tr>\n    <tr>\n      <th>D097</th>\n      <td>Carcinoma in situ de otros sitios especificados</td>\n      <td>C73</td>\n    </tr>\n    <tr>\n      <th>D099</th>\n      <td>Carcinoma in situ, sitio no especificado</td>\n      <td>C73</td>\n    </tr>\n  </tbody>\n</table>\n<p>540 rows × 2 columns</p>\n</div>"
     },
     "metadata": {},
     "execution_count": 4
    }
   ],
   "source": [
    "currDict.set_index('cause', inplace=True)\n",
    "currDict"
   ]
  },
  {
   "cell_type": "code",
   "execution_count": 5,
   "metadata": {},
   "outputs": [
    {
     "output_type": "execute_result",
     "data": {
      "text/plain": [
       "   unique_values  counts\n",
       "0            C25   70530\n",
       "1            C34   69961\n",
       "2            C16   63232\n",
       "3            C61   63096\n",
       "4            C50   62440\n",
       "5            C20   59102\n",
       "6            C22   56645\n",
       "7            C53   50352\n",
       "8            C95   44274\n",
       "9            C96   30324\n",
       "10           C64   24246\n",
       "11           C56   23398\n",
       "12           C71   22745\n",
       "13           C23   22450\n",
       "14           C44   14974\n",
       "15           C40   12362\n",
       "16           C14   11751\n",
       "17           C90   10953\n",
       "18           C49   10826\n",
       "19           C67   10740\n",
       "20           C15   10480\n",
       "21           C32    7928\n",
       "22           C73    7643\n",
       "23           C43    6414\n",
       "24           C62    5595\n",
       "25           C81    5309\n",
       "26           C45    2680\n",
       "27           C51    2041\n",
       "28           C52    2008\n",
       "29           C69    1006\n",
       "30           C72     879\n",
       "31           C68     398\n",
       "32           C30     344\n",
       "33           C66     270\n",
       "34           C33     231\n",
       "35           C42     129"
      ],
      "text/html": "<div>\n<style scoped>\n    .dataframe tbody tr th:only-of-type {\n        vertical-align: middle;\n    }\n\n    .dataframe tbody tr th {\n        vertical-align: top;\n    }\n\n    .dataframe thead th {\n        text-align: right;\n    }\n</style>\n<table border=\"1\" class=\"dataframe\">\n  <thead>\n    <tr style=\"text-align: right;\">\n      <th></th>\n      <th>unique_values</th>\n      <th>counts</th>\n    </tr>\n  </thead>\n  <tbody>\n    <tr>\n      <th>0</th>\n      <td>C25</td>\n      <td>70530</td>\n    </tr>\n    <tr>\n      <th>1</th>\n      <td>C34</td>\n      <td>69961</td>\n    </tr>\n    <tr>\n      <th>2</th>\n      <td>C16</td>\n      <td>63232</td>\n    </tr>\n    <tr>\n      <th>3</th>\n      <td>C61</td>\n      <td>63096</td>\n    </tr>\n    <tr>\n      <th>4</th>\n      <td>C50</td>\n      <td>62440</td>\n    </tr>\n    <tr>\n      <th>5</th>\n      <td>C20</td>\n      <td>59102</td>\n    </tr>\n    <tr>\n      <th>6</th>\n      <td>C22</td>\n      <td>56645</td>\n    </tr>\n    <tr>\n      <th>7</th>\n      <td>C53</td>\n      <td>50352</td>\n    </tr>\n    <tr>\n      <th>8</th>\n      <td>C95</td>\n      <td>44274</td>\n    </tr>\n    <tr>\n      <th>9</th>\n      <td>C96</td>\n      <td>30324</td>\n    </tr>\n    <tr>\n      <th>10</th>\n      <td>C64</td>\n      <td>24246</td>\n    </tr>\n    <tr>\n      <th>11</th>\n      <td>C56</td>\n      <td>23398</td>\n    </tr>\n    <tr>\n      <th>12</th>\n      <td>C71</td>\n      <td>22745</td>\n    </tr>\n    <tr>\n      <th>13</th>\n      <td>C23</td>\n      <td>22450</td>\n    </tr>\n    <tr>\n      <th>14</th>\n      <td>C44</td>\n      <td>14974</td>\n    </tr>\n    <tr>\n      <th>15</th>\n      <td>C40</td>\n      <td>12362</td>\n    </tr>\n    <tr>\n      <th>16</th>\n      <td>C14</td>\n      <td>11751</td>\n    </tr>\n    <tr>\n      <th>17</th>\n      <td>C90</td>\n      <td>10953</td>\n    </tr>\n    <tr>\n      <th>18</th>\n      <td>C49</td>\n      <td>10826</td>\n    </tr>\n    <tr>\n      <th>19</th>\n      <td>C67</td>\n      <td>10740</td>\n    </tr>\n    <tr>\n      <th>20</th>\n      <td>C15</td>\n      <td>10480</td>\n    </tr>\n    <tr>\n      <th>21</th>\n      <td>C32</td>\n      <td>7928</td>\n    </tr>\n    <tr>\n      <th>22</th>\n      <td>C73</td>\n      <td>7643</td>\n    </tr>\n    <tr>\n      <th>23</th>\n      <td>C43</td>\n      <td>6414</td>\n    </tr>\n    <tr>\n      <th>24</th>\n      <td>C62</td>\n      <td>5595</td>\n    </tr>\n    <tr>\n      <th>25</th>\n      <td>C81</td>\n      <td>5309</td>\n    </tr>\n    <tr>\n      <th>26</th>\n      <td>C45</td>\n      <td>2680</td>\n    </tr>\n    <tr>\n      <th>27</th>\n      <td>C51</td>\n      <td>2041</td>\n    </tr>\n    <tr>\n      <th>28</th>\n      <td>C52</td>\n      <td>2008</td>\n    </tr>\n    <tr>\n      <th>29</th>\n      <td>C69</td>\n      <td>1006</td>\n    </tr>\n    <tr>\n      <th>30</th>\n      <td>C72</td>\n      <td>879</td>\n    </tr>\n    <tr>\n      <th>31</th>\n      <td>C68</td>\n      <td>398</td>\n    </tr>\n    <tr>\n      <th>32</th>\n      <td>C30</td>\n      <td>344</td>\n    </tr>\n    <tr>\n      <th>33</th>\n      <td>C66</td>\n      <td>270</td>\n    </tr>\n    <tr>\n      <th>34</th>\n      <td>C33</td>\n      <td>231</td>\n    </tr>\n    <tr>\n      <th>35</th>\n      <td>C42</td>\n      <td>129</td>\n    </tr>\n  </tbody>\n</table>\n</div>"
     },
     "metadata": {},
     "execution_count": 5
    }
   ],
   "source": [
    "cause_dict = currDict.to_dict()['ICD']\n",
    "df['ICD'] = df['causa_def'].map(cause_dict)\n",
    "ICDs = df['ICD'].value_counts().rename_axis('unique_values').reset_index(name='counts')\n",
    "ICDs"
   ]
  },
  {
   "cell_type": "code",
   "execution_count": 6,
   "metadata": {},
   "outputs": [
    {
     "output_type": "execute_result",
     "data": {
      "text/plain": [
       "   index  ent_regis  mun_regis  ent_resid  mun_resid  tloc_resid  ent_ocurr  \\\n",
       "0      0          1          1          1          1           1          1   \n",
       "1      1          1          2          1          2           4          1   \n",
       "2      2          1          3          1          3           2          1   \n",
       "3      3          1          3          1          3           7          1   \n",
       "4      4          1          3          1          3           1          1   \n",
       "\n",
       "   mun_ocurr  tloc_ocurr causa_def  ... mes_cert  anio_cert    peso  lengua  \\\n",
       "0          1           1      C250  ...        1       2010  8888.0     NaN   \n",
       "1          2           4      C229  ...        1       2010  8888.0     NaN   \n",
       "2          3           1      C259  ...        1       2010  8888.0     NaN   \n",
       "3          3           7      C349  ...        1       2010  8888.0     NaN   \n",
       "4          3           1      C481  ...        1       2010  8888.0     NaN   \n",
       "\n",
       "   cond_act  loc_resid  loc_ocurr  loc_ocur  ICD  \\\n",
       "0       NaN        NaN        NaN       NaN  C25   \n",
       "1       NaN        NaN        NaN       NaN  C22   \n",
       "2       NaN        NaN        NaN       NaN  C25   \n",
       "3       NaN        NaN        NaN       NaN  C34   \n",
       "4       NaN        NaN        NaN       NaN  C49   \n",
       "\n",
       "                                          detailCaus  \n",
       "0            Tumor maligno de la cabeza del páncreas  \n",
       "1          Tumor maligno del hígado, no especificado  \n",
       "2  Tumor maligno del páncreas, parte no especificada  \n",
       "3  Tumor maligno de los bronquios o del pulmón, p...  \n",
       "4  Tumor maligno de parte especificada del peritoneo  \n",
       "\n",
       "[5 rows x 57 columns]"
      ],
      "text/html": "<div>\n<style scoped>\n    .dataframe tbody tr th:only-of-type {\n        vertical-align: middle;\n    }\n\n    .dataframe tbody tr th {\n        vertical-align: top;\n    }\n\n    .dataframe thead th {\n        text-align: right;\n    }\n</style>\n<table border=\"1\" class=\"dataframe\">\n  <thead>\n    <tr style=\"text-align: right;\">\n      <th></th>\n      <th>index</th>\n      <th>ent_regis</th>\n      <th>mun_regis</th>\n      <th>ent_resid</th>\n      <th>mun_resid</th>\n      <th>tloc_resid</th>\n      <th>ent_ocurr</th>\n      <th>mun_ocurr</th>\n      <th>tloc_ocurr</th>\n      <th>causa_def</th>\n      <th>...</th>\n      <th>mes_cert</th>\n      <th>anio_cert</th>\n      <th>peso</th>\n      <th>lengua</th>\n      <th>cond_act</th>\n      <th>loc_resid</th>\n      <th>loc_ocurr</th>\n      <th>loc_ocur</th>\n      <th>ICD</th>\n      <th>detailCaus</th>\n    </tr>\n  </thead>\n  <tbody>\n    <tr>\n      <th>0</th>\n      <td>0</td>\n      <td>1</td>\n      <td>1</td>\n      <td>1</td>\n      <td>1</td>\n      <td>1</td>\n      <td>1</td>\n      <td>1</td>\n      <td>1</td>\n      <td>C250</td>\n      <td>...</td>\n      <td>1</td>\n      <td>2010</td>\n      <td>8888.0</td>\n      <td>NaN</td>\n      <td>NaN</td>\n      <td>NaN</td>\n      <td>NaN</td>\n      <td>NaN</td>\n      <td>C25</td>\n      <td>Tumor maligno de la cabeza del páncreas</td>\n    </tr>\n    <tr>\n      <th>1</th>\n      <td>1</td>\n      <td>1</td>\n      <td>2</td>\n      <td>1</td>\n      <td>2</td>\n      <td>4</td>\n      <td>1</td>\n      <td>2</td>\n      <td>4</td>\n      <td>C229</td>\n      <td>...</td>\n      <td>1</td>\n      <td>2010</td>\n      <td>8888.0</td>\n      <td>NaN</td>\n      <td>NaN</td>\n      <td>NaN</td>\n      <td>NaN</td>\n      <td>NaN</td>\n      <td>C22</td>\n      <td>Tumor maligno del hígado, no especificado</td>\n    </tr>\n    <tr>\n      <th>2</th>\n      <td>2</td>\n      <td>1</td>\n      <td>3</td>\n      <td>1</td>\n      <td>3</td>\n      <td>2</td>\n      <td>1</td>\n      <td>3</td>\n      <td>1</td>\n      <td>C259</td>\n      <td>...</td>\n      <td>1</td>\n      <td>2010</td>\n      <td>8888.0</td>\n      <td>NaN</td>\n      <td>NaN</td>\n      <td>NaN</td>\n      <td>NaN</td>\n      <td>NaN</td>\n      <td>C25</td>\n      <td>Tumor maligno del páncreas, parte no especificada</td>\n    </tr>\n    <tr>\n      <th>3</th>\n      <td>3</td>\n      <td>1</td>\n      <td>3</td>\n      <td>1</td>\n      <td>3</td>\n      <td>7</td>\n      <td>1</td>\n      <td>3</td>\n      <td>7</td>\n      <td>C349</td>\n      <td>...</td>\n      <td>1</td>\n      <td>2010</td>\n      <td>8888.0</td>\n      <td>NaN</td>\n      <td>NaN</td>\n      <td>NaN</td>\n      <td>NaN</td>\n      <td>NaN</td>\n      <td>C34</td>\n      <td>Tumor maligno de los bronquios o del pulmón, p...</td>\n    </tr>\n    <tr>\n      <th>4</th>\n      <td>4</td>\n      <td>1</td>\n      <td>3</td>\n      <td>1</td>\n      <td>3</td>\n      <td>1</td>\n      <td>1</td>\n      <td>3</td>\n      <td>1</td>\n      <td>C481</td>\n      <td>...</td>\n      <td>1</td>\n      <td>2010</td>\n      <td>8888.0</td>\n      <td>NaN</td>\n      <td>NaN</td>\n      <td>NaN</td>\n      <td>NaN</td>\n      <td>NaN</td>\n      <td>C49</td>\n      <td>Tumor maligno de parte especificada del peritoneo</td>\n    </tr>\n  </tbody>\n</table>\n<p>5 rows × 57 columns</p>\n</div>"
     },
     "metadata": {},
     "execution_count": 6
    }
   ],
   "source": [
    "detail_dict = currDict.to_dict()['cause_det']\n",
    "df['detailCaus'] = df['causa_def'].map(detail_dict)\n",
    "df.head()"
   ]
  },
  {
   "cell_type": "code",
   "execution_count": 7,
   "metadata": {},
   "outputs": [
    {
     "output_type": "execute_result",
     "data": {
      "text/plain": [
       "   index  ent_regis  mun_regis  ent_resid  mun_resid  tloc_resid  ent_ocurr  \\\n",
       "0      0          1          1          1          1           1          1   \n",
       "1      1          1          2          1          2           4          1   \n",
       "2      2          1          3          1          3           2          1   \n",
       "3      3          1          3          1          3           7          1   \n",
       "4      4          1          3          1          3           1          1   \n",
       "\n",
       "   mun_ocurr  tloc_ocurr causa_def  ... anio_cert    peso  lengua  cond_act  \\\n",
       "0          1           1      C250  ...      2010  8888.0     NaN       NaN   \n",
       "1          2           4      C229  ...      2010  8888.0     NaN       NaN   \n",
       "2          3           1      C259  ...      2010  8888.0     NaN       NaN   \n",
       "3          3           7      C349  ...      2010  8888.0     NaN       NaN   \n",
       "4          3           1      C481  ...      2010  8888.0     NaN       NaN   \n",
       "\n",
       "   loc_resid  loc_ocurr  loc_ocur  ICD  \\\n",
       "0        NaN        NaN       NaN  C25   \n",
       "1        NaN        NaN       NaN  C22   \n",
       "2        NaN        NaN       NaN  C25   \n",
       "3        NaN        NaN       NaN  C34   \n",
       "4        NaN        NaN       NaN  C49   \n",
       "\n",
       "                                          detailCaus        Organ  \n",
       "0            Tumor maligno de la cabeza del páncreas     Pancreas  \n",
       "1          Tumor maligno del hígado, no especificado       Liver   \n",
       "2  Tumor maligno del páncreas, parte no especificada     Pancreas  \n",
       "3  Tumor maligno de los bronquios o del pulmón, p...        Lungs  \n",
       "4  Tumor maligno de parte especificada del peritoneo  Soft Tissue  \n",
       "\n",
       "[5 rows x 58 columns]"
      ],
      "text/html": "<div>\n<style scoped>\n    .dataframe tbody tr th:only-of-type {\n        vertical-align: middle;\n    }\n\n    .dataframe tbody tr th {\n        vertical-align: top;\n    }\n\n    .dataframe thead th {\n        text-align: right;\n    }\n</style>\n<table border=\"1\" class=\"dataframe\">\n  <thead>\n    <tr style=\"text-align: right;\">\n      <th></th>\n      <th>index</th>\n      <th>ent_regis</th>\n      <th>mun_regis</th>\n      <th>ent_resid</th>\n      <th>mun_resid</th>\n      <th>tloc_resid</th>\n      <th>ent_ocurr</th>\n      <th>mun_ocurr</th>\n      <th>tloc_ocurr</th>\n      <th>causa_def</th>\n      <th>...</th>\n      <th>anio_cert</th>\n      <th>peso</th>\n      <th>lengua</th>\n      <th>cond_act</th>\n      <th>loc_resid</th>\n      <th>loc_ocurr</th>\n      <th>loc_ocur</th>\n      <th>ICD</th>\n      <th>detailCaus</th>\n      <th>Organ</th>\n    </tr>\n  </thead>\n  <tbody>\n    <tr>\n      <th>0</th>\n      <td>0</td>\n      <td>1</td>\n      <td>1</td>\n      <td>1</td>\n      <td>1</td>\n      <td>1</td>\n      <td>1</td>\n      <td>1</td>\n      <td>1</td>\n      <td>C250</td>\n      <td>...</td>\n      <td>2010</td>\n      <td>8888.0</td>\n      <td>NaN</td>\n      <td>NaN</td>\n      <td>NaN</td>\n      <td>NaN</td>\n      <td>NaN</td>\n      <td>C25</td>\n      <td>Tumor maligno de la cabeza del páncreas</td>\n      <td>Pancreas</td>\n    </tr>\n    <tr>\n      <th>1</th>\n      <td>1</td>\n      <td>1</td>\n      <td>2</td>\n      <td>1</td>\n      <td>2</td>\n      <td>4</td>\n      <td>1</td>\n      <td>2</td>\n      <td>4</td>\n      <td>C229</td>\n      <td>...</td>\n      <td>2010</td>\n      <td>8888.0</td>\n      <td>NaN</td>\n      <td>NaN</td>\n      <td>NaN</td>\n      <td>NaN</td>\n      <td>NaN</td>\n      <td>C22</td>\n      <td>Tumor maligno del hígado, no especificado</td>\n      <td>Liver</td>\n    </tr>\n    <tr>\n      <th>2</th>\n      <td>2</td>\n      <td>1</td>\n      <td>3</td>\n      <td>1</td>\n      <td>3</td>\n      <td>2</td>\n      <td>1</td>\n      <td>3</td>\n      <td>1</td>\n      <td>C259</td>\n      <td>...</td>\n      <td>2010</td>\n      <td>8888.0</td>\n      <td>NaN</td>\n      <td>NaN</td>\n      <td>NaN</td>\n      <td>NaN</td>\n      <td>NaN</td>\n      <td>C25</td>\n      <td>Tumor maligno del páncreas, parte no especificada</td>\n      <td>Pancreas</td>\n    </tr>\n    <tr>\n      <th>3</th>\n      <td>3</td>\n      <td>1</td>\n      <td>3</td>\n      <td>1</td>\n      <td>3</td>\n      <td>7</td>\n      <td>1</td>\n      <td>3</td>\n      <td>7</td>\n      <td>C349</td>\n      <td>...</td>\n      <td>2010</td>\n      <td>8888.0</td>\n      <td>NaN</td>\n      <td>NaN</td>\n      <td>NaN</td>\n      <td>NaN</td>\n      <td>NaN</td>\n      <td>C34</td>\n      <td>Tumor maligno de los bronquios o del pulmón, p...</td>\n      <td>Lungs</td>\n    </tr>\n    <tr>\n      <th>4</th>\n      <td>4</td>\n      <td>1</td>\n      <td>3</td>\n      <td>1</td>\n      <td>3</td>\n      <td>1</td>\n      <td>1</td>\n      <td>3</td>\n      <td>1</td>\n      <td>C481</td>\n      <td>...</td>\n      <td>2010</td>\n      <td>8888.0</td>\n      <td>NaN</td>\n      <td>NaN</td>\n      <td>NaN</td>\n      <td>NaN</td>\n      <td>NaN</td>\n      <td>C49</td>\n      <td>Tumor maligno de parte especificada del peritoneo</td>\n      <td>Soft Tissue</td>\n    </tr>\n  </tbody>\n</table>\n<p>5 rows × 58 columns</p>\n</div>"
     },
     "metadata": {},
     "execution_count": 7
    }
   ],
   "source": [
    "ndir = dirname(os.getcwd())\n",
    "pPath = dirname(dirname(os.getcwd())) + '\\\\codec\\\\types.xlsx'\n",
    "currDict = pd.read_excel(pPath)\n",
    "currDict.set_index('ICD', inplace=True)\n",
    "organ_dict = currDict.to_dict()['organ']\n",
    "df['Organ'] = df['ICD'].map(organ_dict)\n",
    "df.head()"
   ]
  },
  {
   "cell_type": "code",
   "execution_count": 8,
   "metadata": {},
   "outputs": [],
   "source": [
    "#fix inconsistencies on the lista_mex codes\n",
    "df.loc[df['lista_mex'] == 8, 'lista_mex'] = '8C'\n",
    "df.loc[df['lista_mex'] == 15, 'lista_mex'] = '15C'\n",
    "df.loc[df['lista_mex'] == '8', 'lista_mex'] = '8C'\n",
    "df.loc[df['lista_mex'] == '15', 'lista_mex'] = '15C'"
   ]
  },
  {
   "cell_type": "code",
   "execution_count": 9,
   "metadata": {},
   "outputs": [
    {
     "output_type": "execute_result",
     "data": {
      "text/plain": [
       "               counts                                            DESCRIP  \\\n",
       "unique_values                                                              \n",
       "10B             54864  Tumor maligno de la tráquea, de los bronquios ...   \n",
       "11D             52088                           Tumor maligno de la mama   \n",
       "12F             51922                       Tumor maligno de la próstata   \n",
       "09F             50609  Tumor maligno del hígado y de las vías biliare...   \n",
       "09B             48511                         Tumor maligno del estómago   \n",
       "\n",
       "                  organ  ICD  \n",
       "unique_values                 \n",
       "10B               Lungs  C34  \n",
       "11D              Breast  C50  \n",
       "12F            Prostate  C61  \n",
       "09F              Liver   C22  \n",
       "09B             Stomach  C16  "
      ],
      "text/html": "<div>\n<style scoped>\n    .dataframe tbody tr th:only-of-type {\n        vertical-align: middle;\n    }\n\n    .dataframe tbody tr th {\n        vertical-align: top;\n    }\n\n    .dataframe thead th {\n        text-align: right;\n    }\n</style>\n<table border=\"1\" class=\"dataframe\">\n  <thead>\n    <tr style=\"text-align: right;\">\n      <th></th>\n      <th>counts</th>\n      <th>DESCRIP</th>\n      <th>organ</th>\n      <th>ICD</th>\n    </tr>\n    <tr>\n      <th>unique_values</th>\n      <th></th>\n      <th></th>\n      <th></th>\n      <th></th>\n    </tr>\n  </thead>\n  <tbody>\n    <tr>\n      <th>10B</th>\n      <td>54864</td>\n      <td>Tumor maligno de la tráquea, de los bronquios ...</td>\n      <td>Lungs</td>\n      <td>C34</td>\n    </tr>\n    <tr>\n      <th>11D</th>\n      <td>52088</td>\n      <td>Tumor maligno de la mama</td>\n      <td>Breast</td>\n      <td>C50</td>\n    </tr>\n    <tr>\n      <th>12F</th>\n      <td>51922</td>\n      <td>Tumor maligno de la próstata</td>\n      <td>Prostate</td>\n      <td>C61</td>\n    </tr>\n    <tr>\n      <th>09F</th>\n      <td>50609</td>\n      <td>Tumor maligno del hígado y de las vías biliare...</td>\n      <td>Liver</td>\n      <td>C22</td>\n    </tr>\n    <tr>\n      <th>09B</th>\n      <td>48511</td>\n      <td>Tumor maligno del estómago</td>\n      <td>Stomach</td>\n      <td>C16</td>\n    </tr>\n  </tbody>\n</table>\n</div>"
     },
     "metadata": {},
     "execution_count": 9
    }
   ],
   "source": [
    "pPath = dirname(dirname(os.getcwd())) + '\\\\codec\\\\causaMuerteMex.xlsx'\n",
    "MexMuerto = pd.read_excel(pPath)\n",
    "MexMuerto.drop(columns=['Unnamed: 0'], inplace=True)\n",
    "MexMuerto.set_index('unique_values', inplace=True)\n",
    "MexMuerto.head()"
   ]
  },
  {
   "cell_type": "code",
   "execution_count": 10,
   "metadata": {},
   "outputs": [
    {
     "output_type": "execute_result",
     "data": {
      "text/plain": [
       "   index  ent_regis  mun_regis  ent_resid  mun_resid  tloc_resid  ent_ocurr  \\\n",
       "0      0          1          1          1          1           1          1   \n",
       "1      1          1          2          1          2           4          1   \n",
       "2      2          1          3          1          3           2          1   \n",
       "3      3          1          3          1          3           7          1   \n",
       "4      4          1          3          1          3           1          1   \n",
       "\n",
       "   mun_ocurr  tloc_ocurr causa_def  ... cond_act  loc_resid  loc_ocurr  \\\n",
       "0          1           1      C250  ...      NaN        NaN        NaN   \n",
       "1          2           4      C229  ...      NaN        NaN        NaN   \n",
       "2          3           1      C259  ...      NaN        NaN        NaN   \n",
       "3          3           7      C349  ...      NaN        NaN        NaN   \n",
       "4          3           1      C481  ...      NaN        NaN        NaN   \n",
       "\n",
       "   loc_ocur  ICD                                         detailCaus  \\\n",
       "0       NaN  C25            Tumor maligno de la cabeza del páncreas   \n",
       "1       NaN  C22          Tumor maligno del hígado, no especificado   \n",
       "2       NaN  C25  Tumor maligno del páncreas, parte no especificada   \n",
       "3       NaN  C34  Tumor maligno de los bronquios o del pulmón, p...   \n",
       "4       NaN  C49  Tumor maligno de parte especificada del peritoneo   \n",
       "\n",
       "         Organ  ICD_Mex                                     detailCaus_Mex  \\\n",
       "0     Pancreas      C25                         Tumor maligno del páncreas   \n",
       "1       Liver       C22  Tumor maligno del hígado y de las vías biliare...   \n",
       "2     Pancreas      C25                         Tumor maligno del páncreas   \n",
       "3        Lungs      C34  Tumor maligno de la tráquea, de los bronquios ...   \n",
       "4  Soft Tissue      C49  Tumores malignos de los tejidos mesoteliales y...   \n",
       "\n",
       "     organ_Mex  \n",
       "0     Pancreas  \n",
       "1       Liver   \n",
       "2     Pancreas  \n",
       "3        Lungs  \n",
       "4  Soft Tissue  \n",
       "\n",
       "[5 rows x 61 columns]"
      ],
      "text/html": "<div>\n<style scoped>\n    .dataframe tbody tr th:only-of-type {\n        vertical-align: middle;\n    }\n\n    .dataframe tbody tr th {\n        vertical-align: top;\n    }\n\n    .dataframe thead th {\n        text-align: right;\n    }\n</style>\n<table border=\"1\" class=\"dataframe\">\n  <thead>\n    <tr style=\"text-align: right;\">\n      <th></th>\n      <th>index</th>\n      <th>ent_regis</th>\n      <th>mun_regis</th>\n      <th>ent_resid</th>\n      <th>mun_resid</th>\n      <th>tloc_resid</th>\n      <th>ent_ocurr</th>\n      <th>mun_ocurr</th>\n      <th>tloc_ocurr</th>\n      <th>causa_def</th>\n      <th>...</th>\n      <th>cond_act</th>\n      <th>loc_resid</th>\n      <th>loc_ocurr</th>\n      <th>loc_ocur</th>\n      <th>ICD</th>\n      <th>detailCaus</th>\n      <th>Organ</th>\n      <th>ICD_Mex</th>\n      <th>detailCaus_Mex</th>\n      <th>organ_Mex</th>\n    </tr>\n  </thead>\n  <tbody>\n    <tr>\n      <th>0</th>\n      <td>0</td>\n      <td>1</td>\n      <td>1</td>\n      <td>1</td>\n      <td>1</td>\n      <td>1</td>\n      <td>1</td>\n      <td>1</td>\n      <td>1</td>\n      <td>C250</td>\n      <td>...</td>\n      <td>NaN</td>\n      <td>NaN</td>\n      <td>NaN</td>\n      <td>NaN</td>\n      <td>C25</td>\n      <td>Tumor maligno de la cabeza del páncreas</td>\n      <td>Pancreas</td>\n      <td>C25</td>\n      <td>Tumor maligno del páncreas</td>\n      <td>Pancreas</td>\n    </tr>\n    <tr>\n      <th>1</th>\n      <td>1</td>\n      <td>1</td>\n      <td>2</td>\n      <td>1</td>\n      <td>2</td>\n      <td>4</td>\n      <td>1</td>\n      <td>2</td>\n      <td>4</td>\n      <td>C229</td>\n      <td>...</td>\n      <td>NaN</td>\n      <td>NaN</td>\n      <td>NaN</td>\n      <td>NaN</td>\n      <td>C22</td>\n      <td>Tumor maligno del hígado, no especificado</td>\n      <td>Liver</td>\n      <td>C22</td>\n      <td>Tumor maligno del hígado y de las vías biliare...</td>\n      <td>Liver</td>\n    </tr>\n    <tr>\n      <th>2</th>\n      <td>2</td>\n      <td>1</td>\n      <td>3</td>\n      <td>1</td>\n      <td>3</td>\n      <td>2</td>\n      <td>1</td>\n      <td>3</td>\n      <td>1</td>\n      <td>C259</td>\n      <td>...</td>\n      <td>NaN</td>\n      <td>NaN</td>\n      <td>NaN</td>\n      <td>NaN</td>\n      <td>C25</td>\n      <td>Tumor maligno del páncreas, parte no especificada</td>\n      <td>Pancreas</td>\n      <td>C25</td>\n      <td>Tumor maligno del páncreas</td>\n      <td>Pancreas</td>\n    </tr>\n    <tr>\n      <th>3</th>\n      <td>3</td>\n      <td>1</td>\n      <td>3</td>\n      <td>1</td>\n      <td>3</td>\n      <td>7</td>\n      <td>1</td>\n      <td>3</td>\n      <td>7</td>\n      <td>C349</td>\n      <td>...</td>\n      <td>NaN</td>\n      <td>NaN</td>\n      <td>NaN</td>\n      <td>NaN</td>\n      <td>C34</td>\n      <td>Tumor maligno de los bronquios o del pulmón, p...</td>\n      <td>Lungs</td>\n      <td>C34</td>\n      <td>Tumor maligno de la tráquea, de los bronquios ...</td>\n      <td>Lungs</td>\n    </tr>\n    <tr>\n      <th>4</th>\n      <td>4</td>\n      <td>1</td>\n      <td>3</td>\n      <td>1</td>\n      <td>3</td>\n      <td>1</td>\n      <td>1</td>\n      <td>3</td>\n      <td>1</td>\n      <td>C481</td>\n      <td>...</td>\n      <td>NaN</td>\n      <td>NaN</td>\n      <td>NaN</td>\n      <td>NaN</td>\n      <td>C49</td>\n      <td>Tumor maligno de parte especificada del peritoneo</td>\n      <td>Soft Tissue</td>\n      <td>C49</td>\n      <td>Tumores malignos de los tejidos mesoteliales y...</td>\n      <td>Soft Tissue</td>\n    </tr>\n  </tbody>\n</table>\n<p>5 rows × 61 columns</p>\n</div>"
     },
     "metadata": {},
     "execution_count": 10
    }
   ],
   "source": [
    "ICDDict = MexMuerto.to_dict()['ICD']\n",
    "df['ICD_Mex'] = df['lista_mex'].map(ICDDict)\n",
    "DescriptDict = MexMuerto.to_dict()['DESCRIP']\n",
    "df['detailCaus_Mex'] = df['lista_mex'].map(DescriptDict)\n",
    "organDict = MexMuerto.to_dict()['organ']\n",
    "df['organ_Mex'] = df['lista_mex'].map(organDict)\n",
    "df.head()"
   ]
  },
  {
   "cell_type": "code",
   "execution_count": 11,
   "metadata": {},
   "outputs": [
    {
     "output_type": "execute_result",
     "data": {
      "text/plain": [
       "0    88\n",
       "1    72\n",
       "2    44\n",
       "3    50\n",
       "4    59\n",
       "Name: edad, dtype: int64"
      ]
     },
     "metadata": {},
     "execution_count": 11
    }
   ],
   "source": [
    "pPath = dirname(dirname(os.getcwd())) + '\\\\codec\\\\years.xlsx'\n",
    "currDict = pd.read_excel(pPath)\n",
    "currDict.set_index('clave', inplace=True)\n",
    "year_dict = currDict.to_dict()['year']\n",
    "df['edad'] = df['edad'].map(year_dict)\n",
    "df['edad'].head()"
   ]
  },
  {
   "cell_type": "code",
   "execution_count": 12,
   "metadata": {},
   "outputs": [
    {
     "output_type": "execute_result",
     "data": {
      "text/plain": [
       "787756"
      ]
     },
     "metadata": {},
     "execution_count": 12
    }
   ],
   "source": [
    "df.shape[0]"
   ]
  },
  {
   "cell_type": "code",
   "execution_count": 13,
   "metadata": {},
   "outputs": [],
   "source": [
    "#Override Test File\n",
    "pPath = dirname(dirname(os.getcwd()))+'\\\\CleansingNotebooks\\\\TotalCleanedTest.csv'\n",
    "df.to_csv(pPath)"
   ]
  },
  {
   "cell_type": "code",
   "execution_count": null,
   "metadata": {},
   "outputs": [],
   "source": []
  }
 ],
 "metadata": {
  "kernelspec": {
   "name": "python383jvsc74a57bd0ed225720166559e7176d3793db16a2fd8d295f725007103b21ac3099d2a89ee8",
   "display_name": "Python"
  },
  "language_info": {
   "codemirror_mode": {
    "name": "ipython",
    "version": 3
   },
   "file_extension": ".py",
   "mimetype": "text/x-python",
   "name": "python",
   "nbconvert_exporter": "python",
   "pygments_lexer": "ipython3",
   "version": "3.8.3"
  }
 },
 "nbformat": 4,
 "nbformat_minor": 4
}