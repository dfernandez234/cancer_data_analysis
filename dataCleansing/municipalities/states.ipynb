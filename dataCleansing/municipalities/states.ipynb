{
 "metadata": {
  "language_info": {
   "codemirror_mode": {
    "name": "ipython",
    "version": 3
   },
   "file_extension": ".py",
   "mimetype": "text/x-python",
   "name": "python",
   "nbconvert_exporter": "python",
   "pygments_lexer": "ipython3",
   "version": "3.8.3"
  },
  "orig_nbformat": 2,
  "kernelspec": {
   "name": "python383jvsc74a57bd0ed225720166559e7176d3793db16a2fd8d295f725007103b21ac3099d2a89ee8",
   "display_name": "Python"
  }
 },
 "nbformat": 4,
 "nbformat_minor": 2,
 "cells": [
  {
   "cell_type": "code",
   "execution_count": 1,
   "metadata": {},
   "outputs": [],
   "source": [
    "import pandas as pd\n",
    "import numpy as np\n",
    "import seaborn as sns\n",
    "import matplotlib.pyplot as plt\n",
    "import os\n",
    "import re"
   ]
  },
  {
   "cell_type": "code",
   "execution_count": 2,
   "metadata": {},
   "outputs": [
    {
     "output_type": "execute_result",
     "data": {
      "text/plain": [
       "'c:\\\\Users\\\\David Fernandez\\\\Desktop\\\\cancerDataAnalysis\\\\CleansingNotebooks\\\\TotalCleanedTest.csv'"
      ]
     },
     "metadata": {},
     "execution_count": 2
    }
   ],
   "source": [
    "from os.path import dirname\n",
    "dirPath = dirname(dirname(os.getcwd()))+\"\\\\CleansingNotebooks\\\\TotalCleanedTest.csv\"\n",
    "dirPath"
   ]
  },
  {
   "cell_type": "code",
   "execution_count": 3,
   "metadata": {},
   "outputs": [
    {
     "output_type": "execute_result",
     "data": {
      "text/plain": [
       "   ent_regis  mun_regis  ent_resid  mun_resid  ent_ocurr  mun_ocurr causa_def  \\\n",
       "0          1          1          1          1          1          1      C250   \n",
       "1          1          2          1          2          1          2      C229   \n",
       "2          1          3          1          3          1          3      C259   \n",
       "3          1          3          1          3          1          3      C349   \n",
       "4          1          3          1          3          1          3      C481   \n",
       "\n",
       "  lista_mex  sexo  edad  ...  lengua  cond_act  loc_ocur  ICD  \\\n",
       "0       09G     1    88  ...     NaN       NaN       NaN  C25   \n",
       "1       09F     2    72  ...     NaN       NaN       NaN  C22   \n",
       "2       09G     2    44  ...     NaN       NaN       NaN  C25   \n",
       "3       10B     2    50  ...     NaN       NaN       NaN  C34   \n",
       "4       11E     2    59  ...     NaN       NaN       NaN  C49   \n",
       "\n",
       "                                          detailCaus        Organ  ICD_Mex  \\\n",
       "0            Tumor maligno de la cabeza del páncreas     Pancreas      C25   \n",
       "1          Tumor maligno del hígado, no especificado       Liver       C22   \n",
       "2  Tumor maligno del páncreas, parte no especificada     Pancreas      C25   \n",
       "3  Tumor maligno de los bronquios o del pulmón, p...        Lungs      C34   \n",
       "4  Tumor maligno de parte especificada del peritoneo  Soft Tissue      C49   \n",
       "\n",
       "                                      detailCaus_Mex    organ_Mex  edadCalc  \n",
       "0                         Tumor maligno del páncreas     Pancreas        88  \n",
       "1  Tumor maligno del hígado y de las vías biliare...       Liver         72  \n",
       "2                         Tumor maligno del páncreas     Pancreas        44  \n",
       "3  Tumor maligno de la tráquea, de los bronquios ...        Lungs        50  \n",
       "4  Tumores malignos de los tejidos mesoteliales y...  Soft Tissue        59  \n",
       "\n",
       "[5 rows x 57 columns]"
      ],
      "text/html": "<div>\n<style scoped>\n    .dataframe tbody tr th:only-of-type {\n        vertical-align: middle;\n    }\n\n    .dataframe tbody tr th {\n        vertical-align: top;\n    }\n\n    .dataframe thead th {\n        text-align: right;\n    }\n</style>\n<table border=\"1\" class=\"dataframe\">\n  <thead>\n    <tr style=\"text-align: right;\">\n      <th></th>\n      <th>ent_regis</th>\n      <th>mun_regis</th>\n      <th>ent_resid</th>\n      <th>mun_resid</th>\n      <th>ent_ocurr</th>\n      <th>mun_ocurr</th>\n      <th>causa_def</th>\n      <th>lista_mex</th>\n      <th>sexo</th>\n      <th>edad</th>\n      <th>...</th>\n      <th>lengua</th>\n      <th>cond_act</th>\n      <th>loc_ocur</th>\n      <th>ICD</th>\n      <th>detailCaus</th>\n      <th>Organ</th>\n      <th>ICD_Mex</th>\n      <th>detailCaus_Mex</th>\n      <th>organ_Mex</th>\n      <th>edadCalc</th>\n    </tr>\n  </thead>\n  <tbody>\n    <tr>\n      <th>0</th>\n      <td>1</td>\n      <td>1</td>\n      <td>1</td>\n      <td>1</td>\n      <td>1</td>\n      <td>1</td>\n      <td>C250</td>\n      <td>09G</td>\n      <td>1</td>\n      <td>88</td>\n      <td>...</td>\n      <td>NaN</td>\n      <td>NaN</td>\n      <td>NaN</td>\n      <td>C25</td>\n      <td>Tumor maligno de la cabeza del páncreas</td>\n      <td>Pancreas</td>\n      <td>C25</td>\n      <td>Tumor maligno del páncreas</td>\n      <td>Pancreas</td>\n      <td>88</td>\n    </tr>\n    <tr>\n      <th>1</th>\n      <td>1</td>\n      <td>2</td>\n      <td>1</td>\n      <td>2</td>\n      <td>1</td>\n      <td>2</td>\n      <td>C229</td>\n      <td>09F</td>\n      <td>2</td>\n      <td>72</td>\n      <td>...</td>\n      <td>NaN</td>\n      <td>NaN</td>\n      <td>NaN</td>\n      <td>C22</td>\n      <td>Tumor maligno del hígado, no especificado</td>\n      <td>Liver</td>\n      <td>C22</td>\n      <td>Tumor maligno del hígado y de las vías biliare...</td>\n      <td>Liver</td>\n      <td>72</td>\n    </tr>\n    <tr>\n      <th>2</th>\n      <td>1</td>\n      <td>3</td>\n      <td>1</td>\n      <td>3</td>\n      <td>1</td>\n      <td>3</td>\n      <td>C259</td>\n      <td>09G</td>\n      <td>2</td>\n      <td>44</td>\n      <td>...</td>\n      <td>NaN</td>\n      <td>NaN</td>\n      <td>NaN</td>\n      <td>C25</td>\n      <td>Tumor maligno del páncreas, parte no especificada</td>\n      <td>Pancreas</td>\n      <td>C25</td>\n      <td>Tumor maligno del páncreas</td>\n      <td>Pancreas</td>\n      <td>44</td>\n    </tr>\n    <tr>\n      <th>3</th>\n      <td>1</td>\n      <td>3</td>\n      <td>1</td>\n      <td>3</td>\n      <td>1</td>\n      <td>3</td>\n      <td>C349</td>\n      <td>10B</td>\n      <td>2</td>\n      <td>50</td>\n      <td>...</td>\n      <td>NaN</td>\n      <td>NaN</td>\n      <td>NaN</td>\n      <td>C34</td>\n      <td>Tumor maligno de los bronquios o del pulmón, p...</td>\n      <td>Lungs</td>\n      <td>C34</td>\n      <td>Tumor maligno de la tráquea, de los bronquios ...</td>\n      <td>Lungs</td>\n      <td>50</td>\n    </tr>\n    <tr>\n      <th>4</th>\n      <td>1</td>\n      <td>3</td>\n      <td>1</td>\n      <td>3</td>\n      <td>1</td>\n      <td>3</td>\n      <td>C481</td>\n      <td>11E</td>\n      <td>2</td>\n      <td>59</td>\n      <td>...</td>\n      <td>NaN</td>\n      <td>NaN</td>\n      <td>NaN</td>\n      <td>C49</td>\n      <td>Tumor maligno de parte especificada del peritoneo</td>\n      <td>Soft Tissue</td>\n      <td>C49</td>\n      <td>Tumores malignos de los tejidos mesoteliales y...</td>\n      <td>Soft Tissue</td>\n      <td>59</td>\n    </tr>\n  </tbody>\n</table>\n<p>5 rows × 57 columns</p>\n</div>"
     },
     "metadata": {},
     "execution_count": 3
    }
   ],
   "source": [
    "df = pd.read_csv(dirPath)\n",
    "#df.set_index('index', inplace=True)\n",
    "df.drop(columns=['Unnamed: 0'], inplace=True)\n",
    "totalCopy = df\n",
    "totalCopy.drop(columns=['tloc_resid', 'loc_resid', 'tloc_ocurr', 'loc_ocurr'],inplace=True)\n",
    "totalCopy.head()"
   ]
  },
  {
   "cell_type": "code",
   "execution_count": 4,
   "metadata": {},
   "outputs": [
    {
     "output_type": "execute_result",
     "data": {
      "text/plain": [
       "  ent_regis mun_regis ent_resid mun_resid ent_ocurr mun_ocurr causa_def  \\\n",
       "0        01       001        01       001        01       001      C250   \n",
       "1        01       002        01       002        01       002      C229   \n",
       "2        01       003        01       003        01       003      C259   \n",
       "3        01       003        01       003        01       003      C349   \n",
       "4        01       003        01       003        01       003      C481   \n",
       "\n",
       "  lista_mex  sexo  edad  ...  lengua  cond_act  loc_ocur  ICD  \\\n",
       "0       09G     1    88  ...     NaN       NaN       NaN  C25   \n",
       "1       09F     2    72  ...     NaN       NaN       NaN  C22   \n",
       "2       09G     2    44  ...     NaN       NaN       NaN  C25   \n",
       "3       10B     2    50  ...     NaN       NaN       NaN  C34   \n",
       "4       11E     2    59  ...     NaN       NaN       NaN  C49   \n",
       "\n",
       "                                          detailCaus        Organ  ICD_Mex  \\\n",
       "0            Tumor maligno de la cabeza del páncreas     Pancreas      C25   \n",
       "1          Tumor maligno del hígado, no especificado       Liver       C22   \n",
       "2  Tumor maligno del páncreas, parte no especificada     Pancreas      C25   \n",
       "3  Tumor maligno de los bronquios o del pulmón, p...        Lungs      C34   \n",
       "4  Tumor maligno de parte especificada del peritoneo  Soft Tissue      C49   \n",
       "\n",
       "                                      detailCaus_Mex    organ_Mex  edadCalc  \n",
       "0                         Tumor maligno del páncreas     Pancreas        88  \n",
       "1  Tumor maligno del hígado y de las vías biliare...       Liver         72  \n",
       "2                         Tumor maligno del páncreas     Pancreas        44  \n",
       "3  Tumor maligno de la tráquea, de los bronquios ...        Lungs        50  \n",
       "4  Tumores malignos de los tejidos mesoteliales y...  Soft Tissue        59  \n",
       "\n",
       "[5 rows x 57 columns]"
      ],
      "text/html": "<div>\n<style scoped>\n    .dataframe tbody tr th:only-of-type {\n        vertical-align: middle;\n    }\n\n    .dataframe tbody tr th {\n        vertical-align: top;\n    }\n\n    .dataframe thead th {\n        text-align: right;\n    }\n</style>\n<table border=\"1\" class=\"dataframe\">\n  <thead>\n    <tr style=\"text-align: right;\">\n      <th></th>\n      <th>ent_regis</th>\n      <th>mun_regis</th>\n      <th>ent_resid</th>\n      <th>mun_resid</th>\n      <th>ent_ocurr</th>\n      <th>mun_ocurr</th>\n      <th>causa_def</th>\n      <th>lista_mex</th>\n      <th>sexo</th>\n      <th>edad</th>\n      <th>...</th>\n      <th>lengua</th>\n      <th>cond_act</th>\n      <th>loc_ocur</th>\n      <th>ICD</th>\n      <th>detailCaus</th>\n      <th>Organ</th>\n      <th>ICD_Mex</th>\n      <th>detailCaus_Mex</th>\n      <th>organ_Mex</th>\n      <th>edadCalc</th>\n    </tr>\n  </thead>\n  <tbody>\n    <tr>\n      <th>0</th>\n      <td>01</td>\n      <td>001</td>\n      <td>01</td>\n      <td>001</td>\n      <td>01</td>\n      <td>001</td>\n      <td>C250</td>\n      <td>09G</td>\n      <td>1</td>\n      <td>88</td>\n      <td>...</td>\n      <td>NaN</td>\n      <td>NaN</td>\n      <td>NaN</td>\n      <td>C25</td>\n      <td>Tumor maligno de la cabeza del páncreas</td>\n      <td>Pancreas</td>\n      <td>C25</td>\n      <td>Tumor maligno del páncreas</td>\n      <td>Pancreas</td>\n      <td>88</td>\n    </tr>\n    <tr>\n      <th>1</th>\n      <td>01</td>\n      <td>002</td>\n      <td>01</td>\n      <td>002</td>\n      <td>01</td>\n      <td>002</td>\n      <td>C229</td>\n      <td>09F</td>\n      <td>2</td>\n      <td>72</td>\n      <td>...</td>\n      <td>NaN</td>\n      <td>NaN</td>\n      <td>NaN</td>\n      <td>C22</td>\n      <td>Tumor maligno del hígado, no especificado</td>\n      <td>Liver</td>\n      <td>C22</td>\n      <td>Tumor maligno del hígado y de las vías biliare...</td>\n      <td>Liver</td>\n      <td>72</td>\n    </tr>\n    <tr>\n      <th>2</th>\n      <td>01</td>\n      <td>003</td>\n      <td>01</td>\n      <td>003</td>\n      <td>01</td>\n      <td>003</td>\n      <td>C259</td>\n      <td>09G</td>\n      <td>2</td>\n      <td>44</td>\n      <td>...</td>\n      <td>NaN</td>\n      <td>NaN</td>\n      <td>NaN</td>\n      <td>C25</td>\n      <td>Tumor maligno del páncreas, parte no especificada</td>\n      <td>Pancreas</td>\n      <td>C25</td>\n      <td>Tumor maligno del páncreas</td>\n      <td>Pancreas</td>\n      <td>44</td>\n    </tr>\n    <tr>\n      <th>3</th>\n      <td>01</td>\n      <td>003</td>\n      <td>01</td>\n      <td>003</td>\n      <td>01</td>\n      <td>003</td>\n      <td>C349</td>\n      <td>10B</td>\n      <td>2</td>\n      <td>50</td>\n      <td>...</td>\n      <td>NaN</td>\n      <td>NaN</td>\n      <td>NaN</td>\n      <td>C34</td>\n      <td>Tumor maligno de los bronquios o del pulmón, p...</td>\n      <td>Lungs</td>\n      <td>C34</td>\n      <td>Tumor maligno de la tráquea, de los bronquios ...</td>\n      <td>Lungs</td>\n      <td>50</td>\n    </tr>\n    <tr>\n      <th>4</th>\n      <td>01</td>\n      <td>003</td>\n      <td>01</td>\n      <td>003</td>\n      <td>01</td>\n      <td>003</td>\n      <td>C481</td>\n      <td>11E</td>\n      <td>2</td>\n      <td>59</td>\n      <td>...</td>\n      <td>NaN</td>\n      <td>NaN</td>\n      <td>NaN</td>\n      <td>C49</td>\n      <td>Tumor maligno de parte especificada del peritoneo</td>\n      <td>Soft Tissue</td>\n      <td>C49</td>\n      <td>Tumores malignos de los tejidos mesoteliales y...</td>\n      <td>Soft Tissue</td>\n      <td>59</td>\n    </tr>\n  </tbody>\n</table>\n<p>5 rows × 57 columns</p>\n</div>"
     },
     "metadata": {},
     "execution_count": 4
    }
   ],
   "source": [
    "#fix zeroes on states\n",
    "totalCopy['ent_regis'] = totalCopy['ent_regis'].apply(lambda x: '{0:0>2}'.format(x))\n",
    "totalCopy['mun_regis'] = totalCopy['mun_regis'].apply(lambda x: '{0:0>3}'.format(x))\n",
    "totalCopy['ent_resid'] = totalCopy['ent_resid'].apply(lambda x: '{0:0>2}'.format(x))\n",
    "totalCopy['mun_resid'] = totalCopy['mun_resid'].apply(lambda x: '{0:0>3}'.format(x))\n",
    "totalCopy['ent_ocurr'] = totalCopy['ent_ocurr'].apply(lambda x: '{0:0>2}'.format(x))\n",
    "totalCopy['mun_ocurr'] = totalCopy['mun_ocurr'].apply(lambda x: '{0:0>3}'.format(x))\n",
    "totalCopy.head()"
   ]
  },
  {
   "cell_type": "code",
   "execution_count": 5,
   "metadata": {},
   "outputs": [
    {
     "output_type": "stream",
     "name": "stdout",
     "text": [
      "1105, 1149, 0\n"
     ]
    }
   ],
   "source": [
    "#index_names = totalCopy[ totalCopy['ent_regis'] == 99 ].index\n",
    "#totalCopy.drop(index_names, inplace = True) \n",
    "ocurr = totalCopy.loc[((totalCopy['ent_ocurr'] == '99') & (totalCopy['mun_ocurr'] == '999')), 'anio_nacim'].count() \n",
    "resid = totalCopy.loc[((totalCopy['ent_resid'] == '99') & (totalCopy['mun_resid'] == '999')), 'anio_nacim'].count() \n",
    "regis = totalCopy.loc[((totalCopy['ent_regis'] == '99') & (totalCopy['mun_regis'] == '999')), 'anio_nacim'].count() \n",
    "print(f\"{ocurr}, {resid}, {regis}\")"
   ]
  },
  {
   "cell_type": "code",
   "execution_count": 6,
   "metadata": {},
   "outputs": [],
   "source": [
    "index_names = totalCopy[((totalCopy['ent_ocurr'] == '99') & (totalCopy['mun_ocurr'] == '999'))].indexx\n",
    "totalCopy.drop(index_names, inplace = True) \n",
    "index_names = totalCopy[((totalCopy['ent_resid'] == '99') & (totalCopy['mun_resid'] == '999'))].indexx\n",
    "totalCopy.drop(index_names, inplace = True) \n",
    "index_names = totalCopy[((totalCopy['ent_regis'] == '99') & (totalCopy['mun_regis'] == '999'))].index\n",
    "totalCopy.drop(index_names, inplace = True) "
   ]
  },
  {
   "cell_type": "code",
   "execution_count": 7,
   "metadata": {},
   "outputs": [
    {
     "output_type": "execute_result",
     "data": {
      "text/plain": [
       "1922"
      ]
     },
     "metadata": {},
     "execution_count": 7
    }
   ],
   "source": [
    "totalCopy.loc[(totalCopy['mun_resid'] == '999'), 'anio_nacim'].count() "
   ]
  },
  {
   "cell_type": "code",
   "execution_count": 8,
   "metadata": {},
   "outputs": [
    {
     "output_type": "execute_result",
     "data": {
      "text/plain": [
       "                     state\n",
       "code                      \n",
       "01          Aguascalientes\n",
       "02         Baja California\n",
       "03     Baja California Sur\n",
       "04                Campeche\n",
       "05    Coahuila de Zaragoza"
      ],
      "text/html": "<div>\n<style scoped>\n    .dataframe tbody tr th:only-of-type {\n        vertical-align: middle;\n    }\n\n    .dataframe tbody tr th {\n        vertical-align: top;\n    }\n\n    .dataframe thead th {\n        text-align: right;\n    }\n</style>\n<table border=\"1\" class=\"dataframe\">\n  <thead>\n    <tr style=\"text-align: right;\">\n      <th></th>\n      <th>state</th>\n    </tr>\n    <tr>\n      <th>code</th>\n      <th></th>\n    </tr>\n  </thead>\n  <tbody>\n    <tr>\n      <th>01</th>\n      <td>Aguascalientes</td>\n    </tr>\n    <tr>\n      <th>02</th>\n      <td>Baja California</td>\n    </tr>\n    <tr>\n      <th>03</th>\n      <td>Baja California Sur</td>\n    </tr>\n    <tr>\n      <th>04</th>\n      <td>Campeche</td>\n    </tr>\n    <tr>\n      <th>05</th>\n      <td>Coahuila de Zaragoza</td>\n    </tr>\n  </tbody>\n</table>\n</div>"
     },
     "metadata": {},
     "execution_count": 8
    }
   ],
   "source": [
    "from os.path import dirname\n",
    "pPath = dirname(dirname(os.getcwd())) + '\\\\codec\\\\states.xlsx'\n",
    "stateDict = pd.read_excel(pPath)\n",
    "stateDict['code'] = stateDict['code'].apply(lambda x: '{0:0>2}'.format(x))\n",
    "stateDict.set_index('code', inplace=True)\n",
    "stateDict.head()"
   ]
  },
  {
   "cell_type": "code",
   "execution_count": 9,
   "metadata": {},
   "outputs": [
    {
     "output_type": "execute_result",
     "data": {
      "text/plain": [
       "{'01': 'Aguascalientes',\n",
       " '02': 'Baja California',\n",
       " '03': 'Baja California Sur',\n",
       " '04': 'Campeche',\n",
       " '05': 'Coahuila de Zaragoza',\n",
       " '06': 'Colima',\n",
       " '07': 'Chiapas',\n",
       " '08': 'Chihuahua',\n",
       " '09': 'Distrito Federal',\n",
       " '10': 'Durango',\n",
       " '11': 'Guanajuato',\n",
       " '12': 'Guerrero',\n",
       " '13': 'Hidalgo',\n",
       " '14': 'Jalisco',\n",
       " '15': 'México',\n",
       " '16': 'Michoacán de Ocampo',\n",
       " '17': 'Morelos',\n",
       " '18': 'Nayarit',\n",
       " '19': 'Nuevo León',\n",
       " '20': 'Oaxaca',\n",
       " '21': 'Puebla',\n",
       " '22': 'Querétaro',\n",
       " '23': 'Quintana Roo',\n",
       " '24': 'San Luis Potosí',\n",
       " '25': 'Sinaloa',\n",
       " '26': 'Sonora',\n",
       " '27': 'Tabasco',\n",
       " '28': 'Tamaulipas',\n",
       " '29': 'Tlaxcala',\n",
       " '30': 'Veracruz de Ignacio de la Llave',\n",
       " '31': 'Yucatán',\n",
       " '32': 'Zacatecas',\n",
       " '33': 'Estados unidos de America'}"
      ]
     },
     "metadata": {},
     "execution_count": 9
    }
   ],
   "source": [
    "cause_dict = stateDict.to_dict()['state']\n",
    "cause_dict"
   ]
  },
  {
   "cell_type": "code",
   "execution_count": 10,
   "metadata": {},
   "outputs": [
    {
     "output_type": "execute_result",
     "data": {
      "text/plain": [
       "  ent_regis    ent_regis_nm mun_regis ent_resid    ent_resid_nm mun_resid  \\\n",
       "0        01  Aguascalientes       001        01  Aguascalientes       001   \n",
       "1        01  Aguascalientes       002        01  Aguascalientes       002   \n",
       "2        01  Aguascalientes       003        01  Aguascalientes       003   \n",
       "3        01  Aguascalientes       003        01  Aguascalientes       003   \n",
       "4        01  Aguascalientes       003        01  Aguascalientes       003   \n",
       "\n",
       "  ent_ocurr    ent_ocurr_nm mun_ocurr causa_def  ... lengua  cond_act  \\\n",
       "0        01  Aguascalientes       001      C250  ...    NaN       NaN   \n",
       "1        01  Aguascalientes       002      C229  ...    NaN       NaN   \n",
       "2        01  Aguascalientes       003      C259  ...    NaN       NaN   \n",
       "3        01  Aguascalientes       003      C349  ...    NaN       NaN   \n",
       "4        01  Aguascalientes       003      C481  ...    NaN       NaN   \n",
       "\n",
       "   loc_ocur  ICD                                         detailCaus  \\\n",
       "0       NaN  C25            Tumor maligno de la cabeza del páncreas   \n",
       "1       NaN  C22          Tumor maligno del hígado, no especificado   \n",
       "2       NaN  C25  Tumor maligno del páncreas, parte no especificada   \n",
       "3       NaN  C34  Tumor maligno de los bronquios o del pulmón, p...   \n",
       "4       NaN  C49  Tumor maligno de parte especificada del peritoneo   \n",
       "\n",
       "         Organ  ICD_Mex                                     detailCaus_Mex  \\\n",
       "0     Pancreas      C25                         Tumor maligno del páncreas   \n",
       "1       Liver       C22  Tumor maligno del hígado y de las vías biliare...   \n",
       "2     Pancreas      C25                         Tumor maligno del páncreas   \n",
       "3        Lungs      C34  Tumor maligno de la tráquea, de los bronquios ...   \n",
       "4  Soft Tissue      C49  Tumores malignos de los tejidos mesoteliales y...   \n",
       "\n",
       "     organ_Mex  edadCalc  \n",
       "0     Pancreas        88  \n",
       "1       Liver         72  \n",
       "2     Pancreas        44  \n",
       "3        Lungs        50  \n",
       "4  Soft Tissue        59  \n",
       "\n",
       "[5 rows x 60 columns]"
      ],
      "text/html": "<div>\n<style scoped>\n    .dataframe tbody tr th:only-of-type {\n        vertical-align: middle;\n    }\n\n    .dataframe tbody tr th {\n        vertical-align: top;\n    }\n\n    .dataframe thead th {\n        text-align: right;\n    }\n</style>\n<table border=\"1\" class=\"dataframe\">\n  <thead>\n    <tr style=\"text-align: right;\">\n      <th></th>\n      <th>ent_regis</th>\n      <th>ent_regis_nm</th>\n      <th>mun_regis</th>\n      <th>ent_resid</th>\n      <th>ent_resid_nm</th>\n      <th>mun_resid</th>\n      <th>ent_ocurr</th>\n      <th>ent_ocurr_nm</th>\n      <th>mun_ocurr</th>\n      <th>causa_def</th>\n      <th>...</th>\n      <th>lengua</th>\n      <th>cond_act</th>\n      <th>loc_ocur</th>\n      <th>ICD</th>\n      <th>detailCaus</th>\n      <th>Organ</th>\n      <th>ICD_Mex</th>\n      <th>detailCaus_Mex</th>\n      <th>organ_Mex</th>\n      <th>edadCalc</th>\n    </tr>\n  </thead>\n  <tbody>\n    <tr>\n      <th>0</th>\n      <td>01</td>\n      <td>Aguascalientes</td>\n      <td>001</td>\n      <td>01</td>\n      <td>Aguascalientes</td>\n      <td>001</td>\n      <td>01</td>\n      <td>Aguascalientes</td>\n      <td>001</td>\n      <td>C250</td>\n      <td>...</td>\n      <td>NaN</td>\n      <td>NaN</td>\n      <td>NaN</td>\n      <td>C25</td>\n      <td>Tumor maligno de la cabeza del páncreas</td>\n      <td>Pancreas</td>\n      <td>C25</td>\n      <td>Tumor maligno del páncreas</td>\n      <td>Pancreas</td>\n      <td>88</td>\n    </tr>\n    <tr>\n      <th>1</th>\n      <td>01</td>\n      <td>Aguascalientes</td>\n      <td>002</td>\n      <td>01</td>\n      <td>Aguascalientes</td>\n      <td>002</td>\n      <td>01</td>\n      <td>Aguascalientes</td>\n      <td>002</td>\n      <td>C229</td>\n      <td>...</td>\n      <td>NaN</td>\n      <td>NaN</td>\n      <td>NaN</td>\n      <td>C22</td>\n      <td>Tumor maligno del hígado, no especificado</td>\n      <td>Liver</td>\n      <td>C22</td>\n      <td>Tumor maligno del hígado y de las vías biliare...</td>\n      <td>Liver</td>\n      <td>72</td>\n    </tr>\n    <tr>\n      <th>2</th>\n      <td>01</td>\n      <td>Aguascalientes</td>\n      <td>003</td>\n      <td>01</td>\n      <td>Aguascalientes</td>\n      <td>003</td>\n      <td>01</td>\n      <td>Aguascalientes</td>\n      <td>003</td>\n      <td>C259</td>\n      <td>...</td>\n      <td>NaN</td>\n      <td>NaN</td>\n      <td>NaN</td>\n      <td>C25</td>\n      <td>Tumor maligno del páncreas, parte no especificada</td>\n      <td>Pancreas</td>\n      <td>C25</td>\n      <td>Tumor maligno del páncreas</td>\n      <td>Pancreas</td>\n      <td>44</td>\n    </tr>\n    <tr>\n      <th>3</th>\n      <td>01</td>\n      <td>Aguascalientes</td>\n      <td>003</td>\n      <td>01</td>\n      <td>Aguascalientes</td>\n      <td>003</td>\n      <td>01</td>\n      <td>Aguascalientes</td>\n      <td>003</td>\n      <td>C349</td>\n      <td>...</td>\n      <td>NaN</td>\n      <td>NaN</td>\n      <td>NaN</td>\n      <td>C34</td>\n      <td>Tumor maligno de los bronquios o del pulmón, p...</td>\n      <td>Lungs</td>\n      <td>C34</td>\n      <td>Tumor maligno de la tráquea, de los bronquios ...</td>\n      <td>Lungs</td>\n      <td>50</td>\n    </tr>\n    <tr>\n      <th>4</th>\n      <td>01</td>\n      <td>Aguascalientes</td>\n      <td>003</td>\n      <td>01</td>\n      <td>Aguascalientes</td>\n      <td>003</td>\n      <td>01</td>\n      <td>Aguascalientes</td>\n      <td>003</td>\n      <td>C481</td>\n      <td>...</td>\n      <td>NaN</td>\n      <td>NaN</td>\n      <td>NaN</td>\n      <td>C49</td>\n      <td>Tumor maligno de parte especificada del peritoneo</td>\n      <td>Soft Tissue</td>\n      <td>C49</td>\n      <td>Tumores malignos de los tejidos mesoteliales y...</td>\n      <td>Soft Tissue</td>\n      <td>59</td>\n    </tr>\n  </tbody>\n</table>\n<p>5 rows × 60 columns</p>\n</div>"
     },
     "metadata": {},
     "execution_count": 10
    }
   ],
   "source": [
    "#totalCopy.drop(columns=['ent_regis_nm'],inplace=True)\n",
    "#totalCopy.drop(columns=['ent_resid_nm'],inplace=True)\n",
    "#totalCopy.drop(columns=['ent_ocurr_nm'],inplace=True)\n",
    "new_col = totalCopy['ent_regis'].map(cause_dict)\n",
    "totalCopy.insert(loc=1, column='ent_regis_nm', value=new_col)\n",
    "\n",
    "new_col = totalCopy['ent_resid'].map(cause_dict)\n",
    "totalCopy.insert(loc=4, column='ent_resid_nm', value=new_col)\n",
    "\n",
    "new_col = totalCopy['ent_regis'].map(cause_dict)\n",
    "totalCopy.insert(loc=7, column='ent_ocurr_nm', value=new_col)\n",
    "totalCopy.head()"
   ]
  },
  {
   "source": [
    "## Municiplaities\n",
    "The problem here is that we have to create columns for each state and it's municipalities, which results in a dataframe with a \"wavy\" form among it's colums, so we have to merge it at the end."
   ],
   "cell_type": "markdown",
   "metadata": {}
  },
  {
   "cell_type": "code",
   "execution_count": 11,
   "metadata": {},
   "outputs": [
    {
     "output_type": "execute_result",
     "data": {
      "text/plain": [
       "['01',\n",
       " '02',\n",
       " '03',\n",
       " '04',\n",
       " '05',\n",
       " '06',\n",
       " '07',\n",
       " '08',\n",
       " '09',\n",
       " '10',\n",
       " '11',\n",
       " '12',\n",
       " '13',\n",
       " '14',\n",
       " '15',\n",
       " '16',\n",
       " '17',\n",
       " '18',\n",
       " '19',\n",
       " '20',\n",
       " '21',\n",
       " '22',\n",
       " '23',\n",
       " '24',\n",
       " '25',\n",
       " '26',\n",
       " '27',\n",
       " '28',\n",
       " '29',\n",
       " '30',\n",
       " '31',\n",
       " '32',\n",
       " '33']"
      ]
     },
     "metadata": {},
     "execution_count": 11
    }
   ],
   "source": [
    "claves = list()\n",
    "for key in cause_dict.keys():\n",
    "    claves.append(key)\n",
    "claves"
   ]
  },
  {
   "cell_type": "code",
   "execution_count": 12,
   "metadata": {},
   "outputs": [
    {
     "output_type": "stream",
     "name": "stdout",
     "text": [
      "<class 'pandas.core.frame.DataFrame'>\nRangeIndex: 2474 entries, 0 to 2473\nData columns (total 4 columns):\n #   Column            Non-Null Count  Dtype \n---  ------            --------------  ----- \n 0   Clave_Entidad     2474 non-null   int64 \n 1   Nombre            2474 non-null   object\n 2   Clave_Mun         2474 non-null   int64 \n 3   Nombre_Municipio  2474 non-null   object\ndtypes: int64(2), object(2)\nmemory usage: 77.4+ KB\n"
     ]
    }
   ],
   "source": [
    "pPath = dirname(dirname(os.getcwd())) + '\\\\codec\\\\Municipios\\\\Municipalities.xlsx'\n",
    "currDict = pd.read_excel(pPath)\n",
    "#currDict['Clave_Mun'] = currDict['Clave_Mun'].astype(np.int64)\n",
    "currDict.info()"
   ]
  },
  {
   "cell_type": "code",
   "execution_count": 13,
   "metadata": {},
   "outputs": [
    {
     "output_type": "execute_result",
     "data": {
      "text/plain": [
       "  Clave_Entidad          Nombre Clave_Mun Nombre_Municipio\n",
       "0            01  Aguascalientes       001   Aguascalientes\n",
       "1            01  Aguascalientes       002         Asientos\n",
       "2            01  Aguascalientes       003         Calvillo\n",
       "3            01  Aguascalientes       004            Cosio\n",
       "4            01  Aguascalientes       005      Jesus Maria"
      ],
      "text/html": "<div>\n<style scoped>\n    .dataframe tbody tr th:only-of-type {\n        vertical-align: middle;\n    }\n\n    .dataframe tbody tr th {\n        vertical-align: top;\n    }\n\n    .dataframe thead th {\n        text-align: right;\n    }\n</style>\n<table border=\"1\" class=\"dataframe\">\n  <thead>\n    <tr style=\"text-align: right;\">\n      <th></th>\n      <th>Clave_Entidad</th>\n      <th>Nombre</th>\n      <th>Clave_Mun</th>\n      <th>Nombre_Municipio</th>\n    </tr>\n  </thead>\n  <tbody>\n    <tr>\n      <th>0</th>\n      <td>01</td>\n      <td>Aguascalientes</td>\n      <td>001</td>\n      <td>Aguascalientes</td>\n    </tr>\n    <tr>\n      <th>1</th>\n      <td>01</td>\n      <td>Aguascalientes</td>\n      <td>002</td>\n      <td>Asientos</td>\n    </tr>\n    <tr>\n      <th>2</th>\n      <td>01</td>\n      <td>Aguascalientes</td>\n      <td>003</td>\n      <td>Calvillo</td>\n    </tr>\n    <tr>\n      <th>3</th>\n      <td>01</td>\n      <td>Aguascalientes</td>\n      <td>004</td>\n      <td>Cosio</td>\n    </tr>\n    <tr>\n      <th>4</th>\n      <td>01</td>\n      <td>Aguascalientes</td>\n      <td>005</td>\n      <td>Jesus Maria</td>\n    </tr>\n  </tbody>\n</table>\n</div>"
     },
     "metadata": {},
     "execution_count": 13
    }
   ],
   "source": [
    "currDict['Clave_Entidad'] = currDict['Clave_Entidad'].apply(lambda x: '{0:0>2}'.format(x))\n",
    "currDict['Clave_Mun'] = currDict['Clave_Mun'].apply(lambda x: '{0:0>3}'.format(x))\n",
    "currDict.head()"
   ]
  },
  {
   "cell_type": "code",
   "execution_count": 14,
   "metadata": {},
   "outputs": [],
   "source": [
    "#Create an empty Dataframe\n",
    "df_ = pd.DataFrame(totalCopy['ent_regis'])\n",
    "del df_['ent_regis']"
   ]
  },
  {
   "cell_type": "code",
   "execution_count": 15,
   "metadata": {},
   "outputs": [],
   "source": [
    "muns = list()\n",
    "cols = list()\n",
    "i=0\n",
    "for item in claves:\n",
    "    mun = currDict.loc[(currDict['Clave_Entidad'] == item)]\n",
    "    mun.set_index('Clave_Mun', inplace=True)\n",
    "    currMun = mun.to_dict()['Nombre_Municipio']\n",
    "    new_col = totalCopy.loc[totalCopy['ent_regis'] == item]['mun_regis'].map(currMun)\n",
    "    name = \"col\"+str(i)\n",
    "    df_.insert(i, column=name, value=new_col)\n",
    "    muns.append(currMun)\n",
    "    cols.append(name)\n",
    "    i = i+1"
   ]
  },
  {
   "cell_type": "code",
   "execution_count": 16,
   "metadata": {},
   "outputs": [
    {
     "output_type": "execute_result",
     "data": {
      "text/plain": [
       "             col0 col1 col2 col3 col4 col5 col6 col7 col8 col9  ... col23  \\\n",
       "0  Aguascalientes                                               ...         \n",
       "1        Asientos                                               ...         \n",
       "2        Calvillo                                               ...         \n",
       "3        Calvillo                                               ...         \n",
       "4        Calvillo                                               ...         \n",
       "\n",
       "  col24 col25 col26 col27 col28 col29 col30 col31 col32  \n",
       "0                                                        \n",
       "1                                                        \n",
       "2                                                        \n",
       "3                                                        \n",
       "4                                                        \n",
       "\n",
       "[5 rows x 33 columns]"
      ],
      "text/html": "<div>\n<style scoped>\n    .dataframe tbody tr th:only-of-type {\n        vertical-align: middle;\n    }\n\n    .dataframe tbody tr th {\n        vertical-align: top;\n    }\n\n    .dataframe thead th {\n        text-align: right;\n    }\n</style>\n<table border=\"1\" class=\"dataframe\">\n  <thead>\n    <tr style=\"text-align: right;\">\n      <th></th>\n      <th>col0</th>\n      <th>col1</th>\n      <th>col2</th>\n      <th>col3</th>\n      <th>col4</th>\n      <th>col5</th>\n      <th>col6</th>\n      <th>col7</th>\n      <th>col8</th>\n      <th>col9</th>\n      <th>...</th>\n      <th>col23</th>\n      <th>col24</th>\n      <th>col25</th>\n      <th>col26</th>\n      <th>col27</th>\n      <th>col28</th>\n      <th>col29</th>\n      <th>col30</th>\n      <th>col31</th>\n      <th>col32</th>\n    </tr>\n  </thead>\n  <tbody>\n    <tr>\n      <th>0</th>\n      <td>Aguascalientes</td>\n      <td></td>\n      <td></td>\n      <td></td>\n      <td></td>\n      <td></td>\n      <td></td>\n      <td></td>\n      <td></td>\n      <td></td>\n      <td>...</td>\n      <td></td>\n      <td></td>\n      <td></td>\n      <td></td>\n      <td></td>\n      <td></td>\n      <td></td>\n      <td></td>\n      <td></td>\n      <td></td>\n    </tr>\n    <tr>\n      <th>1</th>\n      <td>Asientos</td>\n      <td></td>\n      <td></td>\n      <td></td>\n      <td></td>\n      <td></td>\n      <td></td>\n      <td></td>\n      <td></td>\n      <td></td>\n      <td>...</td>\n      <td></td>\n      <td></td>\n      <td></td>\n      <td></td>\n      <td></td>\n      <td></td>\n      <td></td>\n      <td></td>\n      <td></td>\n      <td></td>\n    </tr>\n    <tr>\n      <th>2</th>\n      <td>Calvillo</td>\n      <td></td>\n      <td></td>\n      <td></td>\n      <td></td>\n      <td></td>\n      <td></td>\n      <td></td>\n      <td></td>\n      <td></td>\n      <td>...</td>\n      <td></td>\n      <td></td>\n      <td></td>\n      <td></td>\n      <td></td>\n      <td></td>\n      <td></td>\n      <td></td>\n      <td></td>\n      <td></td>\n    </tr>\n    <tr>\n      <th>3</th>\n      <td>Calvillo</td>\n      <td></td>\n      <td></td>\n      <td></td>\n      <td></td>\n      <td></td>\n      <td></td>\n      <td></td>\n      <td></td>\n      <td></td>\n      <td>...</td>\n      <td></td>\n      <td></td>\n      <td></td>\n      <td></td>\n      <td></td>\n      <td></td>\n      <td></td>\n      <td></td>\n      <td></td>\n      <td></td>\n    </tr>\n    <tr>\n      <th>4</th>\n      <td>Calvillo</td>\n      <td></td>\n      <td></td>\n      <td></td>\n      <td></td>\n      <td></td>\n      <td></td>\n      <td></td>\n      <td></td>\n      <td></td>\n      <td>...</td>\n      <td></td>\n      <td></td>\n      <td></td>\n      <td></td>\n      <td></td>\n      <td></td>\n      <td></td>\n      <td></td>\n      <td></td>\n      <td></td>\n    </tr>\n  </tbody>\n</table>\n<p>5 rows × 33 columns</p>\n</div>"
     },
     "metadata": {},
     "execution_count": 16
    }
   ],
   "source": [
    "df_.fillna('', inplace=True)\n",
    "df_.head()"
   ]
  },
  {
   "cell_type": "code",
   "execution_count": 17,
   "metadata": {},
   "outputs": [
    {
     "output_type": "execute_result",
     "data": {
      "text/plain": [
       "             col0 col1 col2 col3 col4 col5 col6 col7 col8 col9  ... col24  \\\n",
       "0  Aguascalientes                                               ...         \n",
       "1        Asientos                                               ...         \n",
       "2        Calvillo                                               ...         \n",
       "3        Calvillo                                               ...         \n",
       "4        Calvillo                                               ...         \n",
       "\n",
       "  col25 col26 col27 col28 col29 col30 col31 col32        combined  \n",
       "0                                                  Aguascalientes  \n",
       "1                                                        Asientos  \n",
       "2                                                        Calvillo  \n",
       "3                                                        Calvillo  \n",
       "4                                                        Calvillo  \n",
       "\n",
       "[5 rows x 34 columns]"
      ],
      "text/html": "<div>\n<style scoped>\n    .dataframe tbody tr th:only-of-type {\n        vertical-align: middle;\n    }\n\n    .dataframe tbody tr th {\n        vertical-align: top;\n    }\n\n    .dataframe thead th {\n        text-align: right;\n    }\n</style>\n<table border=\"1\" class=\"dataframe\">\n  <thead>\n    <tr style=\"text-align: right;\">\n      <th></th>\n      <th>col0</th>\n      <th>col1</th>\n      <th>col2</th>\n      <th>col3</th>\n      <th>col4</th>\n      <th>col5</th>\n      <th>col6</th>\n      <th>col7</th>\n      <th>col8</th>\n      <th>col9</th>\n      <th>...</th>\n      <th>col24</th>\n      <th>col25</th>\n      <th>col26</th>\n      <th>col27</th>\n      <th>col28</th>\n      <th>col29</th>\n      <th>col30</th>\n      <th>col31</th>\n      <th>col32</th>\n      <th>combined</th>\n    </tr>\n  </thead>\n  <tbody>\n    <tr>\n      <th>0</th>\n      <td>Aguascalientes</td>\n      <td></td>\n      <td></td>\n      <td></td>\n      <td></td>\n      <td></td>\n      <td></td>\n      <td></td>\n      <td></td>\n      <td></td>\n      <td>...</td>\n      <td></td>\n      <td></td>\n      <td></td>\n      <td></td>\n      <td></td>\n      <td></td>\n      <td></td>\n      <td></td>\n      <td></td>\n      <td>Aguascalientes</td>\n    </tr>\n    <tr>\n      <th>1</th>\n      <td>Asientos</td>\n      <td></td>\n      <td></td>\n      <td></td>\n      <td></td>\n      <td></td>\n      <td></td>\n      <td></td>\n      <td></td>\n      <td></td>\n      <td>...</td>\n      <td></td>\n      <td></td>\n      <td></td>\n      <td></td>\n      <td></td>\n      <td></td>\n      <td></td>\n      <td></td>\n      <td></td>\n      <td>Asientos</td>\n    </tr>\n    <tr>\n      <th>2</th>\n      <td>Calvillo</td>\n      <td></td>\n      <td></td>\n      <td></td>\n      <td></td>\n      <td></td>\n      <td></td>\n      <td></td>\n      <td></td>\n      <td></td>\n      <td>...</td>\n      <td></td>\n      <td></td>\n      <td></td>\n      <td></td>\n      <td></td>\n      <td></td>\n      <td></td>\n      <td></td>\n      <td></td>\n      <td>Calvillo</td>\n    </tr>\n    <tr>\n      <th>3</th>\n      <td>Calvillo</td>\n      <td></td>\n      <td></td>\n      <td></td>\n      <td></td>\n      <td></td>\n      <td></td>\n      <td></td>\n      <td></td>\n      <td></td>\n      <td>...</td>\n      <td></td>\n      <td></td>\n      <td></td>\n      <td></td>\n      <td></td>\n      <td></td>\n      <td></td>\n      <td></td>\n      <td></td>\n      <td>Calvillo</td>\n    </tr>\n    <tr>\n      <th>4</th>\n      <td>Calvillo</td>\n      <td></td>\n      <td></td>\n      <td></td>\n      <td></td>\n      <td></td>\n      <td></td>\n      <td></td>\n      <td></td>\n      <td></td>\n      <td>...</td>\n      <td></td>\n      <td></td>\n      <td></td>\n      <td></td>\n      <td></td>\n      <td></td>\n      <td></td>\n      <td></td>\n      <td></td>\n      <td>Calvillo</td>\n    </tr>\n  </tbody>\n</table>\n<p>5 rows × 34 columns</p>\n</div>"
     },
     "metadata": {},
     "execution_count": 17
    }
   ],
   "source": [
    "df_['combined'] = df_[cols].apply(lambda row: ''.join(row.values.astype(str)), axis=1)\n",
    "df_.head()"
   ]
  },
  {
   "cell_type": "code",
   "execution_count": 18,
   "metadata": {},
   "outputs": [
    {
     "output_type": "execute_result",
     "data": {
      "text/plain": [
       "  ent_regis    ent_regis_nm mun_regis    mun_regis_nm ent_resid  \\\n",
       "0        01  Aguascalientes       001  Aguascalientes        01   \n",
       "1        01  Aguascalientes       002        Asientos        01   \n",
       "2        01  Aguascalientes       003        Calvillo        01   \n",
       "3        01  Aguascalientes       003        Calvillo        01   \n",
       "4        01  Aguascalientes       003        Calvillo        01   \n",
       "\n",
       "     ent_resid_nm mun_resid ent_ocurr    ent_ocurr_nm mun_ocurr  ... lengua  \\\n",
       "0  Aguascalientes       001        01  Aguascalientes       001  ...    NaN   \n",
       "1  Aguascalientes       002        01  Aguascalientes       002  ...    NaN   \n",
       "2  Aguascalientes       003        01  Aguascalientes       003  ...    NaN   \n",
       "3  Aguascalientes       003        01  Aguascalientes       003  ...    NaN   \n",
       "4  Aguascalientes       003        01  Aguascalientes       003  ...    NaN   \n",
       "\n",
       "  cond_act  loc_ocur  ICD                                         detailCaus  \\\n",
       "0      NaN       NaN  C25            Tumor maligno de la cabeza del páncreas   \n",
       "1      NaN       NaN  C22          Tumor maligno del hígado, no especificado   \n",
       "2      NaN       NaN  C25  Tumor maligno del páncreas, parte no especificada   \n",
       "3      NaN       NaN  C34  Tumor maligno de los bronquios o del pulmón, p...   \n",
       "4      NaN       NaN  C49  Tumor maligno de parte especificada del peritoneo   \n",
       "\n",
       "         Organ  ICD_Mex                                     detailCaus_Mex  \\\n",
       "0     Pancreas      C25                         Tumor maligno del páncreas   \n",
       "1       Liver       C22  Tumor maligno del hígado y de las vías biliare...   \n",
       "2     Pancreas      C25                         Tumor maligno del páncreas   \n",
       "3        Lungs      C34  Tumor maligno de la tráquea, de los bronquios ...   \n",
       "4  Soft Tissue      C49  Tumores malignos de los tejidos mesoteliales y...   \n",
       "\n",
       "     organ_Mex  edadCalc  \n",
       "0     Pancreas        88  \n",
       "1       Liver         72  \n",
       "2     Pancreas        44  \n",
       "3        Lungs        50  \n",
       "4  Soft Tissue        59  \n",
       "\n",
       "[5 rows x 61 columns]"
      ],
      "text/html": "<div>\n<style scoped>\n    .dataframe tbody tr th:only-of-type {\n        vertical-align: middle;\n    }\n\n    .dataframe tbody tr th {\n        vertical-align: top;\n    }\n\n    .dataframe thead th {\n        text-align: right;\n    }\n</style>\n<table border=\"1\" class=\"dataframe\">\n  <thead>\n    <tr style=\"text-align: right;\">\n      <th></th>\n      <th>ent_regis</th>\n      <th>ent_regis_nm</th>\n      <th>mun_regis</th>\n      <th>mun_regis_nm</th>\n      <th>ent_resid</th>\n      <th>ent_resid_nm</th>\n      <th>mun_resid</th>\n      <th>ent_ocurr</th>\n      <th>ent_ocurr_nm</th>\n      <th>mun_ocurr</th>\n      <th>...</th>\n      <th>lengua</th>\n      <th>cond_act</th>\n      <th>loc_ocur</th>\n      <th>ICD</th>\n      <th>detailCaus</th>\n      <th>Organ</th>\n      <th>ICD_Mex</th>\n      <th>detailCaus_Mex</th>\n      <th>organ_Mex</th>\n      <th>edadCalc</th>\n    </tr>\n  </thead>\n  <tbody>\n    <tr>\n      <th>0</th>\n      <td>01</td>\n      <td>Aguascalientes</td>\n      <td>001</td>\n      <td>Aguascalientes</td>\n      <td>01</td>\n      <td>Aguascalientes</td>\n      <td>001</td>\n      <td>01</td>\n      <td>Aguascalientes</td>\n      <td>001</td>\n      <td>...</td>\n      <td>NaN</td>\n      <td>NaN</td>\n      <td>NaN</td>\n      <td>C25</td>\n      <td>Tumor maligno de la cabeza del páncreas</td>\n      <td>Pancreas</td>\n      <td>C25</td>\n      <td>Tumor maligno del páncreas</td>\n      <td>Pancreas</td>\n      <td>88</td>\n    </tr>\n    <tr>\n      <th>1</th>\n      <td>01</td>\n      <td>Aguascalientes</td>\n      <td>002</td>\n      <td>Asientos</td>\n      <td>01</td>\n      <td>Aguascalientes</td>\n      <td>002</td>\n      <td>01</td>\n      <td>Aguascalientes</td>\n      <td>002</td>\n      <td>...</td>\n      <td>NaN</td>\n      <td>NaN</td>\n      <td>NaN</td>\n      <td>C22</td>\n      <td>Tumor maligno del hígado, no especificado</td>\n      <td>Liver</td>\n      <td>C22</td>\n      <td>Tumor maligno del hígado y de las vías biliare...</td>\n      <td>Liver</td>\n      <td>72</td>\n    </tr>\n    <tr>\n      <th>2</th>\n      <td>01</td>\n      <td>Aguascalientes</td>\n      <td>003</td>\n      <td>Calvillo</td>\n      <td>01</td>\n      <td>Aguascalientes</td>\n      <td>003</td>\n      <td>01</td>\n      <td>Aguascalientes</td>\n      <td>003</td>\n      <td>...</td>\n      <td>NaN</td>\n      <td>NaN</td>\n      <td>NaN</td>\n      <td>C25</td>\n      <td>Tumor maligno del páncreas, parte no especificada</td>\n      <td>Pancreas</td>\n      <td>C25</td>\n      <td>Tumor maligno del páncreas</td>\n      <td>Pancreas</td>\n      <td>44</td>\n    </tr>\n    <tr>\n      <th>3</th>\n      <td>01</td>\n      <td>Aguascalientes</td>\n      <td>003</td>\n      <td>Calvillo</td>\n      <td>01</td>\n      <td>Aguascalientes</td>\n      <td>003</td>\n      <td>01</td>\n      <td>Aguascalientes</td>\n      <td>003</td>\n      <td>...</td>\n      <td>NaN</td>\n      <td>NaN</td>\n      <td>NaN</td>\n      <td>C34</td>\n      <td>Tumor maligno de los bronquios o del pulmón, p...</td>\n      <td>Lungs</td>\n      <td>C34</td>\n      <td>Tumor maligno de la tráquea, de los bronquios ...</td>\n      <td>Lungs</td>\n      <td>50</td>\n    </tr>\n    <tr>\n      <th>4</th>\n      <td>01</td>\n      <td>Aguascalientes</td>\n      <td>003</td>\n      <td>Calvillo</td>\n      <td>01</td>\n      <td>Aguascalientes</td>\n      <td>003</td>\n      <td>01</td>\n      <td>Aguascalientes</td>\n      <td>003</td>\n      <td>...</td>\n      <td>NaN</td>\n      <td>NaN</td>\n      <td>NaN</td>\n      <td>C49</td>\n      <td>Tumor maligno de parte especificada del peritoneo</td>\n      <td>Soft Tissue</td>\n      <td>C49</td>\n      <td>Tumores malignos de los tejidos mesoteliales y...</td>\n      <td>Soft Tissue</td>\n      <td>59</td>\n    </tr>\n  </tbody>\n</table>\n<p>5 rows × 61 columns</p>\n</div>"
     },
     "metadata": {},
     "execution_count": 18
    }
   ],
   "source": [
    "#del totalCopy['mun_regis_nm']\n",
    "new_col = df_['combined']\n",
    "totalCopy.insert(3, column='mun_regis_nm', value=new_col)\n",
    "totalCopy.head()"
   ]
  },
  {
   "cell_type": "code",
   "execution_count": 19,
   "metadata": {},
   "outputs": [],
   "source": [
    "df_ = pd.DataFrame(totalCopy['ent_regis'])\n",
    "del df_['ent_regis']"
   ]
  },
  {
   "cell_type": "code",
   "execution_count": 20,
   "metadata": {},
   "outputs": [],
   "source": [
    "i=0\n",
    "for item in claves:\n",
    "    mun = currDict.loc[(currDict['Clave_Entidad'] == item)]\n",
    "    mun.set_index('Clave_Mun', inplace=True)\n",
    "    currMun = mun.to_dict()['Nombre_Municipio']\n",
    "    new_col = totalCopy.loc[totalCopy['ent_resid'] == item]['mun_resid'].map(currMun)\n",
    "    name = \"col\"+str(i)\n",
    "    df_.insert(i, column=name, value=new_col)\n",
    "    i = i+1"
   ]
  },
  {
   "cell_type": "code",
   "execution_count": 21,
   "metadata": {},
   "outputs": [
    {
     "output_type": "execute_result",
     "data": {
      "text/plain": [
       "             col0 col1 col2 col3 col4 col5 col6 col7 col8 col9  ... col24  \\\n",
       "0  Aguascalientes                                               ...         \n",
       "1        Asientos                                               ...         \n",
       "2        Calvillo                                               ...         \n",
       "3        Calvillo                                               ...         \n",
       "4        Calvillo                                               ...         \n",
       "\n",
       "  col25 col26 col27 col28 col29 col30 col31 col32        combined  \n",
       "0                                                  Aguascalientes  \n",
       "1                                                        Asientos  \n",
       "2                                                        Calvillo  \n",
       "3                                                        Calvillo  \n",
       "4                                                        Calvillo  \n",
       "\n",
       "[5 rows x 34 columns]"
      ],
      "text/html": "<div>\n<style scoped>\n    .dataframe tbody tr th:only-of-type {\n        vertical-align: middle;\n    }\n\n    .dataframe tbody tr th {\n        vertical-align: top;\n    }\n\n    .dataframe thead th {\n        text-align: right;\n    }\n</style>\n<table border=\"1\" class=\"dataframe\">\n  <thead>\n    <tr style=\"text-align: right;\">\n      <th></th>\n      <th>col0</th>\n      <th>col1</th>\n      <th>col2</th>\n      <th>col3</th>\n      <th>col4</th>\n      <th>col5</th>\n      <th>col6</th>\n      <th>col7</th>\n      <th>col8</th>\n      <th>col9</th>\n      <th>...</th>\n      <th>col24</th>\n      <th>col25</th>\n      <th>col26</th>\n      <th>col27</th>\n      <th>col28</th>\n      <th>col29</th>\n      <th>col30</th>\n      <th>col31</th>\n      <th>col32</th>\n      <th>combined</th>\n    </tr>\n  </thead>\n  <tbody>\n    <tr>\n      <th>0</th>\n      <td>Aguascalientes</td>\n      <td></td>\n      <td></td>\n      <td></td>\n      <td></td>\n      <td></td>\n      <td></td>\n      <td></td>\n      <td></td>\n      <td></td>\n      <td>...</td>\n      <td></td>\n      <td></td>\n      <td></td>\n      <td></td>\n      <td></td>\n      <td></td>\n      <td></td>\n      <td></td>\n      <td></td>\n      <td>Aguascalientes</td>\n    </tr>\n    <tr>\n      <th>1</th>\n      <td>Asientos</td>\n      <td></td>\n      <td></td>\n      <td></td>\n      <td></td>\n      <td></td>\n      <td></td>\n      <td></td>\n      <td></td>\n      <td></td>\n      <td>...</td>\n      <td></td>\n      <td></td>\n      <td></td>\n      <td></td>\n      <td></td>\n      <td></td>\n      <td></td>\n      <td></td>\n      <td></td>\n      <td>Asientos</td>\n    </tr>\n    <tr>\n      <th>2</th>\n      <td>Calvillo</td>\n      <td></td>\n      <td></td>\n      <td></td>\n      <td></td>\n      <td></td>\n      <td></td>\n      <td></td>\n      <td></td>\n      <td></td>\n      <td>...</td>\n      <td></td>\n      <td></td>\n      <td></td>\n      <td></td>\n      <td></td>\n      <td></td>\n      <td></td>\n      <td></td>\n      <td></td>\n      <td>Calvillo</td>\n    </tr>\n    <tr>\n      <th>3</th>\n      <td>Calvillo</td>\n      <td></td>\n      <td></td>\n      <td></td>\n      <td></td>\n      <td></td>\n      <td></td>\n      <td></td>\n      <td></td>\n      <td></td>\n      <td>...</td>\n      <td></td>\n      <td></td>\n      <td></td>\n      <td></td>\n      <td></td>\n      <td></td>\n      <td></td>\n      <td></td>\n      <td></td>\n      <td>Calvillo</td>\n    </tr>\n    <tr>\n      <th>4</th>\n      <td>Calvillo</td>\n      <td></td>\n      <td></td>\n      <td></td>\n      <td></td>\n      <td></td>\n      <td></td>\n      <td></td>\n      <td></td>\n      <td></td>\n      <td>...</td>\n      <td></td>\n      <td></td>\n      <td></td>\n      <td></td>\n      <td></td>\n      <td></td>\n      <td></td>\n      <td></td>\n      <td></td>\n      <td>Calvillo</td>\n    </tr>\n  </tbody>\n</table>\n<p>5 rows × 34 columns</p>\n</div>"
     },
     "metadata": {},
     "execution_count": 21
    }
   ],
   "source": [
    "df_.fillna('', inplace=True)\n",
    "df_['combined'] = df_[cols].apply(lambda row: ''.join(row.values.astype(str)), axis=1)\n",
    "df_.head()"
   ]
  },
  {
   "cell_type": "code",
   "execution_count": 22,
   "metadata": {},
   "outputs": [
    {
     "output_type": "execute_result",
     "data": {
      "text/plain": [
       "  ent_regis    ent_regis_nm mun_regis    mun_regis_nm ent_resid  \\\n",
       "0        01  Aguascalientes       001  Aguascalientes        01   \n",
       "1        01  Aguascalientes       002        Asientos        01   \n",
       "2        01  Aguascalientes       003        Calvillo        01   \n",
       "3        01  Aguascalientes       003        Calvillo        01   \n",
       "4        01  Aguascalientes       003        Calvillo        01   \n",
       "\n",
       "     ent_resid_nm mun_resid    mun_resid_nm ent_ocurr    ent_ocurr_nm  ...  \\\n",
       "0  Aguascalientes       001  Aguascalientes        01  Aguascalientes  ...   \n",
       "1  Aguascalientes       002        Asientos        01  Aguascalientes  ...   \n",
       "2  Aguascalientes       003        Calvillo        01  Aguascalientes  ...   \n",
       "3  Aguascalientes       003        Calvillo        01  Aguascalientes  ...   \n",
       "4  Aguascalientes       003        Calvillo        01  Aguascalientes  ...   \n",
       "\n",
       "  lengua cond_act loc_ocur  ICD  \\\n",
       "0    NaN      NaN      NaN  C25   \n",
       "1    NaN      NaN      NaN  C22   \n",
       "2    NaN      NaN      NaN  C25   \n",
       "3    NaN      NaN      NaN  C34   \n",
       "4    NaN      NaN      NaN  C49   \n",
       "\n",
       "                                          detailCaus        Organ  ICD_Mex  \\\n",
       "0            Tumor maligno de la cabeza del páncreas     Pancreas      C25   \n",
       "1          Tumor maligno del hígado, no especificado       Liver       C22   \n",
       "2  Tumor maligno del páncreas, parte no especificada     Pancreas      C25   \n",
       "3  Tumor maligno de los bronquios o del pulmón, p...        Lungs      C34   \n",
       "4  Tumor maligno de parte especificada del peritoneo  Soft Tissue      C49   \n",
       "\n",
       "                                      detailCaus_Mex    organ_Mex  edadCalc  \n",
       "0                         Tumor maligno del páncreas     Pancreas        88  \n",
       "1  Tumor maligno del hígado y de las vías biliare...       Liver         72  \n",
       "2                         Tumor maligno del páncreas     Pancreas        44  \n",
       "3  Tumor maligno de la tráquea, de los bronquios ...        Lungs        50  \n",
       "4  Tumores malignos de los tejidos mesoteliales y...  Soft Tissue        59  \n",
       "\n",
       "[5 rows x 62 columns]"
      ],
      "text/html": "<div>\n<style scoped>\n    .dataframe tbody tr th:only-of-type {\n        vertical-align: middle;\n    }\n\n    .dataframe tbody tr th {\n        vertical-align: top;\n    }\n\n    .dataframe thead th {\n        text-align: right;\n    }\n</style>\n<table border=\"1\" class=\"dataframe\">\n  <thead>\n    <tr style=\"text-align: right;\">\n      <th></th>\n      <th>ent_regis</th>\n      <th>ent_regis_nm</th>\n      <th>mun_regis</th>\n      <th>mun_regis_nm</th>\n      <th>ent_resid</th>\n      <th>ent_resid_nm</th>\n      <th>mun_resid</th>\n      <th>mun_resid_nm</th>\n      <th>ent_ocurr</th>\n      <th>ent_ocurr_nm</th>\n      <th>...</th>\n      <th>lengua</th>\n      <th>cond_act</th>\n      <th>loc_ocur</th>\n      <th>ICD</th>\n      <th>detailCaus</th>\n      <th>Organ</th>\n      <th>ICD_Mex</th>\n      <th>detailCaus_Mex</th>\n      <th>organ_Mex</th>\n      <th>edadCalc</th>\n    </tr>\n  </thead>\n  <tbody>\n    <tr>\n      <th>0</th>\n      <td>01</td>\n      <td>Aguascalientes</td>\n      <td>001</td>\n      <td>Aguascalientes</td>\n      <td>01</td>\n      <td>Aguascalientes</td>\n      <td>001</td>\n      <td>Aguascalientes</td>\n      <td>01</td>\n      <td>Aguascalientes</td>\n      <td>...</td>\n      <td>NaN</td>\n      <td>NaN</td>\n      <td>NaN</td>\n      <td>C25</td>\n      <td>Tumor maligno de la cabeza del páncreas</td>\n      <td>Pancreas</td>\n      <td>C25</td>\n      <td>Tumor maligno del páncreas</td>\n      <td>Pancreas</td>\n      <td>88</td>\n    </tr>\n    <tr>\n      <th>1</th>\n      <td>01</td>\n      <td>Aguascalientes</td>\n      <td>002</td>\n      <td>Asientos</td>\n      <td>01</td>\n      <td>Aguascalientes</td>\n      <td>002</td>\n      <td>Asientos</td>\n      <td>01</td>\n      <td>Aguascalientes</td>\n      <td>...</td>\n      <td>NaN</td>\n      <td>NaN</td>\n      <td>NaN</td>\n      <td>C22</td>\n      <td>Tumor maligno del hígado, no especificado</td>\n      <td>Liver</td>\n      <td>C22</td>\n      <td>Tumor maligno del hígado y de las vías biliare...</td>\n      <td>Liver</td>\n      <td>72</td>\n    </tr>\n    <tr>\n      <th>2</th>\n      <td>01</td>\n      <td>Aguascalientes</td>\n      <td>003</td>\n      <td>Calvillo</td>\n      <td>01</td>\n      <td>Aguascalientes</td>\n      <td>003</td>\n      <td>Calvillo</td>\n      <td>01</td>\n      <td>Aguascalientes</td>\n      <td>...</td>\n      <td>NaN</td>\n      <td>NaN</td>\n      <td>NaN</td>\n      <td>C25</td>\n      <td>Tumor maligno del páncreas, parte no especificada</td>\n      <td>Pancreas</td>\n      <td>C25</td>\n      <td>Tumor maligno del páncreas</td>\n      <td>Pancreas</td>\n      <td>44</td>\n    </tr>\n    <tr>\n      <th>3</th>\n      <td>01</td>\n      <td>Aguascalientes</td>\n      <td>003</td>\n      <td>Calvillo</td>\n      <td>01</td>\n      <td>Aguascalientes</td>\n      <td>003</td>\n      <td>Calvillo</td>\n      <td>01</td>\n      <td>Aguascalientes</td>\n      <td>...</td>\n      <td>NaN</td>\n      <td>NaN</td>\n      <td>NaN</td>\n      <td>C34</td>\n      <td>Tumor maligno de los bronquios o del pulmón, p...</td>\n      <td>Lungs</td>\n      <td>C34</td>\n      <td>Tumor maligno de la tráquea, de los bronquios ...</td>\n      <td>Lungs</td>\n      <td>50</td>\n    </tr>\n    <tr>\n      <th>4</th>\n      <td>01</td>\n      <td>Aguascalientes</td>\n      <td>003</td>\n      <td>Calvillo</td>\n      <td>01</td>\n      <td>Aguascalientes</td>\n      <td>003</td>\n      <td>Calvillo</td>\n      <td>01</td>\n      <td>Aguascalientes</td>\n      <td>...</td>\n      <td>NaN</td>\n      <td>NaN</td>\n      <td>NaN</td>\n      <td>C49</td>\n      <td>Tumor maligno de parte especificada del peritoneo</td>\n      <td>Soft Tissue</td>\n      <td>C49</td>\n      <td>Tumores malignos de los tejidos mesoteliales y...</td>\n      <td>Soft Tissue</td>\n      <td>59</td>\n    </tr>\n  </tbody>\n</table>\n<p>5 rows × 62 columns</p>\n</div>"
     },
     "metadata": {},
     "execution_count": 22
    }
   ],
   "source": [
    "#del totalCopy['mun_resid_nm']\n",
    "new_col = df_['combined']\n",
    "totalCopy.insert(7, column='mun_resid_nm', value=new_col)\n",
    "totalCopy.head()"
   ]
  },
  {
   "cell_type": "code",
   "execution_count": 23,
   "metadata": {},
   "outputs": [],
   "source": [
    "df_ = pd.DataFrame(totalCopy['ent_regis'])\n",
    "del df_['ent_regis']\n",
    "i=0\n",
    "for item in claves:\n",
    "    mun = currDict.loc[(currDict['Clave_Entidad'] == item)]\n",
    "    mun.set_index('Clave_Mun', inplace=True)\n",
    "    currMun = mun.to_dict()['Nombre_Municipio']\n",
    "    new_col = totalCopy.loc[totalCopy['ent_ocurr'] == item]['mun_ocurr'].map(currMun)\n",
    "    name = \"col\"+str(i)\n",
    "    df_.insert(i, column=name, value=new_col)\n",
    "    i = i+1"
   ]
  },
  {
   "cell_type": "code",
   "execution_count": 24,
   "metadata": {},
   "outputs": [
    {
     "output_type": "execute_result",
     "data": {
      "text/plain": [
       "  ent_regis    ent_regis_nm mun_regis    mun_regis_nm ent_resid  \\\n",
       "0        01  Aguascalientes       001  Aguascalientes        01   \n",
       "1        01  Aguascalientes       002        Asientos        01   \n",
       "2        01  Aguascalientes       003        Calvillo        01   \n",
       "3        01  Aguascalientes       003        Calvillo        01   \n",
       "4        01  Aguascalientes       003        Calvillo        01   \n",
       "\n",
       "     ent_resid_nm mun_resid    mun_resid_nm ent_ocurr    ent_ocurr_nm  ...  \\\n",
       "0  Aguascalientes       001  Aguascalientes        01  Aguascalientes  ...   \n",
       "1  Aguascalientes       002        Asientos        01  Aguascalientes  ...   \n",
       "2  Aguascalientes       003        Calvillo        01  Aguascalientes  ...   \n",
       "3  Aguascalientes       003        Calvillo        01  Aguascalientes  ...   \n",
       "4  Aguascalientes       003        Calvillo        01  Aguascalientes  ...   \n",
       "\n",
       "  lengua cond_act loc_ocur  ICD  \\\n",
       "0    NaN      NaN      NaN  C25   \n",
       "1    NaN      NaN      NaN  C22   \n",
       "2    NaN      NaN      NaN  C25   \n",
       "3    NaN      NaN      NaN  C34   \n",
       "4    NaN      NaN      NaN  C49   \n",
       "\n",
       "                                          detailCaus        Organ  ICD_Mex  \\\n",
       "0            Tumor maligno de la cabeza del páncreas     Pancreas      C25   \n",
       "1          Tumor maligno del hígado, no especificado       Liver       C22   \n",
       "2  Tumor maligno del páncreas, parte no especificada     Pancreas      C25   \n",
       "3  Tumor maligno de los bronquios o del pulmón, p...        Lungs      C34   \n",
       "4  Tumor maligno de parte especificada del peritoneo  Soft Tissue      C49   \n",
       "\n",
       "                                      detailCaus_Mex    organ_Mex  edadCalc  \n",
       "0                         Tumor maligno del páncreas     Pancreas        88  \n",
       "1  Tumor maligno del hígado y de las vías biliare...       Liver         72  \n",
       "2                         Tumor maligno del páncreas     Pancreas        44  \n",
       "3  Tumor maligno de la tráquea, de los bronquios ...        Lungs        50  \n",
       "4  Tumores malignos de los tejidos mesoteliales y...  Soft Tissue        59  \n",
       "\n",
       "[5 rows x 63 columns]"
      ],
      "text/html": "<div>\n<style scoped>\n    .dataframe tbody tr th:only-of-type {\n        vertical-align: middle;\n    }\n\n    .dataframe tbody tr th {\n        vertical-align: top;\n    }\n\n    .dataframe thead th {\n        text-align: right;\n    }\n</style>\n<table border=\"1\" class=\"dataframe\">\n  <thead>\n    <tr style=\"text-align: right;\">\n      <th></th>\n      <th>ent_regis</th>\n      <th>ent_regis_nm</th>\n      <th>mun_regis</th>\n      <th>mun_regis_nm</th>\n      <th>ent_resid</th>\n      <th>ent_resid_nm</th>\n      <th>mun_resid</th>\n      <th>mun_resid_nm</th>\n      <th>ent_ocurr</th>\n      <th>ent_ocurr_nm</th>\n      <th>...</th>\n      <th>lengua</th>\n      <th>cond_act</th>\n      <th>loc_ocur</th>\n      <th>ICD</th>\n      <th>detailCaus</th>\n      <th>Organ</th>\n      <th>ICD_Mex</th>\n      <th>detailCaus_Mex</th>\n      <th>organ_Mex</th>\n      <th>edadCalc</th>\n    </tr>\n  </thead>\n  <tbody>\n    <tr>\n      <th>0</th>\n      <td>01</td>\n      <td>Aguascalientes</td>\n      <td>001</td>\n      <td>Aguascalientes</td>\n      <td>01</td>\n      <td>Aguascalientes</td>\n      <td>001</td>\n      <td>Aguascalientes</td>\n      <td>01</td>\n      <td>Aguascalientes</td>\n      <td>...</td>\n      <td>NaN</td>\n      <td>NaN</td>\n      <td>NaN</td>\n      <td>C25</td>\n      <td>Tumor maligno de la cabeza del páncreas</td>\n      <td>Pancreas</td>\n      <td>C25</td>\n      <td>Tumor maligno del páncreas</td>\n      <td>Pancreas</td>\n      <td>88</td>\n    </tr>\n    <tr>\n      <th>1</th>\n      <td>01</td>\n      <td>Aguascalientes</td>\n      <td>002</td>\n      <td>Asientos</td>\n      <td>01</td>\n      <td>Aguascalientes</td>\n      <td>002</td>\n      <td>Asientos</td>\n      <td>01</td>\n      <td>Aguascalientes</td>\n      <td>...</td>\n      <td>NaN</td>\n      <td>NaN</td>\n      <td>NaN</td>\n      <td>C22</td>\n      <td>Tumor maligno del hígado, no especificado</td>\n      <td>Liver</td>\n      <td>C22</td>\n      <td>Tumor maligno del hígado y de las vías biliare...</td>\n      <td>Liver</td>\n      <td>72</td>\n    </tr>\n    <tr>\n      <th>2</th>\n      <td>01</td>\n      <td>Aguascalientes</td>\n      <td>003</td>\n      <td>Calvillo</td>\n      <td>01</td>\n      <td>Aguascalientes</td>\n      <td>003</td>\n      <td>Calvillo</td>\n      <td>01</td>\n      <td>Aguascalientes</td>\n      <td>...</td>\n      <td>NaN</td>\n      <td>NaN</td>\n      <td>NaN</td>\n      <td>C25</td>\n      <td>Tumor maligno del páncreas, parte no especificada</td>\n      <td>Pancreas</td>\n      <td>C25</td>\n      <td>Tumor maligno del páncreas</td>\n      <td>Pancreas</td>\n      <td>44</td>\n    </tr>\n    <tr>\n      <th>3</th>\n      <td>01</td>\n      <td>Aguascalientes</td>\n      <td>003</td>\n      <td>Calvillo</td>\n      <td>01</td>\n      <td>Aguascalientes</td>\n      <td>003</td>\n      <td>Calvillo</td>\n      <td>01</td>\n      <td>Aguascalientes</td>\n      <td>...</td>\n      <td>NaN</td>\n      <td>NaN</td>\n      <td>NaN</td>\n      <td>C34</td>\n      <td>Tumor maligno de los bronquios o del pulmón, p...</td>\n      <td>Lungs</td>\n      <td>C34</td>\n      <td>Tumor maligno de la tráquea, de los bronquios ...</td>\n      <td>Lungs</td>\n      <td>50</td>\n    </tr>\n    <tr>\n      <th>4</th>\n      <td>01</td>\n      <td>Aguascalientes</td>\n      <td>003</td>\n      <td>Calvillo</td>\n      <td>01</td>\n      <td>Aguascalientes</td>\n      <td>003</td>\n      <td>Calvillo</td>\n      <td>01</td>\n      <td>Aguascalientes</td>\n      <td>...</td>\n      <td>NaN</td>\n      <td>NaN</td>\n      <td>NaN</td>\n      <td>C49</td>\n      <td>Tumor maligno de parte especificada del peritoneo</td>\n      <td>Soft Tissue</td>\n      <td>C49</td>\n      <td>Tumores malignos de los tejidos mesoteliales y...</td>\n      <td>Soft Tissue</td>\n      <td>59</td>\n    </tr>\n  </tbody>\n</table>\n<p>5 rows × 63 columns</p>\n</div>"
     },
     "metadata": {},
     "execution_count": 24
    }
   ],
   "source": [
    "#del totalCopy['mun_ocurr_nm']\n",
    "df_.fillna('', inplace=True)\n",
    "df_['combined'] = df_[cols].apply(lambda row: ''.join(row.values.astype(str)), axis=1)\n",
    "new_col = df_['combined']\n",
    "totalCopy.insert(11, column='mun_ocurr_nm', value=new_col)\n",
    "totalCopy.head()"
   ]
  },
  {
   "source": [
    "## Merge state codes and mun codes for polygon generation later"
   ],
   "cell_type": "markdown",
   "metadata": {}
  },
  {
   "cell_type": "code",
   "execution_count": 25,
   "metadata": {},
   "outputs": [
    {
     "output_type": "execute_result",
     "data": {
      "text/plain": [
       "  ent_regis    ent_regis_nm mun_regis    mun_regis_nm ent_resid  \\\n",
       "0        01  Aguascalientes     01001  Aguascalientes        01   \n",
       "1        01  Aguascalientes     01002        Asientos        01   \n",
       "2        01  Aguascalientes     01003        Calvillo        01   \n",
       "3        01  Aguascalientes     01003        Calvillo        01   \n",
       "4        01  Aguascalientes     01003        Calvillo        01   \n",
       "\n",
       "     ent_resid_nm mun_resid    mun_resid_nm ent_ocurr    ent_ocurr_nm  ...  \\\n",
       "0  Aguascalientes     01001  Aguascalientes        01  Aguascalientes  ...   \n",
       "1  Aguascalientes     01002        Asientos        01  Aguascalientes  ...   \n",
       "2  Aguascalientes     01003        Calvillo        01  Aguascalientes  ...   \n",
       "3  Aguascalientes     01003        Calvillo        01  Aguascalientes  ...   \n",
       "4  Aguascalientes     01003        Calvillo        01  Aguascalientes  ...   \n",
       "\n",
       "  lengua cond_act loc_ocur  ICD  \\\n",
       "0    NaN      NaN      NaN  C25   \n",
       "1    NaN      NaN      NaN  C22   \n",
       "2    NaN      NaN      NaN  C25   \n",
       "3    NaN      NaN      NaN  C34   \n",
       "4    NaN      NaN      NaN  C49   \n",
       "\n",
       "                                          detailCaus        Organ  ICD_Mex  \\\n",
       "0            Tumor maligno de la cabeza del páncreas     Pancreas      C25   \n",
       "1          Tumor maligno del hígado, no especificado       Liver       C22   \n",
       "2  Tumor maligno del páncreas, parte no especificada     Pancreas      C25   \n",
       "3  Tumor maligno de los bronquios o del pulmón, p...        Lungs      C34   \n",
       "4  Tumor maligno de parte especificada del peritoneo  Soft Tissue      C49   \n",
       "\n",
       "                                      detailCaus_Mex    organ_Mex  edadCalc  \n",
       "0                         Tumor maligno del páncreas     Pancreas        88  \n",
       "1  Tumor maligno del hígado y de las vías biliare...       Liver         72  \n",
       "2                         Tumor maligno del páncreas     Pancreas        44  \n",
       "3  Tumor maligno de la tráquea, de los bronquios ...        Lungs        50  \n",
       "4  Tumores malignos de los tejidos mesoteliales y...  Soft Tissue        59  \n",
       "\n",
       "[5 rows x 63 columns]"
      ],
      "text/html": "<div>\n<style scoped>\n    .dataframe tbody tr th:only-of-type {\n        vertical-align: middle;\n    }\n\n    .dataframe tbody tr th {\n        vertical-align: top;\n    }\n\n    .dataframe thead th {\n        text-align: right;\n    }\n</style>\n<table border=\"1\" class=\"dataframe\">\n  <thead>\n    <tr style=\"text-align: right;\">\n      <th></th>\n      <th>ent_regis</th>\n      <th>ent_regis_nm</th>\n      <th>mun_regis</th>\n      <th>mun_regis_nm</th>\n      <th>ent_resid</th>\n      <th>ent_resid_nm</th>\n      <th>mun_resid</th>\n      <th>mun_resid_nm</th>\n      <th>ent_ocurr</th>\n      <th>ent_ocurr_nm</th>\n      <th>...</th>\n      <th>lengua</th>\n      <th>cond_act</th>\n      <th>loc_ocur</th>\n      <th>ICD</th>\n      <th>detailCaus</th>\n      <th>Organ</th>\n      <th>ICD_Mex</th>\n      <th>detailCaus_Mex</th>\n      <th>organ_Mex</th>\n      <th>edadCalc</th>\n    </tr>\n  </thead>\n  <tbody>\n    <tr>\n      <th>0</th>\n      <td>01</td>\n      <td>Aguascalientes</td>\n      <td>01001</td>\n      <td>Aguascalientes</td>\n      <td>01</td>\n      <td>Aguascalientes</td>\n      <td>01001</td>\n      <td>Aguascalientes</td>\n      <td>01</td>\n      <td>Aguascalientes</td>\n      <td>...</td>\n      <td>NaN</td>\n      <td>NaN</td>\n      <td>NaN</td>\n      <td>C25</td>\n      <td>Tumor maligno de la cabeza del páncreas</td>\n      <td>Pancreas</td>\n      <td>C25</td>\n      <td>Tumor maligno del páncreas</td>\n      <td>Pancreas</td>\n      <td>88</td>\n    </tr>\n    <tr>\n      <th>1</th>\n      <td>01</td>\n      <td>Aguascalientes</td>\n      <td>01002</td>\n      <td>Asientos</td>\n      <td>01</td>\n      <td>Aguascalientes</td>\n      <td>01002</td>\n      <td>Asientos</td>\n      <td>01</td>\n      <td>Aguascalientes</td>\n      <td>...</td>\n      <td>NaN</td>\n      <td>NaN</td>\n      <td>NaN</td>\n      <td>C22</td>\n      <td>Tumor maligno del hígado, no especificado</td>\n      <td>Liver</td>\n      <td>C22</td>\n      <td>Tumor maligno del hígado y de las vías biliare...</td>\n      <td>Liver</td>\n      <td>72</td>\n    </tr>\n    <tr>\n      <th>2</th>\n      <td>01</td>\n      <td>Aguascalientes</td>\n      <td>01003</td>\n      <td>Calvillo</td>\n      <td>01</td>\n      <td>Aguascalientes</td>\n      <td>01003</td>\n      <td>Calvillo</td>\n      <td>01</td>\n      <td>Aguascalientes</td>\n      <td>...</td>\n      <td>NaN</td>\n      <td>NaN</td>\n      <td>NaN</td>\n      <td>C25</td>\n      <td>Tumor maligno del páncreas, parte no especificada</td>\n      <td>Pancreas</td>\n      <td>C25</td>\n      <td>Tumor maligno del páncreas</td>\n      <td>Pancreas</td>\n      <td>44</td>\n    </tr>\n    <tr>\n      <th>3</th>\n      <td>01</td>\n      <td>Aguascalientes</td>\n      <td>01003</td>\n      <td>Calvillo</td>\n      <td>01</td>\n      <td>Aguascalientes</td>\n      <td>01003</td>\n      <td>Calvillo</td>\n      <td>01</td>\n      <td>Aguascalientes</td>\n      <td>...</td>\n      <td>NaN</td>\n      <td>NaN</td>\n      <td>NaN</td>\n      <td>C34</td>\n      <td>Tumor maligno de los bronquios o del pulmón, p...</td>\n      <td>Lungs</td>\n      <td>C34</td>\n      <td>Tumor maligno de la tráquea, de los bronquios ...</td>\n      <td>Lungs</td>\n      <td>50</td>\n    </tr>\n    <tr>\n      <th>4</th>\n      <td>01</td>\n      <td>Aguascalientes</td>\n      <td>01003</td>\n      <td>Calvillo</td>\n      <td>01</td>\n      <td>Aguascalientes</td>\n      <td>01003</td>\n      <td>Calvillo</td>\n      <td>01</td>\n      <td>Aguascalientes</td>\n      <td>...</td>\n      <td>NaN</td>\n      <td>NaN</td>\n      <td>NaN</td>\n      <td>C49</td>\n      <td>Tumor maligno de parte especificada del peritoneo</td>\n      <td>Soft Tissue</td>\n      <td>C49</td>\n      <td>Tumores malignos de los tejidos mesoteliales y...</td>\n      <td>Soft Tissue</td>\n      <td>59</td>\n    </tr>\n  </tbody>\n</table>\n<p>5 rows × 63 columns</p>\n</div>"
     },
     "metadata": {},
     "execution_count": 25
    }
   ],
   "source": [
    "cols = ['ent_regis', 'mun_regis']\n",
    "totalCopy['mun_regis'] = totalCopy[cols].apply(lambda row: ''.join(row.values.astype(str)), axis=1)\n",
    "\n",
    "cols = ['ent_resid', 'mun_resid']\n",
    "totalCopy['mun_resid'] = totalCopy[cols].apply(lambda row: ''.join(row.values.astype(str)), axis=1)\n",
    "\n",
    "cols = ['ent_ocurr', 'mun_ocurr']\n",
    "totalCopy['mun_ocurr'] = totalCopy[cols].apply(lambda row: ''.join(row.values.astype(str)), axis=1)\n",
    "\n",
    "totalCopy.head()"
   ]
  },
  {
   "source": [
    "## Final Clean, drop useless columns"
   ],
   "cell_type": "markdown",
   "metadata": {}
  },
  {
   "cell_type": "code",
   "execution_count": 26,
   "metadata": {},
   "outputs": [],
   "source": [
    "totalCopy.drop(columns=['lugar_ocur', 'ocurr_trab','presunto','derechohab','edad_agru','asist_medi','necropsia','capitulo','vio_fami','lista1','gr_lismex'],inplace=True)"
   ]
  },
  {
   "cell_type": "code",
   "execution_count": 27,
   "metadata": {},
   "outputs": [],
   "source": [
    "totalCopy.drop(columns=['cond_cert','grupo','cond_act','cond_cert','edadCalc'],inplace=True)"
   ]
  },
  {
   "cell_type": "code",
   "execution_count": 28,
   "metadata": {},
   "outputs": [],
   "source": [
    "totalCopy.drop(columns=['dia_cert', 'mes_cert', 'anio_cert','sitio_ocur', 'horas', 'minutos'],inplace=True)"
   ]
  },
  {
   "cell_type": "code",
   "execution_count": 29,
   "metadata": {},
   "outputs": [
    {
     "output_type": "execute_result",
     "data": {
      "text/plain": [
       "'c:\\\\Users\\\\David Fernandez\\\\Desktop\\\\cancerDataAnalysis\\\\codec\\\\TotalCleanedTest.csv'"
      ]
     },
     "metadata": {},
     "execution_count": 29
    }
   ],
   "source": [
    "#override Test\n",
    "pPath = dirname(dirname(os.getcwd()))+'\\\\codec\\\\TotalCleanedTest.csv'\n",
    "dPath = dirname(dirname(os.getcwd()))+'\\\\CleansingNotebooks\\\\TotalCleanedTest.csv'\n",
    "os.remove(dPath)\n",
    "totalCopy.to_csv(pPath)\n",
    "pPath"
   ]
  },
  {
   "cell_type": "code",
   "execution_count": null,
   "metadata": {},
   "outputs": [],
   "source": []
  }
 ]
}